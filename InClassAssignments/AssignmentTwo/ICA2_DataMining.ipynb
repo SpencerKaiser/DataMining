{
 "metadata": {
  "name": "",
  "signature": "sha256:374162cd33fd0f63d6123653932e5328ad0a6bb8dd9884e1b2aee33e34a1fa0b"
 },
 "nbformat": 3,
 "nbformat_minor": 0,
 "worksheets": [
  {
   "cells": [
    {
     "cell_type": "markdown",
     "metadata": {},
     "source": [
      "Spencer Kaiser (28750375)\n",
      "________\n",
      "\n",
      "#In Class Assignment Two\n",
      "In the following assignment you will be asked to fill in python code and derivations for a number of different problems. Please read all instructions carefully and turn in the rendered notebook (.ipynb file, remember to save it!!) or HTML of the rendered notebook to blackboard before the end of class.\n",
      "\n",
      "**Distance Students**: please finish this assignment in 1 hour and 30 minutes. Turn in before next class per the instructions on blackboard.\n",
      "\n",
      "________________________________________________________________________________________________________\n",
      "\n",
      "##Loading the Classification Data\n",
      "Please run the following code to read in the \"digits\" dataset from sklearn's data loading module."
     ]
    },
    {
     "cell_type": "code",
     "collapsed": false,
     "input": [
      "from sklearn.datasets import load_digits\n",
      "import numpy as np\n",
      "\n",
      "ds = load_digits()\n",
      "\n",
      "# this holds the continuous feature data\n",
      "print 'features shape:', ds.data.shape # there are 1797 instances and 64 features per instance\n",
      "print 'target shape:', ds.target.shape \n",
      "print 'range of target:', np.min(ds.target),np.max(ds.target)"
     ],
     "language": "python",
     "metadata": {},
     "outputs": [
      {
       "output_type": "stream",
       "stream": "stdout",
       "text": [
        "features shape: (1797, 64)\n",
        "target shape: (1797,)\n",
        "range of target: 0 9\n"
       ]
      }
     ],
     "prompt_number": 44
    },
    {
     "cell_type": "markdown",
     "metadata": {},
     "source": [
      "________________________________________________________________________________________________________\n",
      "\n",
      "##Using Decision Trees\n",
      "In the videos, we talked about the splitting conditions for different attributes. Specifically, we discussed the number of ways in which it is possible to split a node, depending on the attribute types. To understand the possible splits, we need to understand the attributes. You might find the description in the `ds['DESCR']` field to be useful. You can see the field using `print ds['DESCR'] `\n",
      "\n",
      "**Question 1:** For the digits dataset, what are the type(s) of the attributes? How many attributes are there? What do they represent?\n"
     ]
    },
    {
     "cell_type": "markdown",
     "metadata": {},
     "source": [
      "From the documentation (http://archive.ics.uci.edu/ml/datasets/Optical+Recognition+of+Handwritten+Digits):\n",
      "\n",
      "<strong>Attribute Types</strong>: \"All input attributes are integers in the range 0..16. The last attribute is the class code 0..9\"\n",
      "\n",
      "<strong>Number of Attributes</strong>: 64 input+1 class attribute\n",
      "\n",
      "<strong>Representation</strong>: Each attribute represents a portion of a bitmap of a piece of an image of a handwritten number. These bits are used to calculate the target class which is the decimal value the handwriting in the image represents.\n"
     ]
    },
    {
     "cell_type": "code",
     "collapsed": false,
     "input": [
      "print ds['DESCR']"
     ],
     "language": "python",
     "metadata": {},
     "outputs": [
      {
       "output_type": "stream",
       "stream": "stdout",
       "text": [
        " Optical Recognition of Handwritten Digits Data Set\n",
        "\n",
        "Notes\n",
        "-----\n",
        "Data Set Characteristics:\n",
        "    :Number of Instances: 5620\n",
        "    :Number of Attributes: 64\n",
        "    :Attribute Information: 8x8 image of integer pixels in the range 0..16.\n",
        "    :Missing Attribute Values: None\n",
        "    :Creator: E. Alpaydin (alpaydin '@' boun.edu.tr)\n",
        "    :Date: July; 1998\n",
        "\n",
        "This is a copy of the test set of the UCI ML hand-written digits datasets\n",
        "http://archive.ics.uci.edu/ml/datasets/Optical+Recognition+of+Handwritten+Digits\n",
        "\n",
        "The data set contains images of hand-written digits: 10 classes where\n",
        "each class refers to a digit.\n",
        "\n",
        "Preprocessing programs made available by NIST were used to extract\n",
        "normalized bitmaps of handwritten digits from a preprinted form. From a\n",
        "total of 43 people, 30 contributed to the training set and different 13\n",
        "to the test set. 32x32 bitmaps are divided into nonoverlapping blocks of\n",
        "4x4 and the number of on pixels are counted in each block. This generates\n",
        "an input matrix of 8x8 where each element is an integer in the range\n",
        "0..16. This reduces dimensionality and gives invariance to small\n",
        "distortions.\n",
        "\n",
        "For info on NIST preprocessing routines, see M. D. Garris, J. L. Blue, G.\n",
        "T. Candela, D. L. Dimmick, J. Geist, P. J. Grother, S. A. Janet, and C.\n",
        "L. Wilson, NIST Form-Based Handprint Recognition System, NISTIR 5469,\n",
        "1994.\n",
        "\n",
        "References\n",
        "----------\n",
        "  - C. Kaynak (1995) Methods of Combining Multiple Classifiers and Their\n",
        "    Applications to Handwritten Digit Recognition, MSc Thesis, Institute of\n",
        "    Graduate Studies in Science and Engineering, Bogazici University.\n",
        "  - E. Alpaydin, C. Kaynak (1998) Cascading Classifiers, Kybernetika.\n",
        "  - Ken Tang and Ponnuthurai N. Suganthan and Xi Yao and A. Kai Qin.\n",
        "    Linear dimensionalityreduction using relevance weighted LDA. School of\n",
        "    Electrical and Electronic Engineering Nanyang Technological University.\n",
        "    2005.\n",
        "  - Claudio Gentile. A New Approximate Maximal Margin Classification\n",
        "    Algorithm. NIPS. 2000.\n",
        "\n"
       ]
      }
     ],
     "prompt_number": 45
    },
    {
     "cell_type": "markdown",
     "metadata": {},
     "source": [
      "___\n",
      "##Using the gini coefficient\n",
      "We talked about the gini index in the videos.  The gini coefficient for a given split is given by:\n",
      "$$Gini=\\sum_{t=1}^T \\frac{n_t}{N}gini(t)$$\n",
      "where $T$ is the total number splits (2 for binary attributes), $n_t$ is the number of instances in node $t$ after splitting, and $N$ is the total number of instances in the parent node. $gini(t)$ is the gini index for the resulting node and is given by:\n",
      "$$gini(t)=1-\\sum_{j=0}^{C-1} p(j|t)^2$$\n",
      "where $C$ is the total number of possible classes and $p(j|t)$ is the count of instances belonging to class $j$ in node $t$, normalized by the total number of instances in node $t$ (i.e., the probability of class $j$ in node $t$).\n",
      "\n",
      "For the given dataset, $gini(t)$ has been programmed for you in the function `gini_index`. To use the function, pass in a `numpy` array of the class values for a given node and the gini will be returned. In the example below, the function is used calculate the gini for splitting the dataset on feature 28, with value 2.5. \n",
      "- First all the target classes for a split are calculated using `numpy` indexing `ds.target[feature28>2.5]` \n",
      " - Note: this grabs all the classes which have feature28 greater than 2.5\n",
      "- Second, those classes are passed into the function to get the gini for going right in the tree (i.e., feature 28 being greater than the threshold 2.5). \n",
      " - `gini_r = gini_index(ds.target[feature28>2.5])`\n",
      "- Third, the gini is calculated for going left in the tree. \n",
      "     - `gini_l = gini_index(ds.target[feature28<=2.5])`\n",
      "- Combining the gini indices is left as an exercise in the next section"
     ]
    },
    {
     "cell_type": "code",
     "collapsed": false,
     "input": [
      "# compute the gini of several examples for the starting dataset\n",
      "\n",
      "def gini_index(classes_in_split):\n",
      "    # pay no attention to this code -- it just computes the gini for a given split \n",
      "    classes_in_split = np.reshape(classes_in_split,(len(classes_in_split),-1))\n",
      "    unique_classes = np.unique(classes_in_split)\n",
      "    gini = 1\n",
      "    for c in unique_classes:\n",
      "        gini -= (np.sum(classes_in_split==c) / float(len(classes_in_split)))**2\n",
      "        \n",
      "    return gini\n",
      "    \n",
      "# get the value for this feature as a column vector \n",
      "# (this is like grabbing one column of the record table)\n",
      "feature28 = ds.data[:,28]\n",
      "\n",
      "# if we split on the value of 2.5, then this is the gini for each resulting node:\n",
      "gini_r = gini_index(ds.target[feature28>2.5])\n",
      "gini_l = gini_index(ds.target[feature28<=2.5])\n",
      "\n",
      "# compute gini example. This splits on attribute '28' with a value of 2.5\n",
      "print 'gini for right node of split:', gini_r\n",
      "print 'gini for left node of split:', gini_l"
     ],
     "language": "python",
     "metadata": {},
     "outputs": [
      {
       "output_type": "stream",
       "stream": "stdout",
       "text": [
        "gini for right node of split: 0.884585786767\n",
        "gini for left node of split: 0.711540756654\n"
       ]
      }
     ],
     "prompt_number": 46
    },
    {
     "cell_type": "markdown",
     "metadata": {},
     "source": [
      "**Question 2:** Now, using the above values `gini_r` and `gini_l`. Calculate the combined Gini for the entire split. You will need to write the weighted summation (based upon the number of instances inside each node). To count the number of instances greater than a value using numpy, you can write `sum(some_array>5)` where `some_array` is an array of values and we want to now how many are greater than `5`."
     ]
    },
    {
     "cell_type": "code",
     "collapsed": false,
     "input": [
      "rightNum = sum(feature28>2.5)\n",
      "leftNum = sum(feature28<=2.5)\n",
      "totalNum = rightNum + leftNum\n",
      "\n",
      "print \"Number of instances in RIGHT NODE:\", rightNum\n",
      "print \"Number of instances in LEFT NODE:\", leftNum\n",
      "\n",
      "\n",
      "totalGini = (float(rightNum)/float(totalNum))*float(gini_r) + (float(leftNum)/float(totalNum))*(gini_l)\n",
      "\n",
      "print \"Gini for Split:\", totalGini"
     ],
     "language": "python",
     "metadata": {},
     "outputs": [
      {
       "output_type": "stream",
       "stream": "stdout",
       "text": [
        "Number of instances in RIGHT NODE: 1398\n",
        "Number of instances in LEFT NODE: 399\n",
        "Gini for Split: 0.846163434505\n"
       ]
      }
     ],
     "prompt_number": 47
    },
    {
     "cell_type": "markdown",
     "metadata": {},
     "source": [
      "___\n",
      "**Question 3:** Now we want to know which is a better split, `feature28 -> 2.5` or `feature28 -> 10`.  Enter your code to find the total gini of splitting on the threshold of 10 and compare it to the threshold for 2.5 for feature 28 (saved to variable `feature28`). According to gini, which threshold is better, 2.5 or 10.0?"
     ]
    },
    {
     "cell_type": "code",
     "collapsed": false,
     "input": [
      "splitPoint = 10.0\n",
      "\n",
      "gini_r_new = gini_index(ds.target[feature28>splitPoint])\n",
      "gini_l_new = gini_index(ds.target[feature28<=splitPoint])\n",
      "\n",
      "print 'gini for right node of split:', gini_r_new\n",
      "print 'gini for left node of split:', gini_l_new\n",
      "\n",
      "rightNum = sum(feature28>splitPoint)\n",
      "leftNum = sum(feature28<=splitPoint)\n",
      "totalNum = rightNum + leftNum\n",
      "\n",
      "totalGini_new = (float(rightNum)/float(totalNum))*float(gini_r) + (float(leftNum)/float(totalNum))*(gini_l)\n",
      "\n",
      "print \"Gini for Split:\", totalGini_new\n",
      "\n",
      "print \"According to Gini, splitting @ 10.0 is better than splitting @ 2.5 (\", totalGini - totalGini_new ,\")\""
     ],
     "language": "python",
     "metadata": {},
     "outputs": [
      {
       "output_type": "stream",
       "stream": "stdout",
       "text": [
        "gini for right node of split: 0.87371868706\n",
        "gini for left node of split: 0.849629561877\n",
        "Gini for Split: 0.81197813362\n",
        "According to Gini, splitting @ 10.0 is better than splitting @ 2.5 ( 0.0341853008849 )\n"
       ]
      }
     ],
     "prompt_number": 48
    },
    {
     "cell_type": "markdown",
     "metadata": {},
     "source": [
      "___\n",
      "## Entropy based splitting\n",
      "We discussed entropy as well in the video as another means of splitting. We calculated entropy for a node $t$ by:\n",
      "$$ Entropy(t) = -\\sum p(j|t) \\log p(j|t) $$\n",
      "where $p(j|t)$ is the same as above. To combine Entropy measures from a set of nodes, t = {1,...,T} we use: \n",
      "$$Entropy_{split}=\\sum_{t=1}^T \\frac{n_t}{N}Entropy(t)$$ \n",
      "where $n_t$ and $N$ are the same as defined above for the $Gini$. Information gain is calculated by subtracting the Entropy of the split from the Entropy of the parent node before splitting:\n",
      "$$InfoGain = Entropy(p)-Entropy_{split}$$\n",
      "where $p$ is the parent node before splitting. You are given an equation for calculating the $Entropy(t)$ of  node $t$. It works exactly like the `gini_index` function above, but is named `entropy_value`. "
     ]
    },
    {
     "cell_type": "code",
     "collapsed": false,
     "input": [
      "def entropy_value(classes_in_split):\n",
      "    # pay no attention to this code -- it just computes the gini for a given split \n",
      "    classes_in_split = np.reshape(classes_in_split,(len(classes_in_split),-1))\n",
      "    unique_classes = np.unique(classes_in_split)\n",
      "    ent = 0\n",
      "    for c in unique_classes:\n",
      "        p = (np.sum(classes_in_split==c) / float(len(classes_in_split)))\n",
      "        ent += p * np.log(p)\n",
      "        \n",
      "    return -ent\n",
      "\n",
      "ent_r = entropy_value(ds.target[feature28>2.5])\n",
      "ent_l = entropy_value(ds.target[feature28<=2.5])\n",
      "\n",
      "# compute entropy example. This splits on attribute '28' with a value of 2.5\n",
      "print 'entropy for right node of split:', ent_r\n",
      "print 'entropy for left node of split:', ent_l"
     ],
     "language": "python",
     "metadata": {},
     "outputs": [
      {
       "output_type": "stream",
       "stream": "stdout",
       "text": [
        "entropy for right node of split: 2.18369753782\n",
        "entropy for left node of split: 1.48988814128\n"
       ]
      }
     ],
     "prompt_number": 55
    },
    {
     "cell_type": "markdown",
     "metadata": {},
     "source": [
      "___\n",
      "**Question 4:** Calculate the information gain of the split when the threshold is 2.5 on `feature28`. What is the value of the information gain?"
     ]
    },
    {
     "cell_type": "code",
     "collapsed": false,
     "input": [
      "splitPoint = 2.5\n",
      "rightNum = sum(feature28>splitPoint)\n",
      "leftNum = sum(feature28<=splitPoint)\n",
      "totalNum = rightNum + leftNum\n",
      "\n",
      "ent_split = (float(rightNum)/float(totalNum))*float(ent_r) + (float(leftNum)/float(totalNum))*(ent_l)\n",
      "\n",
      "ent_parent = entropy_value(ds.target)\n",
      "\n",
      "information_gain = ent_parent - ent_split\n",
      "\n",
      "print \"Information Gain @\",splitPoint,\":\", information_gain"
     ],
     "language": "python",
     "metadata": {},
     "outputs": [
      {
       "output_type": "stream",
       "stream": "stdout",
       "text": [
        "Information Gain @ 2.5 : 0.323359426403\n"
       ]
      }
     ],
     "prompt_number": 59
    },
    {
     "cell_type": "markdown",
     "metadata": {},
     "source": [
      "**Question 5:** What is the information gain if the threshold is 10.0 on `feature28`? According to information gain, is it better to split on a threshold of 2.5 or 10? Does entropy give the same decision as gini for this example?"
     ]
    },
    {
     "cell_type": "code",
     "collapsed": false,
     "input": [
      "ent_r = entropy_value(ds.target[feature28>splitPoint])\n",
      "ent_l = entropy_value(ds.target[feature28<=splitPoint])\n",
      "\n",
      "splitPoint = 10.0\n",
      "rightNum = sum(feature28>splitPoint)\n",
      "leftNum = sum(feature28<=splitPoint)\n",
      "totalNum = rightNum + leftNum\n",
      "\n",
      "ent_split = (float(rightNum)/float(totalNum))*float(ent_r) + (float(leftNum)/float(totalNum))*(ent_l)\n",
      "\n",
      "ent_parent = entropy_value(ds.target)\n",
      "\n",
      "information_gain = ent_parent - ent_split\n",
      "\n",
      "print \"Information Gain @\",splitPoint,\":\", information_gain"
     ],
     "language": "python",
     "metadata": {},
     "outputs": [
      {
       "output_type": "stream",
       "stream": "stdout",
       "text": [
        "Information Gain @ 10.0 : 0.409895920761\n"
       ]
      }
     ],
     "prompt_number": 60
    },
    {
     "cell_type": "markdown",
     "metadata": {},
     "source": [
      "___\n",
      "##Information gain and multi-way splitting\n",
      "Now assume that we can use not just a binary split, but a three way split. \n",
      "\n",
      "**Question 6** What is the information gain if we split feature28 on two thesholds (three separate nodes corresponding to three branches from one node) \n",
      "- node left: `feature28<2.5`, \n",
      "- node middle: `2.5<=feature28<10`, and \n",
      "- node right: `10<=feature28`? \n",
      "\n",
      "Is the information gain better? \n",
      "\n",
      "\n",
      "***Note***: You can index into a numpy array with the following notation: `some_array[(2.5<=feature28) & (feature28<10.0)]`"
     ]
    },
    {
     "cell_type": "code",
     "collapsed": false,
     "input": [
      "feature28 = ds.data[:,28]\n",
      "\n",
      "left = 2.5\n",
      "right = 10.0\n",
      "\n",
      "ent_r = entropy_value(ds.target[feature28>=right])\n",
      "ent_mid = entropy_value(ds.target[(left<=feature28) & (feature28<right)])\n",
      "ent_l = entropy_value(ds.target[feature28<left])\n",
      "\n",
      "rightNum = sum(feature28>=right)\n",
      "midNum = sum((left<=feature28) & (feature28<right))\n",
      "leftNum = sum(feature28<left)\n",
      "totalNum = rightNum + leftNum + midNum\n",
      "\n",
      "right_ent = (float(rightNum)/float(totalNum))*float(ent_r)\n",
      "mid_ent = (float(midNum)/float(totalNum))*float(ent_mid)\n",
      "left_ent = (float(leftNum)/float(totalNum))*(ent_l)\n",
      "\n",
      "ent_split = right_ent + mid_ent + left_ent\n",
      "\n",
      "ent_parent = entropy_value(ds.target)\n",
      "\n",
      "information_gain = ent_parent - ent_split\n",
      "\n",
      "print \"Information Gain @\",splitPoint,\":\", information_gain"
     ],
     "language": "python",
     "metadata": {},
     "outputs": [
      {
       "output_type": "stream",
       "stream": "stdout",
       "text": [
        "Information Gain @ 10.0 : 0.317189099912\n"
       ]
      }
     ],
     "prompt_number": 61
    },
    {
     "cell_type": "markdown",
     "metadata": {},
     "source": [
      "**Question 7**: Should we normalize the quantity that we just calculated if we want to compare it to the information gain of a binary split? Why or Why not?"
     ]
    },
    {
     "cell_type": "markdown",
     "metadata": {},
     "source": [
      "Yes we should... regardless of whether or not we are placing weight on the entropy of each child-node, we are still breaking it down into smaller pieces than the original model. As a result, we are going to get less and less entropy as we add additional nodes for each parent.\n",
      "\n",
      "Note: I know what I want to say for this but I'm not really sure how to put it into words. Hoepfully this answer is along the lines of what you were looking for!"
     ]
    },
    {
     "cell_type": "markdown",
     "metadata": {},
     "source": [
      "___\n",
      "##Decision Trees in scikit-learn\n",
      "Scikit-learn also has an implementation of decision trees. Its available here:\n",
      "- http://scikit-learn.org/stable/modules/generated/sklearn.tree.DecisionTreeClassifier.html#sklearn.tree.DecisionTreeClassifier\n",
      "\n",
      "**Question 8**: What algorithm does scikit-learn use for creating decision trees (i.e., ID3, C4.5, C5.0, CART, MARS, CHAID, etc.)? "
     ]
    },
    {
     "cell_type": "markdown",
     "metadata": {},
     "source": [
      "\"scikit-learn uses an optimised version of the CART algorithm.\" [Source: http://scikit-learn.org/stable/modules/tree.html]"
     ]
    },
    {
     "cell_type": "markdown",
     "metadata": {},
     "source": [
      "___\n",
      "**Question 9**: Using the documentation, use scikit-learn to train a decision tree on the digits data. Calculate the accuracy on the training data. What is the accuracy? Did you expect the decision tree to have this kind of accuracy? Why or Why not?"
     ]
    },
    {
     "cell_type": "code",
     "collapsed": false,
     "input": [
      "# use scikit learn to train a decision tree\n",
      "from sklearn.tree import DecisionTreeClassifier\n",
      "\n",
      "# enter your code below here to train and predict on the same data\n",
      "\n",
      "clf = DecisionTreeClassifier(random_state=0)\n",
      "\n",
      "clf.fit(ds.data, ds.target)\n",
      "\n",
      "acc = clf.score(ds.data, ds.target, sample_weight=None)\n",
      "\n",
      "# enter your code above here\n",
      "\n",
      "from sklearn.metrics import accuracy_score \n",
      "\n",
      "# enter your code below here to calculate accuracy\n",
      "print 'accuracy:', acc\n",
      "print 'I was shocked at the accuracy because I could not imagine we could get 100% accuracy'\n",
      "print '... then I asked Carly and she informed me that it was because the model was training/testing on the same data set'\n",
      "print '... now I feel dumb...'\n",
      "print '... then I looked at the next question which clearly describes OVERLEARNING'\n",
      "print 'I am so smart... S M R T'\n",
      "# enter your code above here"
     ],
     "language": "python",
     "metadata": {},
     "outputs": [
      {
       "output_type": "stream",
       "stream": "stdout",
       "text": [
        "accuracy: 1.0\n",
        "I was shocked at the accuracy because I could not imagine we could get 100% accuracy\n",
        "... then I asked Carly and she informed me that it was because the model was training/testing on the same data set\n",
        "... now I feel dumb...\n",
        "... then I looked at the next question which clearly describes OVERLEARNING\n",
        "I am so smart... S M R T\n"
       ]
      }
     ],
     "prompt_number": 62
    },
    {
     "cell_type": "markdown",
     "metadata": {},
     "source": [
      "___\n",
      "**Question 10**: Look at the other input variables to the function `DecisionTreeClassifier` could any of them be used to help prevent the decision tree from overlearning on the data? Which variables might we use to control overfitting and how (explain each)?"
     ]
    },
    {
     "cell_type": "markdown",
     "metadata": {},
     "source": [
      "They definitely could be, however, I'm not really sure which to use. I've spent a good chunk of time reading through each of the parameters for DecisionTreeClassifier (criterion, splitter, max_depth, min_samples_split, min_samples_leaf, max_features, random_state, min_density, compute_importances, max_leaf_nodes), but none are jumping out at me. The best way to prevent overlearning that I can think of is to pass only a subset of the dataset to the function to test upon. Other than that, I think you could probably tweak the max_depth or max_features attributes to modify how 'perfect' the fitting becomes, but I'm not sure. I need a little more practice with this stuff to really understand the intricacies of what is going on!"
     ]
    },
    {
     "cell_type": "markdown",
     "metadata": {},
     "source": [
      "________________________________________________________________________________________________________\n",
      "\n",
      "That's all! Please **upload your rendered notebook to blackboard** and please include **team member names** in the notebook submission."
     ]
    }
   ],
   "metadata": {}
  }
 ]
}