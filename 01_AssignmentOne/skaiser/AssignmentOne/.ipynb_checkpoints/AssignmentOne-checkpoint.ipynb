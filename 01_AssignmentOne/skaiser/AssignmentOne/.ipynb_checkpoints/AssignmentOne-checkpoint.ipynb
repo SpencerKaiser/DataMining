{
 "metadata": {
  "name": "",
  "signature": "sha256:a32547da65edb7b6c45fea8f21ff510ee455c348bc8253ad52d9e225fb4b8c32"
 },
 "nbformat": 3,
 "nbformat_minor": 0,
 "worksheets": [
  {
   "cells": [
    {
     "cell_type": "markdown",
     "metadata": {},
     "source": [
      "<h1 style=\"text-align:center\">Lab Assignment One \u2013 Data Exploration and Analysis</h1>\n",
      "<h5 style=\"text-align:center\"> An introductory lab assignment with the purpose of exploring data set analysis, data visualzation, and making conclusions about  analysis findings. </h5>\n",
      "____\n",
      "\n",
      "For this lab assignment, I will be using the UCI Machine Learning Repository's Diabetes data set. The data set contains 100,000 instances, each containing attributes related to patients with diabetes specifically in relation to patient readmission over time. The data set is derived from the Center for Clinical and Translational Research, Virginia Commonwealth University. [<a href=\"https://archive.ics.uci.edu/ml/datasets/Diabetes+130-US+hospitals+for+years+1999-2008#\">Source</a>]"
     ]
    },
    {
     "cell_type": "markdown",
     "metadata": {},
     "source": [
      "<h3  style=\"text-align:center\">Business Understanding</h3>\n",
      "____\n",
      "\n",
      "The UCI Repository's Diabetes data set contains information about patients diagnosed with Diabetes. The data was most likely collected as part of routine patient documentation, however, the primary purpose its compilation and analysis is to identify correlations that may provide insight into the progression of the disease and how patients may best be treated in order to increase both the quality and length of life, in turn reducing the number of readmissions after the initial diagnosis.\n",
      "<br>\n",
      "<br>\n",
      "Outcomes from data set analysis will consist of any statistically significant correlations between attributes. The effectiveness of any prediction or clustering algoritm that takes advantage of these findings would be determined by the the accuracy with which it identifies patient readmission and when readmission will occur (&#60;30 days or &#62;30 days)."
     ]
    },
    {
     "cell_type": "markdown",
     "metadata": {},
     "source": [
      "<h3 style=\"text-align:center\">Data Understanding</h3>\n",
      "____\n",
      "<h5 style=\"text-align:center\">Data Set Attributes</h5>\n",
      "\n",
      "\n",
      "Attribute | Scale | Values\n",
      "------------- | -------------\n",
      "Encounter ID | Numeric\t| Unique identifier of an encounter\n",
      "Patient number | Numeric | Unique identifier of a patient\n",
      "Race | Nominal | Values: Caucasian, Asian, African American, Hispanic, and other\n",
      "Gender | Nominal | Values: male, female, and unknown/invalid\n",
      "Age | Nominal | Grouped in 10-year intervals: 0, 10), 10, 20), \u2026, 90, 100)\n",
      "Weight | Numeric | Weight in pounds\n",
      "Admission type | Nominal | Integer identifier corresponding to 9 distinct values, for example, emergency, urgent, elective, newborn, and not available\n",
      "Discharge disposition | Nominal | Integer identifier corresponding to 29 distinct values, for example, discharged to home, expired, and not available\n",
      "Admission source | Nominal | Integer identifier corresponding to 21 distinct values, for example, physician referral, emergency room, and transfer from a hospital\n",
      "Time in hospital | Numeric | Integer number of days between admission and discharge\n",
      "Payer code | Nominal | Integer identifier corresponding to 23 distinct values, for example, Blue Cross/Blue Shield, Medicare, and self-pay\n",
      "Medical specialty | Nominal | Integer identifier of a specialty of the admitting physician, corresponding to 84 distinct values, for example, cardiology, internal medicine, family/general practice, and surgeon\n",
      "Number of lab procedures | Numeric | Number of lab tests performed during the encounter\n",
      "Number of procedures | Numeric | Number of procedures (other than lab tests) performed during the encounter\n",
      "Number of medications | Numeric | Number of distinct generic names administered during the encounter\n",
      "Number of outpatient visits | Numeric | Number of outpatient visits of the patient in the year preceding the encounter\n",
      "Number of emergency visits | Numeric | Number of emergency visits of the patient in the year preceding the encounter\n",
      "Number of inpatient visits | Numeric | Number of inpatient visits of the patient in the year preceding the encounter\n",
      "Diagnosis 1 | Nominal | The primary diagnosis (coded as first three digits of ICD9); 848 distinct values\n",
      "Diagnosis 2 | Nominal | Secondary diagnosis (coded as first three digits of ICD9); 923 distinct values\n",
      "Diagnosis 3 | Nominal | Additional secondary diagnosis (coded as first three digits of ICD9); 954 distinct values\n",
      "Number of diagnoses | Numeric | Number of diagnoses entered to the system\n",
      "Glucose serum test result | Nominal | Indicates the range of the result or if the test was not taken. Values: \u201c>200,\u201d \u201c>300,\u201d \u201cnormal,\u201d and \u201cnone\u201d if not measured\n",
      "A1c test result | Nominal | Indicates the range of the result or if the test was not taken. Values: \u201c>8\u201d if the result was greater than 8%, \u201c>7\u201d if the result was greater than 7% but less than 8%, \u201cnormal\u201d if the result was less than 7%, and \u201cnone\u201d if not measured.\n",
      "Change of medications | Nominal | Indicates if there was a change in diabetic medications (either dosage or generic name). Values: \u201cchange\u201d and \u201cno change\u201d\n",
      "Diabetes medications | Nominal | Indicates if there was any diabetic medication prescribed. Values: \u201cyes\u201d and \u201cno\u201d\n",
      "24 features for medications | Nominal | For the generic names: metformin, repaglinide, nateglinide, chlorpropamide, glimepiride, acetohexamide, glipizide, glyburide, tolbutamide, pioglitazone, rosiglitazone, acarbose, miglitol, troglitazone, tolazamide, examide, sitagliptin, insulin, glyburide-metformin, glipizide-metformin, glimepiride-pioglitazone, metformin-rosiglitazone, and metformin-pioglitazone, the feature indicates whether the drug was prescribed or there was a change in the dosage. Values: \u201cup\u201d if the dosage was increased during the encounter, \u201cdown\u201d if the dosage was decreased, \u201csteady\u201d if the dosage did not change, and \u201cno\u201d if the drug was not prescribed\n",
      "Readmitted | Nominal | Days to inpatient readmission. Values: \u201c<30\u201d if the patient was readmitted in less than 30 days, \u201c>30\u201d if the patient was readmitted in more than 30 days, and \u201cNo\u201d for no record of readmission.\n",
      "[<a href=\"http://www.hindawi.com/journals/bmri/2014/781670/tab1/\">Source</a>]\n",
      "<br>\n",
      "<br>\n",
      "<h5 style=\"text-align:center\">Data Quality</h5>\n",
      "The data set does contain missing values for a few of the attributes. Of the attrbutes with missing data, the 'weight' attribute is only present in 3% of instances; as a result, this attribute will be discarded. While patient weight is an incredibly important attribute in regards to this analysis, any method of using the data from 3% of the data set to generate approximate values for the rest of the set would yield meaningless correlations which would most likely be statistically insignificant. Of the remaining attributes with missing data, only 2 additional attributes have a significant percentage of missing data. If any correlation can be identified using tese attributes, I will attempt to fill missing data with imputed data.\n",
      "\n",
      "As with nearly all data sets, this data set contains outliers. These outliers are dealt with by analyzing data that falls within the 25th and 75th percentiles wherever possible. If these data points are necessary for an analysis, imputation may be used as a potential method of removing them."
     ]
    },
    {
     "cell_type": "markdown",
     "metadata": {},
     "source": [
      "<h3 style=\"text-align:center\">Data Preparation</h3>\n",
      "____\n"
     ]
    },
    {
     "cell_type": "code",
     "collapsed": false,
     "input": [
      "import pandas as pd\n",
      "\n",
      "\n",
      "#Create data frame with data set file\n",
      "df = pd.read_csv('data/diabetic_data.csv') # read in the csv file\n",
      "\n",
      "#Display head of file for use with analysis planning and documentation\n",
      "df.head()\n",
      "\n",
      "#Using head() is helpful at the beginning of the preparation stage to get a quick look at the data set's format"
     ],
     "language": "python",
     "metadata": {},
     "outputs": [
      {
       "html": [
        "<div style=\"max-height:1000px;max-width:1500px;overflow:auto;\">\n",
        "<table border=\"1\" class=\"dataframe\">\n",
        "  <thead>\n",
        "    <tr style=\"text-align: right;\">\n",
        "      <th></th>\n",
        "      <th>encounter_id</th>\n",
        "      <th>patient_nbr</th>\n",
        "      <th>race</th>\n",
        "      <th>gender</th>\n",
        "      <th>age</th>\n",
        "      <th>weight</th>\n",
        "      <th>admission_type_id</th>\n",
        "      <th>discharge_disposition_id</th>\n",
        "      <th>admission_source_id</th>\n",
        "      <th>time_in_hospital</th>\n",
        "      <th>...</th>\n",
        "      <th>citoglipton</th>\n",
        "      <th>insulin</th>\n",
        "      <th>glyburide-metformin</th>\n",
        "      <th>glipizide-metformin</th>\n",
        "      <th>glimepiride-pioglitazone</th>\n",
        "      <th>metformin-rosiglitazone</th>\n",
        "      <th>metformin-pioglitazone</th>\n",
        "      <th>change</th>\n",
        "      <th>diabetesMed</th>\n",
        "      <th>readmitted</th>\n",
        "    </tr>\n",
        "  </thead>\n",
        "  <tbody>\n",
        "    <tr>\n",
        "      <th>0</th>\n",
        "      <td> 2278392</td>\n",
        "      <td>  8222157</td>\n",
        "      <td>       Caucasian</td>\n",
        "      <td> Female</td>\n",
        "      <td>  [0-10)</td>\n",
        "      <td> ?</td>\n",
        "      <td> 6</td>\n",
        "      <td> 25</td>\n",
        "      <td> 1</td>\n",
        "      <td> 1</td>\n",
        "      <td>...</td>\n",
        "      <td> No</td>\n",
        "      <td>     No</td>\n",
        "      <td> No</td>\n",
        "      <td> No</td>\n",
        "      <td> No</td>\n",
        "      <td> No</td>\n",
        "      <td> No</td>\n",
        "      <td> No</td>\n",
        "      <td>  No</td>\n",
        "      <td>  NO</td>\n",
        "    </tr>\n",
        "    <tr>\n",
        "      <th>1</th>\n",
        "      <td>  149190</td>\n",
        "      <td> 55629189</td>\n",
        "      <td>       Caucasian</td>\n",
        "      <td> Female</td>\n",
        "      <td> [10-20)</td>\n",
        "      <td> ?</td>\n",
        "      <td> 1</td>\n",
        "      <td>  1</td>\n",
        "      <td> 7</td>\n",
        "      <td> 3</td>\n",
        "      <td>...</td>\n",
        "      <td> No</td>\n",
        "      <td>     Up</td>\n",
        "      <td> No</td>\n",
        "      <td> No</td>\n",
        "      <td> No</td>\n",
        "      <td> No</td>\n",
        "      <td> No</td>\n",
        "      <td> Ch</td>\n",
        "      <td> Yes</td>\n",
        "      <td> &gt;30</td>\n",
        "    </tr>\n",
        "    <tr>\n",
        "      <th>2</th>\n",
        "      <td>   64410</td>\n",
        "      <td> 86047875</td>\n",
        "      <td> AfricanAmerican</td>\n",
        "      <td> Female</td>\n",
        "      <td> [20-30)</td>\n",
        "      <td> ?</td>\n",
        "      <td> 1</td>\n",
        "      <td>  1</td>\n",
        "      <td> 7</td>\n",
        "      <td> 2</td>\n",
        "      <td>...</td>\n",
        "      <td> No</td>\n",
        "      <td>     No</td>\n",
        "      <td> No</td>\n",
        "      <td> No</td>\n",
        "      <td> No</td>\n",
        "      <td> No</td>\n",
        "      <td> No</td>\n",
        "      <td> No</td>\n",
        "      <td> Yes</td>\n",
        "      <td>  NO</td>\n",
        "    </tr>\n",
        "    <tr>\n",
        "      <th>3</th>\n",
        "      <td>  500364</td>\n",
        "      <td> 82442376</td>\n",
        "      <td>       Caucasian</td>\n",
        "      <td>   Male</td>\n",
        "      <td> [30-40)</td>\n",
        "      <td> ?</td>\n",
        "      <td> 1</td>\n",
        "      <td>  1</td>\n",
        "      <td> 7</td>\n",
        "      <td> 2</td>\n",
        "      <td>...</td>\n",
        "      <td> No</td>\n",
        "      <td>     Up</td>\n",
        "      <td> No</td>\n",
        "      <td> No</td>\n",
        "      <td> No</td>\n",
        "      <td> No</td>\n",
        "      <td> No</td>\n",
        "      <td> Ch</td>\n",
        "      <td> Yes</td>\n",
        "      <td>  NO</td>\n",
        "    </tr>\n",
        "    <tr>\n",
        "      <th>4</th>\n",
        "      <td>   16680</td>\n",
        "      <td> 42519267</td>\n",
        "      <td>       Caucasian</td>\n",
        "      <td>   Male</td>\n",
        "      <td> [40-50)</td>\n",
        "      <td> ?</td>\n",
        "      <td> 1</td>\n",
        "      <td>  1</td>\n",
        "      <td> 7</td>\n",
        "      <td> 1</td>\n",
        "      <td>...</td>\n",
        "      <td> No</td>\n",
        "      <td> Steady</td>\n",
        "      <td> No</td>\n",
        "      <td> No</td>\n",
        "      <td> No</td>\n",
        "      <td> No</td>\n",
        "      <td> No</td>\n",
        "      <td> Ch</td>\n",
        "      <td> Yes</td>\n",
        "      <td>  NO</td>\n",
        "    </tr>\n",
        "  </tbody>\n",
        "</table>\n",
        "<p>5 rows \u00d7 50 columns</p>\n",
        "</div>"
       ],
       "metadata": {},
       "output_type": "pyout",
       "prompt_number": 1,
       "text": [
        "   encounter_id  patient_nbr             race  gender      age weight  \\\n",
        "0       2278392      8222157        Caucasian  Female   [0-10)      ?   \n",
        "1        149190     55629189        Caucasian  Female  [10-20)      ?   \n",
        "2         64410     86047875  AfricanAmerican  Female  [20-30)      ?   \n",
        "3        500364     82442376        Caucasian    Male  [30-40)      ?   \n",
        "4         16680     42519267        Caucasian    Male  [40-50)      ?   \n",
        "\n",
        "   admission_type_id  discharge_disposition_id  admission_source_id  \\\n",
        "0                  6                        25                    1   \n",
        "1                  1                         1                    7   \n",
        "2                  1                         1                    7   \n",
        "3                  1                         1                    7   \n",
        "4                  1                         1                    7   \n",
        "\n",
        "   time_in_hospital    ...     citoglipton insulin  glyburide-metformin  \\\n",
        "0                 1    ...              No      No                   No   \n",
        "1                 3    ...              No      Up                   No   \n",
        "2                 2    ...              No      No                   No   \n",
        "3                 2    ...              No      Up                   No   \n",
        "4                 1    ...              No  Steady                   No   \n",
        "\n",
        "   glipizide-metformin  glimepiride-pioglitazone  metformin-rosiglitazone  \\\n",
        "0                   No                        No                       No   \n",
        "1                   No                        No                       No   \n",
        "2                   No                        No                       No   \n",
        "3                   No                        No                       No   \n",
        "4                   No                        No                       No   \n",
        "\n",
        "   metformin-pioglitazone  change diabetesMed readmitted  \n",
        "0                      No      No          No         NO  \n",
        "1                      No      Ch         Yes        >30  \n",
        "2                      No      No         Yes         NO  \n",
        "3                      No      Ch         Yes         NO  \n",
        "4                      No      Ch         Yes         NO  \n",
        "\n",
        "[5 rows x 50 columns]"
       ]
      }
     ],
     "prompt_number": 1
    },
    {
     "cell_type": "code",
     "collapsed": false,
     "input": [
      "import numpy as np\n",
      "\n",
      "df = df.replace(to_replace='?',value=np.NaN) # replace '?' with NaN (not a number)\n",
      "print df.dtypes\n",
      "\n",
      "#Display all data types for reference"
     ],
     "language": "python",
     "metadata": {},
     "outputs": [
      {
       "output_type": "stream",
       "stream": "stdout",
       "text": [
        "encounter_id                 int64\n",
        "patient_nbr                  int64\n",
        "race                        object\n",
        "gender                      object\n",
        "age                         object\n",
        "weight                      object\n",
        "admission_type_id            int64\n",
        "discharge_disposition_id     int64\n",
        "admission_source_id          int64\n",
        "time_in_hospital             int64\n",
        "payer_code                  object\n",
        "medical_specialty           object\n",
        "num_lab_procedures           int64\n",
        "num_procedures               int64\n",
        "num_medications              int64\n",
        "number_outpatient            int64\n",
        "number_emergency             int64\n",
        "number_inpatient             int64\n",
        "diag_1                      object\n",
        "diag_2                      object\n",
        "diag_3                      object\n",
        "number_diagnoses             int64\n",
        "max_glu_serum               object\n",
        "A1Cresult                   object\n",
        "metformin                   object\n",
        "repaglinide                 object\n",
        "nateglinide                 object\n",
        "chlorpropamide              object\n",
        "glimepiride                 object\n",
        "acetohexamide               object\n",
        "glipizide                   object\n",
        "glyburide                   object\n",
        "tolbutamide                 object\n",
        "pioglitazone                object\n",
        "rosiglitazone               object\n",
        "acarbose                    object\n",
        "miglitol                    object\n",
        "troglitazone                object\n",
        "tolazamide                  object\n",
        "examide                     object\n",
        "citoglipton                 object\n",
        "insulin                     object\n",
        "glyburide-metformin         object\n",
        "glipizide-metformin         object\n",
        "glimepiride-pioglitazone    object\n",
        "metformin-rosiglitazone     object\n",
        "metformin-pioglitazone      object\n",
        "change                      object\n",
        "diabetesMed                 object\n",
        "readmitted                  object\n",
        "dtype: object\n"
       ]
      }
     ],
     "prompt_number": 2
    },
    {
     "cell_type": "code",
     "collapsed": false,
     "input": [
      "#Delete the weight attribute (See 'Data Quality' section above)\n",
      "del df['weight'];\n",
      "\n",
      "#Get a description of the data to see if any other modifications need to be made to the data set\n",
      "df.describe()"
     ],
     "language": "python",
     "metadata": {},
     "outputs": [
      {
       "html": [
        "<div style=\"max-height:1000px;max-width:1500px;overflow:auto;\">\n",
        "<table border=\"1\" class=\"dataframe\">\n",
        "  <thead>\n",
        "    <tr style=\"text-align: right;\">\n",
        "      <th></th>\n",
        "      <th>encounter_id</th>\n",
        "      <th>patient_nbr</th>\n",
        "      <th>admission_type_id</th>\n",
        "      <th>discharge_disposition_id</th>\n",
        "      <th>admission_source_id</th>\n",
        "      <th>time_in_hospital</th>\n",
        "      <th>num_lab_procedures</th>\n",
        "      <th>num_procedures</th>\n",
        "      <th>num_medications</th>\n",
        "      <th>number_outpatient</th>\n",
        "      <th>number_emergency</th>\n",
        "      <th>number_inpatient</th>\n",
        "      <th>number_diagnoses</th>\n",
        "    </tr>\n",
        "  </thead>\n",
        "  <tbody>\n",
        "    <tr>\n",
        "      <th>count</th>\n",
        "      <td> 1.017660e+05</td>\n",
        "      <td> 1.017660e+05</td>\n",
        "      <td> 101766.000000</td>\n",
        "      <td> 101766.000000</td>\n",
        "      <td> 101766.000000</td>\n",
        "      <td> 101766.000000</td>\n",
        "      <td> 101766.000000</td>\n",
        "      <td> 101766.000000</td>\n",
        "      <td> 101766.000000</td>\n",
        "      <td> 101766.000000</td>\n",
        "      <td> 101766.000000</td>\n",
        "      <td> 101766.000000</td>\n",
        "      <td> 101766.000000</td>\n",
        "    </tr>\n",
        "    <tr>\n",
        "      <th>mean</th>\n",
        "      <td> 1.652016e+08</td>\n",
        "      <td> 5.433040e+07</td>\n",
        "      <td>      2.024006</td>\n",
        "      <td>      3.715642</td>\n",
        "      <td>      5.754437</td>\n",
        "      <td>      4.395987</td>\n",
        "      <td>     43.095641</td>\n",
        "      <td>      1.339730</td>\n",
        "      <td>     16.021844</td>\n",
        "      <td>      0.369357</td>\n",
        "      <td>      0.197836</td>\n",
        "      <td>      0.635566</td>\n",
        "      <td>      7.422607</td>\n",
        "    </tr>\n",
        "    <tr>\n",
        "      <th>std</th>\n",
        "      <td> 1.026403e+08</td>\n",
        "      <td> 3.869636e+07</td>\n",
        "      <td>      1.445403</td>\n",
        "      <td>      5.280166</td>\n",
        "      <td>      4.064081</td>\n",
        "      <td>      2.985108</td>\n",
        "      <td>     19.674362</td>\n",
        "      <td>      1.705807</td>\n",
        "      <td>      8.127566</td>\n",
        "      <td>      1.267265</td>\n",
        "      <td>      0.930472</td>\n",
        "      <td>      1.262863</td>\n",
        "      <td>      1.933600</td>\n",
        "    </tr>\n",
        "    <tr>\n",
        "      <th>min</th>\n",
        "      <td> 1.252200e+04</td>\n",
        "      <td> 1.350000e+02</td>\n",
        "      <td>      1.000000</td>\n",
        "      <td>      1.000000</td>\n",
        "      <td>      1.000000</td>\n",
        "      <td>      1.000000</td>\n",
        "      <td>      1.000000</td>\n",
        "      <td>      0.000000</td>\n",
        "      <td>      1.000000</td>\n",
        "      <td>      0.000000</td>\n",
        "      <td>      0.000000</td>\n",
        "      <td>      0.000000</td>\n",
        "      <td>      1.000000</td>\n",
        "    </tr>\n",
        "    <tr>\n",
        "      <th>25%</th>\n",
        "      <td> 8.496119e+07</td>\n",
        "      <td> 2.341322e+07</td>\n",
        "      <td>      1.000000</td>\n",
        "      <td>      1.000000</td>\n",
        "      <td>      1.000000</td>\n",
        "      <td>      2.000000</td>\n",
        "      <td>     31.000000</td>\n",
        "      <td>      0.000000</td>\n",
        "      <td>     10.000000</td>\n",
        "      <td>      0.000000</td>\n",
        "      <td>      0.000000</td>\n",
        "      <td>      0.000000</td>\n",
        "      <td>      6.000000</td>\n",
        "    </tr>\n",
        "    <tr>\n",
        "      <th>50%</th>\n",
        "      <td> 1.523890e+08</td>\n",
        "      <td> 4.550514e+07</td>\n",
        "      <td>      1.000000</td>\n",
        "      <td>      1.000000</td>\n",
        "      <td>      7.000000</td>\n",
        "      <td>      4.000000</td>\n",
        "      <td>     44.000000</td>\n",
        "      <td>      1.000000</td>\n",
        "      <td>     15.000000</td>\n",
        "      <td>      0.000000</td>\n",
        "      <td>      0.000000</td>\n",
        "      <td>      0.000000</td>\n",
        "      <td>      8.000000</td>\n",
        "    </tr>\n",
        "    <tr>\n",
        "      <th>75%</th>\n",
        "      <td> 2.302709e+08</td>\n",
        "      <td> 8.754595e+07</td>\n",
        "      <td>      3.000000</td>\n",
        "      <td>      4.000000</td>\n",
        "      <td>      7.000000</td>\n",
        "      <td>      6.000000</td>\n",
        "      <td>     57.000000</td>\n",
        "      <td>      2.000000</td>\n",
        "      <td>     20.000000</td>\n",
        "      <td>      0.000000</td>\n",
        "      <td>      0.000000</td>\n",
        "      <td>      1.000000</td>\n",
        "      <td>      9.000000</td>\n",
        "    </tr>\n",
        "    <tr>\n",
        "      <th>max</th>\n",
        "      <td> 4.438672e+08</td>\n",
        "      <td> 1.895026e+08</td>\n",
        "      <td>      8.000000</td>\n",
        "      <td>     28.000000</td>\n",
        "      <td>     25.000000</td>\n",
        "      <td>     14.000000</td>\n",
        "      <td>    132.000000</td>\n",
        "      <td>      6.000000</td>\n",
        "      <td>     81.000000</td>\n",
        "      <td>     42.000000</td>\n",
        "      <td>     76.000000</td>\n",
        "      <td>     21.000000</td>\n",
        "      <td>     16.000000</td>\n",
        "    </tr>\n",
        "  </tbody>\n",
        "</table>\n",
        "</div>"
       ],
       "metadata": {},
       "output_type": "pyout",
       "prompt_number": 3,
       "text": [
        "       encounter_id   patient_nbr  admission_type_id  \\\n",
        "count  1.017660e+05  1.017660e+05      101766.000000   \n",
        "mean   1.652016e+08  5.433040e+07           2.024006   \n",
        "std    1.026403e+08  3.869636e+07           1.445403   \n",
        "min    1.252200e+04  1.350000e+02           1.000000   \n",
        "25%    8.496119e+07  2.341322e+07           1.000000   \n",
        "50%    1.523890e+08  4.550514e+07           1.000000   \n",
        "75%    2.302709e+08  8.754595e+07           3.000000   \n",
        "max    4.438672e+08  1.895026e+08           8.000000   \n",
        "\n",
        "       discharge_disposition_id  admission_source_id  time_in_hospital  \\\n",
        "count             101766.000000        101766.000000     101766.000000   \n",
        "mean                   3.715642             5.754437          4.395987   \n",
        "std                    5.280166             4.064081          2.985108   \n",
        "min                    1.000000             1.000000          1.000000   \n",
        "25%                    1.000000             1.000000          2.000000   \n",
        "50%                    1.000000             7.000000          4.000000   \n",
        "75%                    4.000000             7.000000          6.000000   \n",
        "max                   28.000000            25.000000         14.000000   \n",
        "\n",
        "       num_lab_procedures  num_procedures  num_medications  number_outpatient  \\\n",
        "count       101766.000000   101766.000000    101766.000000      101766.000000   \n",
        "mean            43.095641        1.339730        16.021844           0.369357   \n",
        "std             19.674362        1.705807         8.127566           1.267265   \n",
        "min              1.000000        0.000000         1.000000           0.000000   \n",
        "25%             31.000000        0.000000        10.000000           0.000000   \n",
        "50%             44.000000        1.000000        15.000000           0.000000   \n",
        "75%             57.000000        2.000000        20.000000           0.000000   \n",
        "max            132.000000        6.000000        81.000000          42.000000   \n",
        "\n",
        "       number_emergency  number_inpatient  number_diagnoses  \n",
        "count     101766.000000     101766.000000     101766.000000  \n",
        "mean           0.197836          0.635566          7.422607  \n",
        "std            0.930472          1.262863          1.933600  \n",
        "min            0.000000          0.000000          1.000000  \n",
        "25%            0.000000          0.000000          6.000000  \n",
        "50%            0.000000          0.000000          8.000000  \n",
        "75%            0.000000          1.000000          9.000000  \n",
        "max           76.000000         21.000000         16.000000  "
       ]
      }
     ],
     "prompt_number": 3
    },
    {
     "cell_type": "code",
     "collapsed": false,
     "input": [
      "#AGE BREAKDOWN - Percentage Composition\n",
      "(df.age.value_counts()/df.age.count()*100).round(2)"
     ],
     "language": "python",
     "metadata": {},
     "outputs": [
      {
       "metadata": {},
       "output_type": "pyout",
       "prompt_number": 4,
       "text": [
        "[70-80)     25.62\n",
        "[60-70)     22.09\n",
        "[50-60)     16.96\n",
        "[80-90)     16.90\n",
        "[40-50)      9.52\n",
        "[30-40)      3.71\n",
        "[90-100)     2.74\n",
        "[20-30)      1.63\n",
        "[10-20)      0.68\n",
        "[0-10)       0.16\n",
        "dtype: float64"
       ]
      }
     ],
     "prompt_number": 4
    },
    {
     "cell_type": "markdown",
     "metadata": {},
     "source": [
      "<strong>Analysis</strong>: This data is very interesting. While this data may not be an accurate sample of diabetes patient hospital admissions, it is surprising that such a large portion of patients are middle elderly (60+ years old)."
     ]
    },
    {
     "cell_type": "code",
     "collapsed": false,
     "input": [
      "#RACE BREAKDOWN - Percentage Composition\n",
      "(df.race.value_counts()/df.race.count()*100).round(2)"
     ],
     "language": "python",
     "metadata": {},
     "outputs": [
      {
       "metadata": {},
       "output_type": "pyout",
       "prompt_number": 5,
       "text": [
        "Caucasian          76.49\n",
        "AfricanAmerican    19.31\n",
        "Hispanic            2.05\n",
        "Other               1.51\n",
        "Asian               0.64\n",
        "dtype: float64"
       ]
      }
     ],
     "prompt_number": 5
    },
    {
     "cell_type": "code",
     "collapsed": false,
     "input": [
      "#GENDER BREAKDOWN - Percentage Composition\n",
      "(df.gender.value_counts()/df.gender.count()*100).round(2)"
     ],
     "language": "python",
     "metadata": {},
     "outputs": [
      {
       "metadata": {},
       "output_type": "pyout",
       "prompt_number": 6,
       "text": [
        "Female             53.76\n",
        "Male               46.24\n",
        "Unknown/Invalid     0.00\n",
        "dtype: float64"
       ]
      }
     ],
     "prompt_number": 6
    },
    {
     "cell_type": "markdown",
     "metadata": {},
     "source": [
      "<strong>Analysis</strong>: While it isn't surprising that gender representation is nearly equivalent, it is definitely notable and it will be useful later in this analysis."
     ]
    },
    {
     "cell_type": "code",
     "collapsed": false,
     "input": [
      "#ADMISSION TYPE BREAKDOWN\n",
      "(df.admission_type_id.value_counts()/df.gender.count()*100).round(2)\n",
      "\n",
      "#NOTE: I'm not sure how to map the variable names to each item without replacing them in the data set\n",
      "#1,Emergency\n",
      "#2,Urgent\n",
      "#3,Elective\n",
      "#4,Newborn\n",
      "#5,Not Available\n",
      "#6,NULL\n",
      "#7,Trauma Center\n",
      "#8,Not Mapped"
     ],
     "language": "python",
     "metadata": {},
     "outputs": [
      {
       "metadata": {},
       "output_type": "pyout",
       "prompt_number": 7,
       "text": [
        "1    53.05\n",
        "3    18.54\n",
        "2    18.16\n",
        "6     5.20\n",
        "5     4.70\n",
        "8     0.31\n",
        "7     0.02\n",
        "4     0.01\n",
        "dtype: float64"
       ]
      }
     ],
     "prompt_number": 7
    },
    {
     "cell_type": "markdown",
     "metadata": {},
     "source": [
      "<strong>Analysis</strong>: The high percentage of emergency admissions is rather interesting. In future analyses, it will be interesting to see the relationship between this attribute and future readmissions."
     ]
    },
    {
     "cell_type": "code",
     "collapsed": false,
     "input": [
      "#READMITTED BREAKDOWN - What percentage of patients are readmitted?\n",
      "#df.readmitted.unique()\n",
      "(df.readmitted.value_counts()/df.readmitted.count()*100).round(2)"
     ],
     "language": "python",
     "metadata": {},
     "outputs": [
      {
       "metadata": {},
       "output_type": "pyout",
       "prompt_number": 8,
       "text": [
        "NO     53.91\n",
        ">30    34.93\n",
        "<30    11.16\n",
        "dtype: float64"
       ]
      }
     ],
     "prompt_number": 8
    },
    {
     "cell_type": "code",
     "collapsed": false,
     "input": [
      "#TIME IN HOSPITAL - Breakdown regarding the time spent in the hospital between admission and release (number of days)\n",
      "df.time_in_hospital.describe()"
     ],
     "language": "python",
     "metadata": {},
     "outputs": [
      {
       "metadata": {},
       "output_type": "pyout",
       "prompt_number": 9,
       "text": [
        "count    101766.000000\n",
        "mean          4.395987\n",
        "std           2.985108\n",
        "min           1.000000\n",
        "25%           2.000000\n",
        "50%           4.000000\n",
        "75%           6.000000\n",
        "max          14.000000\n",
        "Name: time_in_hospital, dtype: float64"
       ]
      }
     ],
     "prompt_number": 9
    },
    {
     "cell_type": "code",
     "collapsed": false,
     "input": [
      "#HOSPITAL VISITS BREAKDOWN - Breakdown regarding the number of inpatient, outpatient, and emergency hospital visits\n",
      "#INPATIENT\n",
      "df.number_inpatient.describe()"
     ],
     "language": "python",
     "metadata": {},
     "outputs": [
      {
       "metadata": {},
       "output_type": "pyout",
       "prompt_number": 10,
       "text": [
        "count    101766.000000\n",
        "mean          0.635566\n",
        "std           1.262863\n",
        "min           0.000000\n",
        "25%           0.000000\n",
        "50%           0.000000\n",
        "75%           1.000000\n",
        "max          21.000000\n",
        "Name: number_inpatient, dtype: float64"
       ]
      }
     ],
     "prompt_number": 10
    },
    {
     "cell_type": "code",
     "collapsed": false,
     "input": [
      "#OUTPATIENT\n",
      "df.number_outpatient.describe()"
     ],
     "language": "python",
     "metadata": {},
     "outputs": [
      {
       "metadata": {},
       "output_type": "pyout",
       "prompt_number": 11,
       "text": [
        "count    101766.000000\n",
        "mean          0.369357\n",
        "std           1.267265\n",
        "min           0.000000\n",
        "25%           0.000000\n",
        "50%           0.000000\n",
        "75%           0.000000\n",
        "max          42.000000\n",
        "Name: number_outpatient, dtype: float64"
       ]
      }
     ],
     "prompt_number": 11
    },
    {
     "cell_type": "code",
     "collapsed": false,
     "input": [
      "#EMERGENY\n",
      "df.number_emergency.describe()"
     ],
     "language": "python",
     "metadata": {},
     "outputs": [
      {
       "metadata": {},
       "output_type": "pyout",
       "prompt_number": 12,
       "text": [
        "count    101766.000000\n",
        "mean          0.197836\n",
        "std           0.930472\n",
        "min           0.000000\n",
        "25%           0.000000\n",
        "50%           0.000000\n",
        "75%           0.000000\n",
        "max          76.000000\n",
        "Name: number_emergency, dtype: float64"
       ]
      }
     ],
     "prompt_number": 12
    },
    {
     "cell_type": "markdown",
     "metadata": {},
     "source": [
      "<strong>Analysis</strong>: This section of data has some significant outliers. The max for all three categories is SIGNIFICANTLY above the mean. Furthermore, the standard deviation is indicative that these values are indeed outliers. In addition, because the 25th, 50th, and 75th percentiles are also incredibly low, it indicates that the mean is also likely skewed by the outliers. This data may have to be adjusted before it can be used to predict patient readmission."
     ]
    },
    {
     "cell_type": "code",
     "collapsed": false,
     "input": [
      "#READMITTANCE BY AGE BREAKDOWN - This data represents the number of patients that were readmitted, broken down by race\n",
      "\n",
      "df_grouped = df.groupby(by=['age', 'readmitted'])\n",
      "age_readmittance = df_grouped.readmitted.count()\n",
      "\n",
      "print \"PERCENTAGE COMPOSITION\"\n",
      "print df.age.value_counts()/df.age.count()\n",
      "print \"\\n\\nREADMITTANCE BY AGE\"\n",
      "print age_readmittance"
     ],
     "language": "python",
     "metadata": {},
     "outputs": [
      {
       "output_type": "stream",
       "stream": "stdout",
       "text": [
        "PERCENTAGE COMPOSITION\n",
        "[70-80)     0.256156\n",
        "[60-70)     0.220928\n",
        "[50-60)     0.169565\n",
        "[80-90)     0.168986\n",
        "[40-50)     0.095169\n",
        "[30-40)     0.037095\n",
        "[90-100)    0.027445\n",
        "[20-30)     0.016282\n",
        "[10-20)     0.006790\n",
        "[0-10)      0.001582\n",
        "dtype: float64\n",
        "\n",
        "\n",
        "READMITTANCE BY AGE\n",
        "age       readmitted\n",
        "[0-10)    <30               3\n",
        "          >30              26\n",
        "          NO              132\n",
        "[10-20)   <30              40\n",
        "          >30             224\n",
        "          NO              427\n",
        "[20-30)   <30             236\n",
        "          >30             510\n",
        "          NO              911\n",
        "[30-40)   <30             424\n",
        "          >30            1187\n",
        "          NO             2164\n",
        "[40-50)   <30            1027\n",
        "          >30            3278\n",
        "          NO             5380\n",
        "[50-60)   <30            1668\n",
        "          >30            5917\n",
        "          NO             9671\n",
        "[60-70)   <30            2502\n",
        "          >30            7897\n",
        "          NO            12084\n",
        "[70-80)   <30            3069\n",
        "          >30            9475\n",
        "          NO            13524\n",
        "[80-90)   <30            2078\n",
        "          >30            6223\n",
        "          NO             8896\n",
        "[90-100)  <30             310\n",
        "          >30             808\n",
        "          NO             1675\n",
        "Name: readmitted, dtype: int64\n"
       ]
      }
     ],
     "prompt_number": 13
    },
    {
     "cell_type": "code",
     "collapsed": false,
     "input": [
      "#READMITTANCE BY RACE BREAKDOWN - This data represents the number of patients that were readmitted, broken down by race\n",
      "\n",
      "df_grouped = df.groupby(by=['race', 'readmitted'])\n",
      "race_readmittance = df_grouped.readmitted.count()\n",
      "\n",
      "print \"PERCENTAGE COMPOSITION\"\n",
      "print df.race.value_counts()/df.race.count()\n",
      "print \"\\n\\nREADMITTANCE BY RACE\"\n",
      "print race_readmittance"
     ],
     "language": "python",
     "metadata": {},
     "outputs": [
      {
       "output_type": "stream",
       "stream": "stdout",
       "text": [
        "PERCENTAGE COMPOSITION\n",
        "Caucasian          0.764868\n",
        "AfricanAmerican    0.193079\n",
        "Hispanic           0.020474\n",
        "Other              0.015137\n",
        "Asian              0.006443\n",
        "dtype: float64\n",
        "\n",
        "\n",
        "READMITTANCE BY RACE\n",
        "race             readmitted\n",
        "AfricanAmerican  <30            2155\n",
        "                 >30            6634\n",
        "                 NO            10421\n",
        "Asian            <30              65\n",
        "                 >30             161\n",
        "                 NO              415\n",
        "Caucasian        <30            8592\n",
        "                 >30           27124\n",
        "                 NO            40383\n",
        "Hispanic         <30             212\n",
        "                 >30             642\n",
        "                 NO             1183\n",
        "Other            <30             145\n",
        "                 >30             446\n",
        "                 NO              915\n",
        "Name: readmitted, dtype: int64\n"
       ]
      }
     ],
     "prompt_number": 14
    },
    {
     "cell_type": "code",
     "collapsed": false,
     "input": [
      "#ADMISSION TYPE BY GENDER BREAKDOWN - This data represents the number of patients that were readmitted, broken down by gender\n",
      "\n",
      "df_grouped = df.groupby(by=['gender', 'admission_type_id'])\n",
      "gender_admission_type = df_grouped.admission_type_id.count()\n",
      "\n",
      "print \"PERCENTAGE COMPOSITION\"\n",
      "print df.gender.value_counts()/df.gender.count()\n",
      "print \"\\n\\ADMISSION TYPE BY RACE\"\n",
      "print gender_admission_type\n",
      "\n",
      "#NOTE: I'm not sure how to map the variable names to each item without replacing them in the data set\n",
      "#1,Emergency\n",
      "#2,Urgent\n",
      "#3,Elective\n",
      "#4,Newborn\n",
      "#5,Not Available\n",
      "#6,NULL\n",
      "#7,Trauma Center\n",
      "#8,Not Mapped"
     ],
     "language": "python",
     "metadata": {},
     "outputs": [
      {
       "output_type": "stream",
       "stream": "stdout",
       "text": [
        "PERCENTAGE COMPOSITION\n",
        "Female             0.537586\n",
        "Male               0.462384\n",
        "Unknown/Invalid    0.000029\n",
        "dtype: float64\n",
        "\n",
        "\\ADMISSION TYPE BY RACE\n",
        "gender           admission_type_id\n",
        "Female           1                    29448\n",
        "                 2                     9894\n",
        "                 3                     9840\n",
        "                 4                        3\n",
        "                 5                     2609\n",
        "                 6                     2729\n",
        "                 7                        9\n",
        "                 8                      176\n",
        "Male             1                    24540\n",
        "                 2                     8586\n",
        "                 3                     9028\n",
        "                 4                        7\n",
        "                 5                     2176\n",
        "                 6                     2562\n",
        "                 7                       12\n",
        "                 8                      144\n",
        "Unknown/Invalid  1                        2\n",
        "                 3                        1\n",
        "Name: admission_type_id, dtype: int64\n"
       ]
      }
     ],
     "prompt_number": 15
    },
    {
     "cell_type": "markdown",
     "metadata": {},
     "source": [
      "<strong>Analysis</strong>: This data is rather surprising. I expected that the number of emergency admissions (type 1) would be higher for males becuase of the influence of societal norms (men may feel the need to appear manly and may avoid going to the doctor at the sign of first symptoms, worsening the issue, resulting in an emergency visit). The data indicates that gender may not have much of an influence on the type of admission."
     ]
    },
    {
     "cell_type": "markdown",
     "metadata": {},
     "source": [
      "<h3 style=\"text-align:center\">Data Visualization</h3>\n",
      "____\n",
      "\n",
      "\n",
      "    - [15 points] Visualize the most important attributes appropriately (at least 5 attributes). Important: Provide an interpretation for each chart. Explain for each attribute why you chose the used visualization. \n",
      "    - [15 points] Explore relationships between attributes: Look at the attributes and then scatter plots, correlation, cross-tabulation, group-wise averages, etc. as appropriate. "
     ]
    },
    {
     "cell_type": "code",
     "collapsed": false,
     "input": [
      "# this python magics will allow plot to be embedded into the notebook\n",
      "%matplotlib inline\n",
      "\n",
      "import matplotlib.pyplot as plt\n",
      "import warnings\n",
      "warnings.simplefilter('ignore', DeprecationWarning)"
     ],
     "language": "python",
     "metadata": {},
     "outputs": [],
     "prompt_number": 16
    },
    {
     "cell_type": "code",
     "collapsed": false,
     "input": [
      "#GENDER COMPOSITION - Pie chart showing the gender breakdown of the dataset\n",
      "(df.gender.value_counts()/df.gender.count()*100).round(2).plot(kind='pie', autopct='%.2f', figsize=(7, 7))"
     ],
     "language": "python",
     "metadata": {},
     "outputs": [
      {
       "metadata": {},
       "output_type": "pyout",
       "prompt_number": 17,
       "text": [
        "<matplotlib.axes._subplots.AxesSubplot at 0x10f827850>"
       ]
      },
      {
       "metadata": {},
       "output_type": "display_data",
       "png": "[encoded data removed]",
       "text": [
        "<matplotlib.figure.Figure at 0x10f827110>"
       ]
      }
     ],
     "prompt_number": 17
    },
    {
     "cell_type": "markdown",
     "metadata": {},
     "source": [
      "<strong>Interpretation</strong>: This pie chart shows the gender breakdown of the data set. At this point, it is uncertain whether age is an indicator of readmittance, however, I feel that it may be so it is important to understand what portion of the data set is derived from males and females respectively. \n",
      "<br>\n",
      "<br>\n",
      "A pie chart was used because the chart attributes are each a portion of a whole. Using a pie chart is beneficial becuase it is a quick way of demonstrating that the gender composition is nearly 1:1."
     ]
    },
    {
     "cell_type": "code",
     "collapsed": false,
     "input": [
      "#READMITTANCE TYPE - Pie chart showing the readmittance counts for the dataset\n",
      "(df.readmitted.value_counts()/df.readmitted.count()*100).round(2).plot(kind='pie', autopct='%.2f', figsize=(7, 7))"
     ],
     "language": "python",
     "metadata": {},
     "outputs": [
      {
       "metadata": {},
       "output_type": "pyout",
       "prompt_number": 18,
       "text": [
        "<matplotlib.axes._subplots.AxesSubplot at 0x10f84bc90>"
       ]
      },
      {
       "metadata": {},
       "output_type": "display_data",
       "png": "[encoded data removed]",
       "text": [
        "<matplotlib.figure.Figure at 0x10f84fbd0>"
       ]
      }
     ],
     "prompt_number": 18
    },
    {
     "cell_type": "markdown",
     "metadata": {},
     "source": [
      "<strong>Interpretation</strong>: This pie chart shows the readmittance attribute of the data set and its composition. It indicates that the most common 'type' of readmission is not being readmitted at all. If a patient IS readmitted, however, it is more likely they will be readmitted after at least 30 days. This attribute will be very important in the future. \n",
      "<br>\n",
      "<br>\n",
      "A pie chart was used because the chart attributes are each a portion of a whole. This is a great way to visualize exactly what portion of patients were readmitted, and if so, at what point after their previous visit."
     ]
    },
    {
     "cell_type": "code",
     "collapsed": false,
     "input": [
      "#AGE BREAKDOWN - Bar chart showing the number of patients belonging to age categories\n",
      "age = df.age.value_counts()\n",
      "age.plot(kind='bar', figsize=(10, 5))"
     ],
     "language": "python",
     "metadata": {},
     "outputs": [
      {
       "metadata": {},
       "output_type": "pyout",
       "prompt_number": 23,
       "text": [
        "<matplotlib.axes._subplots.AxesSubplot at 0x11061a850>"
       ]
      },
      {
       "metadata": {},
       "output_type": "display_data",
       "png": "[encoded data removed]",
       "text": [
        "<matplotlib.figure.Figure at 0x110622b50>"
       ]
      }
     ],
     "prompt_number": 23
    },
    {
     "cell_type": "markdown",
     "metadata": {},
     "source": [
      "<strong>Interpretation</strong>: This bar chart shows the age distribution of the data set. It is rather surprising that so many of the patients included in this data set are of this age, however, it will be valuable in future analyses.\n",
      "<br>\n",
      "<br>\n",
      "A bar chart was used because a pie chart would have appeared to cluttered to understand. This chart is easy to comprehend and can help quickly communicate which age groups make up the majority of the data."
     ]
    },
    {
     "cell_type": "code",
     "collapsed": false,
     "input": [
      "#READMITTANCE BY RACE - Bar chart showing the number of times patients were readmitted, broken down by race\n",
      "race_readmittance.plot(kind='barh', figsize=(10, 5))"
     ],
     "language": "python",
     "metadata": {},
     "outputs": [
      {
       "metadata": {},
       "output_type": "pyout",
       "prompt_number": 24,
       "text": [
        "<matplotlib.axes._subplots.AxesSubplot at 0x110728490>"
       ]
      },
      {
       "metadata": {},
       "output_type": "display_data",
       "png": "[encoded data removed]",
       "text": [
        "<matplotlib.figure.Figure at 0x110742490>"
       ]
      }
     ],
     "prompt_number": 24
    },
    {
     "cell_type": "markdown",
     "metadata": {},
     "source": [
      "<strong>Interpretation</strong>: This chart is not as meaningful as it could be, however, it does snow that the majority of patients, regardless of race, are no readmitted at all. In addition, if patients are readmitted, it is more likely that they will be readmitted at least 30 after the initial hospitalization than at any point during the proceeding month.\n",
      "<br>\n",
      "<br>\n",
      "Once I gain a better understanding of how to manipulate the data, I will try to convert these numbers into percentages. Each bar will represent the percent of the race as opposed to the count of overall readmittances."
     ]
    },
    {
     "cell_type": "code",
     "collapsed": false,
     "input": [
      "#READMITTANCE BY AGE - Bar chart showing the number of times patients were readmitted, broken down by age\n",
      "age_readmittance.plot(kind='barh', figsize=(25, 10))"
     ],
     "language": "python",
     "metadata": {},
     "outputs": [
      {
       "metadata": {},
       "output_type": "pyout",
       "prompt_number": 25,
       "text": [
        "<matplotlib.axes._subplots.AxesSubplot at 0x110955dd0>"
       ]
      },
      {
       "metadata": {},
       "output_type": "display_data",
       "png": "[encoded data removed]",
       "text": [
        "<matplotlib.figure.Figure at 0x110742d50>"
       ]
      }
     ],
     "prompt_number": 25
    },
    {
     "cell_type": "markdown",
     "metadata": {},
     "source": [
      "<strong>Interpretation</strong>: This chart breaks down the type of readmittance by age. This data indicates that the regardless of age, patients are still readmitted at the same intervals. Not being readmitted is most likely, being readmitted more than 30 days after hospitalization is second likely and finally, it is least likely a patient will be readmitted in the proceeding month.\n",
      "<br>\n",
      "<br>\n",
      "Again, once I gain a better understanding of how to manipulate the data, I will try to convert these numbers into percentages. Each bar will represent the percent of the race as opposed to the count of overall readmittances."
     ]
    },
    {
     "cell_type": "code",
     "collapsed": false,
     "input": [
      "dfcopy = df\n",
      "dfcopy.time_in_hospital = pd.cut(df.time_in_hospital,[0,1,2,3,4,5,6,7,1e4],8,labels=['0-1','1-2','2-3','3-4','4-5','5-6','6-7','7+']) # this creates a new variable\n",
      "time_in_hospital = dfcopy.time_in_hospital.value_counts()\n",
      "\n",
      "print 'TIME IN HOSPITAL COMPOSITION'\n",
      "print time_in_hospital\n",
      "time_in_hospital.plot(kind='bar', figsize=(10, 5))"
     ],
     "language": "python",
     "metadata": {},
     "outputs": [
      {
       "output_type": "stream",
       "stream": "stdout",
       "text": [
        "TIME IN HOSPITAL COMPOSITION\n",
        "7+     0\n",
        "6-7    0\n",
        "5-6    0\n",
        "4-5    0\n",
        "3-4    0\n",
        "2-3    0\n",
        "1-2    0\n",
        "0-1    0\n",
        "dtype: int64\n"
       ]
      },
      {
       "metadata": {},
       "output_type": "pyout",
       "prompt_number": 40,
       "text": [
        "<matplotlib.axes._subplots.AxesSubplot at 0x1129a2190>"
       ]
      },
      {
       "metadata": {},
       "output_type": "display_data",
       "png": "[encoded data removed]",
       "text": [
        "<matplotlib.figure.Figure at 0x1129b6410>"
       ]
      }
     ],
     "prompt_number": 40
    },
    {
     "cell_type": "markdown",
     "metadata": {},
     "source": [
      "<strong>Interpretation</strong>: This was supposed to be a bar chart representing the most common times patients stayed in hospitals, but I could not get it to function. This is likely because the data type was a float and this type of function may only work with int values."
     ]
    },
    {
     "cell_type": "code",
     "collapsed": false,
     "input": [
      "readmission = pd.crosstab([df['readmitted']], df.readmitted.astype(object))\n",
      "readmission_by_age = readmission.div(readmission.sum(1).astype(float),axis=0) # normalize the value\n",
      "readmission_by_age.plot(kind='barh', stacked=False, color=['black','gold'])"
     ],
     "language": "python",
     "metadata": {},
     "outputs": [
      {
       "ename": "KeyError",
       "evalue": "'Level readmitted not found'",
       "output_type": "pyerr",
       "traceback": [
        "\u001b[0;31m---------------------------------------------------------------------------\u001b[0m\n\u001b[0;31mKeyError\u001b[0m                                  Traceback (most recent call last)",
        "\u001b[0;32m<ipython-input-42-6f9b2dec1571>\u001b[0m in \u001b[0;36m<module>\u001b[0;34m()\u001b[0m\n\u001b[0;32m----> 1\u001b[0;31m \u001b[0mreadmission\u001b[0m \u001b[0;34m=\u001b[0m \u001b[0mpd\u001b[0m\u001b[0;34m.\u001b[0m\u001b[0mcrosstab\u001b[0m\u001b[0;34m(\u001b[0m\u001b[0;34m[\u001b[0m\u001b[0mdf\u001b[0m\u001b[0;34m[\u001b[0m\u001b[0;34m'readmitted'\u001b[0m\u001b[0;34m]\u001b[0m\u001b[0;34m]\u001b[0m\u001b[0;34m,\u001b[0m \u001b[0mdf\u001b[0m\u001b[0;34m.\u001b[0m\u001b[0mreadmitted\u001b[0m\u001b[0;34m.\u001b[0m\u001b[0mastype\u001b[0m\u001b[0;34m(\u001b[0m\u001b[0mobject\u001b[0m\u001b[0;34m)\u001b[0m\u001b[0;34m)\u001b[0m\u001b[0;34m\u001b[0m\u001b[0m\n\u001b[0m\u001b[1;32m      2\u001b[0m \u001b[0mreadmission_by_age\u001b[0m \u001b[0;34m=\u001b[0m \u001b[0mreadmission\u001b[0m\u001b[0;34m.\u001b[0m\u001b[0mdiv\u001b[0m\u001b[0;34m(\u001b[0m\u001b[0mreadmission\u001b[0m\u001b[0;34m.\u001b[0m\u001b[0msum\u001b[0m\u001b[0;34m(\u001b[0m\u001b[0;36m1\u001b[0m\u001b[0;34m)\u001b[0m\u001b[0;34m.\u001b[0m\u001b[0mastype\u001b[0m\u001b[0;34m(\u001b[0m\u001b[0mfloat\u001b[0m\u001b[0;34m)\u001b[0m\u001b[0;34m,\u001b[0m\u001b[0maxis\u001b[0m\u001b[0;34m=\u001b[0m\u001b[0;36m0\u001b[0m\u001b[0;34m)\u001b[0m \u001b[0;31m# normalize the value\u001b[0m\u001b[0;34m\u001b[0m\u001b[0m\n\u001b[1;32m      3\u001b[0m \u001b[0mreadmission_by_age\u001b[0m\u001b[0;34m.\u001b[0m\u001b[0mplot\u001b[0m\u001b[0;34m(\u001b[0m\u001b[0mkind\u001b[0m\u001b[0;34m=\u001b[0m\u001b[0;34m'barh'\u001b[0m\u001b[0;34m,\u001b[0m \u001b[0mstacked\u001b[0m\u001b[0;34m=\u001b[0m\u001b[0mFalse\u001b[0m\u001b[0;34m,\u001b[0m \u001b[0mcolor\u001b[0m\u001b[0;34m=\u001b[0m\u001b[0;34m[\u001b[0m\u001b[0;34m'black'\u001b[0m\u001b[0;34m,\u001b[0m\u001b[0;34m'gold'\u001b[0m\u001b[0;34m]\u001b[0m\u001b[0;34m)\u001b[0m\u001b[0;34m\u001b[0m\u001b[0m\n",
        "\u001b[0;32m/usr/local/Cellar/python/2.7.9/Frameworks/Python.framework/Versions/2.7/lib/python2.7/site-packages/pandas/util/decorators.pyc\u001b[0m in \u001b[0;36mwrapper\u001b[0;34m(*args, **kwargs)\u001b[0m\n\u001b[1;32m     86\u001b[0m                 \u001b[0;32melse\u001b[0m\u001b[0;34m:\u001b[0m\u001b[0;34m\u001b[0m\u001b[0m\n\u001b[1;32m     87\u001b[0m                     \u001b[0mkwargs\u001b[0m\u001b[0;34m[\u001b[0m\u001b[0mnew_arg_name\u001b[0m\u001b[0;34m]\u001b[0m \u001b[0;34m=\u001b[0m \u001b[0mnew_arg_value\u001b[0m\u001b[0;34m\u001b[0m\u001b[0m\n\u001b[0;32m---> 88\u001b[0;31m             \u001b[0;32mreturn\u001b[0m \u001b[0mfunc\u001b[0m\u001b[0;34m(\u001b[0m\u001b[0;34m*\u001b[0m\u001b[0margs\u001b[0m\u001b[0;34m,\u001b[0m \u001b[0;34m**\u001b[0m\u001b[0mkwargs\u001b[0m\u001b[0;34m)\u001b[0m\u001b[0;34m\u001b[0m\u001b[0m\n\u001b[0m\u001b[1;32m     89\u001b[0m         \u001b[0;32mreturn\u001b[0m \u001b[0mwrapper\u001b[0m\u001b[0;34m\u001b[0m\u001b[0m\n\u001b[1;32m     90\u001b[0m     \u001b[0;32mreturn\u001b[0m \u001b[0m_deprecate_kwarg\u001b[0m\u001b[0;34m\u001b[0m\u001b[0m\n",
        "\u001b[0;32m/usr/local/Cellar/python/2.7.9/Frameworks/Python.framework/Versions/2.7/lib/python2.7/site-packages/pandas/util/decorators.pyc\u001b[0m in \u001b[0;36mwrapper\u001b[0;34m(*args, **kwargs)\u001b[0m\n\u001b[1;32m     86\u001b[0m                 \u001b[0;32melse\u001b[0m\u001b[0;34m:\u001b[0m\u001b[0;34m\u001b[0m\u001b[0m\n\u001b[1;32m     87\u001b[0m                     \u001b[0mkwargs\u001b[0m\u001b[0;34m[\u001b[0m\u001b[0mnew_arg_name\u001b[0m\u001b[0;34m]\u001b[0m \u001b[0;34m=\u001b[0m \u001b[0mnew_arg_value\u001b[0m\u001b[0;34m\u001b[0m\u001b[0m\n\u001b[0;32m---> 88\u001b[0;31m             \u001b[0;32mreturn\u001b[0m \u001b[0mfunc\u001b[0m\u001b[0;34m(\u001b[0m\u001b[0;34m*\u001b[0m\u001b[0margs\u001b[0m\u001b[0;34m,\u001b[0m \u001b[0;34m**\u001b[0m\u001b[0mkwargs\u001b[0m\u001b[0;34m)\u001b[0m\u001b[0;34m\u001b[0m\u001b[0m\n\u001b[0m\u001b[1;32m     89\u001b[0m         \u001b[0;32mreturn\u001b[0m \u001b[0mwrapper\u001b[0m\u001b[0;34m\u001b[0m\u001b[0m\n\u001b[1;32m     90\u001b[0m     \u001b[0;32mreturn\u001b[0m \u001b[0m_deprecate_kwarg\u001b[0m\u001b[0;34m\u001b[0m\u001b[0m\n",
        "\u001b[0;32m/usr/local/Cellar/python/2.7.9/Frameworks/Python.framework/Versions/2.7/lib/python2.7/site-packages/pandas/tools/pivot.pyc\u001b[0m in \u001b[0;36mcrosstab\u001b[0;34m(index, columns, values, rownames, colnames, aggfunc, margins, dropna)\u001b[0m\n\u001b[1;32m    393\u001b[0m         \u001b[0mdf\u001b[0m\u001b[0;34m[\u001b[0m\u001b[0;34m'__dummy__'\u001b[0m\u001b[0;34m]\u001b[0m \u001b[0;34m=\u001b[0m \u001b[0;36m0\u001b[0m\u001b[0;34m\u001b[0m\u001b[0m\n\u001b[1;32m    394\u001b[0m         table = df.pivot_table('__dummy__', index=rownames, columns=colnames,\n\u001b[0;32m--> 395\u001b[0;31m                                aggfunc=len, margins=margins, dropna=dropna)\n\u001b[0m\u001b[1;32m    396\u001b[0m         \u001b[0;32mreturn\u001b[0m \u001b[0mtable\u001b[0m\u001b[0;34m.\u001b[0m\u001b[0mfillna\u001b[0m\u001b[0;34m(\u001b[0m\u001b[0;36m0\u001b[0m\u001b[0;34m)\u001b[0m\u001b[0;34m.\u001b[0m\u001b[0mastype\u001b[0m\u001b[0;34m(\u001b[0m\u001b[0mnp\u001b[0m\u001b[0;34m.\u001b[0m\u001b[0mint64\u001b[0m\u001b[0;34m)\u001b[0m\u001b[0;34m\u001b[0m\u001b[0m\n\u001b[1;32m    397\u001b[0m     \u001b[0;32melse\u001b[0m\u001b[0;34m:\u001b[0m\u001b[0;34m\u001b[0m\u001b[0m\n",
        "\u001b[0;32m/usr/local/Cellar/python/2.7.9/Frameworks/Python.framework/Versions/2.7/lib/python2.7/site-packages/pandas/util/decorators.pyc\u001b[0m in \u001b[0;36mwrapper\u001b[0;34m(*args, **kwargs)\u001b[0m\n\u001b[1;32m     86\u001b[0m                 \u001b[0;32melse\u001b[0m\u001b[0;34m:\u001b[0m\u001b[0;34m\u001b[0m\u001b[0m\n\u001b[1;32m     87\u001b[0m                     \u001b[0mkwargs\u001b[0m\u001b[0;34m[\u001b[0m\u001b[0mnew_arg_name\u001b[0m\u001b[0;34m]\u001b[0m \u001b[0;34m=\u001b[0m \u001b[0mnew_arg_value\u001b[0m\u001b[0;34m\u001b[0m\u001b[0m\n\u001b[0;32m---> 88\u001b[0;31m             \u001b[0;32mreturn\u001b[0m \u001b[0mfunc\u001b[0m\u001b[0;34m(\u001b[0m\u001b[0;34m*\u001b[0m\u001b[0margs\u001b[0m\u001b[0;34m,\u001b[0m \u001b[0;34m**\u001b[0m\u001b[0mkwargs\u001b[0m\u001b[0;34m)\u001b[0m\u001b[0;34m\u001b[0m\u001b[0m\n\u001b[0m\u001b[1;32m     89\u001b[0m         \u001b[0;32mreturn\u001b[0m \u001b[0mwrapper\u001b[0m\u001b[0;34m\u001b[0m\u001b[0m\n\u001b[1;32m     90\u001b[0m     \u001b[0;32mreturn\u001b[0m \u001b[0m_deprecate_kwarg\u001b[0m\u001b[0;34m\u001b[0m\u001b[0m\n",
        "\u001b[0;32m/usr/local/Cellar/python/2.7.9/Frameworks/Python.framework/Versions/2.7/lib/python2.7/site-packages/pandas/util/decorators.pyc\u001b[0m in \u001b[0;36mwrapper\u001b[0;34m(*args, **kwargs)\u001b[0m\n\u001b[1;32m     86\u001b[0m                 \u001b[0;32melse\u001b[0m\u001b[0;34m:\u001b[0m\u001b[0;34m\u001b[0m\u001b[0m\n\u001b[1;32m     87\u001b[0m                     \u001b[0mkwargs\u001b[0m\u001b[0;34m[\u001b[0m\u001b[0mnew_arg_name\u001b[0m\u001b[0;34m]\u001b[0m \u001b[0;34m=\u001b[0m \u001b[0mnew_arg_value\u001b[0m\u001b[0;34m\u001b[0m\u001b[0m\n\u001b[0;32m---> 88\u001b[0;31m             \u001b[0;32mreturn\u001b[0m \u001b[0mfunc\u001b[0m\u001b[0;34m(\u001b[0m\u001b[0;34m*\u001b[0m\u001b[0margs\u001b[0m\u001b[0;34m,\u001b[0m \u001b[0;34m**\u001b[0m\u001b[0mkwargs\u001b[0m\u001b[0;34m)\u001b[0m\u001b[0;34m\u001b[0m\u001b[0m\n\u001b[0m\u001b[1;32m     89\u001b[0m         \u001b[0;32mreturn\u001b[0m \u001b[0mwrapper\u001b[0m\u001b[0;34m\u001b[0m\u001b[0m\n\u001b[1;32m     90\u001b[0m     \u001b[0;32mreturn\u001b[0m \u001b[0m_deprecate_kwarg\u001b[0m\u001b[0;34m\u001b[0m\u001b[0m\n",
        "\u001b[0;32m/usr/local/Cellar/python/2.7.9/Frameworks/Python.framework/Versions/2.7/lib/python2.7/site-packages/pandas/tools/pivot.pyc\u001b[0m in \u001b[0;36mpivot_table\u001b[0;34m(data, values, index, columns, aggfunc, fill_value, margins, dropna)\u001b[0m\n\u001b[1;32m    119\u001b[0m         to_unstack = [agged.index.names[i] or i\n\u001b[1;32m    120\u001b[0m                       for i in range(len(index), len(keys))]\n\u001b[0;32m--> 121\u001b[0;31m         \u001b[0mtable\u001b[0m \u001b[0;34m=\u001b[0m \u001b[0magged\u001b[0m\u001b[0;34m.\u001b[0m\u001b[0munstack\u001b[0m\u001b[0;34m(\u001b[0m\u001b[0mto_unstack\u001b[0m\u001b[0;34m)\u001b[0m\u001b[0;34m\u001b[0m\u001b[0m\n\u001b[0m\u001b[1;32m    122\u001b[0m \u001b[0;34m\u001b[0m\u001b[0m\n\u001b[1;32m    123\u001b[0m     \u001b[0;32mif\u001b[0m \u001b[0;32mnot\u001b[0m \u001b[0mdropna\u001b[0m\u001b[0;34m:\u001b[0m\u001b[0;34m\u001b[0m\u001b[0m\n",
        "\u001b[0;32m/usr/local/Cellar/python/2.7.9/Frameworks/Python.framework/Versions/2.7/lib/python2.7/site-packages/pandas/core/frame.pyc\u001b[0m in \u001b[0;36munstack\u001b[0;34m(self, level)\u001b[0m\n\u001b[1;32m   3486\u001b[0m         \"\"\"\n\u001b[1;32m   3487\u001b[0m         \u001b[0;32mfrom\u001b[0m \u001b[0mpandas\u001b[0m\u001b[0;34m.\u001b[0m\u001b[0mcore\u001b[0m\u001b[0;34m.\u001b[0m\u001b[0mreshape\u001b[0m \u001b[0;32mimport\u001b[0m \u001b[0munstack\u001b[0m\u001b[0;34m\u001b[0m\u001b[0m\n\u001b[0;32m-> 3488\u001b[0;31m         \u001b[0;32mreturn\u001b[0m \u001b[0munstack\u001b[0m\u001b[0;34m(\u001b[0m\u001b[0mself\u001b[0m\u001b[0;34m,\u001b[0m \u001b[0mlevel\u001b[0m\u001b[0;34m)\u001b[0m\u001b[0;34m\u001b[0m\u001b[0m\n\u001b[0m\u001b[1;32m   3489\u001b[0m \u001b[0;34m\u001b[0m\u001b[0m\n\u001b[1;32m   3490\u001b[0m     \u001b[0;31m#----------------------------------------------------------------------\u001b[0m\u001b[0;34m\u001b[0m\u001b[0;34m\u001b[0m\u001b[0m\n",
        "\u001b[0;32m/usr/local/Cellar/python/2.7.9/Frameworks/Python.framework/Versions/2.7/lib/python2.7/site-packages/pandas/core/reshape.pyc\u001b[0m in \u001b[0;36munstack\u001b[0;34m(obj, level)\u001b[0m\n\u001b[1;32m    435\u001b[0m \u001b[0;32mdef\u001b[0m \u001b[0munstack\u001b[0m\u001b[0;34m(\u001b[0m\u001b[0mobj\u001b[0m\u001b[0;34m,\u001b[0m \u001b[0mlevel\u001b[0m\u001b[0;34m)\u001b[0m\u001b[0;34m:\u001b[0m\u001b[0;34m\u001b[0m\u001b[0m\n\u001b[1;32m    436\u001b[0m     \u001b[0;32mif\u001b[0m \u001b[0misinstance\u001b[0m\u001b[0;34m(\u001b[0m\u001b[0mlevel\u001b[0m\u001b[0;34m,\u001b[0m \u001b[0;34m(\u001b[0m\u001b[0mtuple\u001b[0m\u001b[0;34m,\u001b[0m \u001b[0mlist\u001b[0m\u001b[0;34m)\u001b[0m\u001b[0;34m)\u001b[0m\u001b[0;34m:\u001b[0m\u001b[0;34m\u001b[0m\u001b[0m\n\u001b[0;32m--> 437\u001b[0;31m         \u001b[0;32mreturn\u001b[0m \u001b[0m_unstack_multiple\u001b[0m\u001b[0;34m(\u001b[0m\u001b[0mobj\u001b[0m\u001b[0;34m,\u001b[0m \u001b[0mlevel\u001b[0m\u001b[0;34m)\u001b[0m\u001b[0;34m\u001b[0m\u001b[0m\n\u001b[0m\u001b[1;32m    438\u001b[0m \u001b[0;34m\u001b[0m\u001b[0m\n\u001b[1;32m    439\u001b[0m     \u001b[0;32mif\u001b[0m \u001b[0misinstance\u001b[0m\u001b[0;34m(\u001b[0m\u001b[0mobj\u001b[0m\u001b[0;34m,\u001b[0m \u001b[0mDataFrame\u001b[0m\u001b[0;34m)\u001b[0m\u001b[0;34m:\u001b[0m\u001b[0;34m\u001b[0m\u001b[0m\n",
        "\u001b[0;32m/usr/local/Cellar/python/2.7.9/Frameworks/Python.framework/Versions/2.7/lib/python2.7/site-packages/pandas/core/reshape.pyc\u001b[0m in \u001b[0;36m_unstack_multiple\u001b[0;34m(data, clocs)\u001b[0m\n\u001b[1;32m    294\u001b[0m     \u001b[0mindex\u001b[0m \u001b[0;34m=\u001b[0m \u001b[0mdata\u001b[0m\u001b[0;34m.\u001b[0m\u001b[0mindex\u001b[0m\u001b[0;34m\u001b[0m\u001b[0m\n\u001b[1;32m    295\u001b[0m \u001b[0;34m\u001b[0m\u001b[0m\n\u001b[0;32m--> 296\u001b[0;31m     \u001b[0mclocs\u001b[0m \u001b[0;34m=\u001b[0m \u001b[0;34m[\u001b[0m\u001b[0mindex\u001b[0m\u001b[0;34m.\u001b[0m\u001b[0m_get_level_number\u001b[0m\u001b[0;34m(\u001b[0m\u001b[0mi\u001b[0m\u001b[0;34m)\u001b[0m \u001b[0;32mfor\u001b[0m \u001b[0mi\u001b[0m \u001b[0;32min\u001b[0m \u001b[0mclocs\u001b[0m\u001b[0;34m]\u001b[0m\u001b[0;34m\u001b[0m\u001b[0m\n\u001b[0m\u001b[1;32m    297\u001b[0m \u001b[0;34m\u001b[0m\u001b[0m\n\u001b[1;32m    298\u001b[0m     \u001b[0mrlocs\u001b[0m \u001b[0;34m=\u001b[0m \u001b[0;34m[\u001b[0m\u001b[0mi\u001b[0m \u001b[0;32mfor\u001b[0m \u001b[0mi\u001b[0m \u001b[0;32min\u001b[0m \u001b[0mrange\u001b[0m\u001b[0;34m(\u001b[0m\u001b[0mindex\u001b[0m\u001b[0;34m.\u001b[0m\u001b[0mnlevels\u001b[0m\u001b[0;34m)\u001b[0m \u001b[0;32mif\u001b[0m \u001b[0mi\u001b[0m \u001b[0;32mnot\u001b[0m \u001b[0;32min\u001b[0m \u001b[0mclocs\u001b[0m\u001b[0;34m]\u001b[0m\u001b[0;34m\u001b[0m\u001b[0m\n",
        "\u001b[0;32m/usr/local/Cellar/python/2.7.9/Frameworks/Python.framework/Versions/2.7/lib/python2.7/site-packages/pandas/core/index.pyc\u001b[0m in \u001b[0;36m_get_level_number\u001b[0;34m(self, level)\u001b[0m\n\u001b[1;32m   3166\u001b[0m         \u001b[0;32mexcept\u001b[0m \u001b[0mValueError\u001b[0m\u001b[0;34m:\u001b[0m\u001b[0;34m\u001b[0m\u001b[0m\n\u001b[1;32m   3167\u001b[0m             \u001b[0;32mif\u001b[0m \u001b[0;32mnot\u001b[0m \u001b[0misinstance\u001b[0m\u001b[0;34m(\u001b[0m\u001b[0mlevel\u001b[0m\u001b[0;34m,\u001b[0m \u001b[0mint\u001b[0m\u001b[0;34m)\u001b[0m\u001b[0;34m:\u001b[0m\u001b[0;34m\u001b[0m\u001b[0m\n\u001b[0;32m-> 3168\u001b[0;31m                 \u001b[0;32mraise\u001b[0m \u001b[0mKeyError\u001b[0m\u001b[0;34m(\u001b[0m\u001b[0;34m'Level %s not found'\u001b[0m \u001b[0;34m%\u001b[0m \u001b[0mstr\u001b[0m\u001b[0;34m(\u001b[0m\u001b[0mlevel\u001b[0m\u001b[0;34m)\u001b[0m\u001b[0;34m)\u001b[0m\u001b[0;34m\u001b[0m\u001b[0m\n\u001b[0m\u001b[1;32m   3169\u001b[0m             \u001b[0;32melif\u001b[0m \u001b[0mlevel\u001b[0m \u001b[0;34m<\u001b[0m \u001b[0;36m0\u001b[0m\u001b[0;34m:\u001b[0m\u001b[0;34m\u001b[0m\u001b[0m\n\u001b[1;32m   3170\u001b[0m                 \u001b[0mlevel\u001b[0m \u001b[0;34m+=\u001b[0m \u001b[0mself\u001b[0m\u001b[0;34m.\u001b[0m\u001b[0mnlevels\u001b[0m\u001b[0;34m\u001b[0m\u001b[0m\n",
        "\u001b[0;31mKeyError\u001b[0m: 'Level readmitted not found'"
       ]
      }
     ],
     "prompt_number": 42
    },
    {
     "cell_type": "code",
     "collapsed": false,
     "input": [
      "from pandas.tools.plotting import scatter_matrix\n",
      "\n",
      "#SCATTER MATRIX - This is useless at this point, but it was still interesting to try to use pandas functionality \n",
      "#and creating a meaningful scatter matrix in the future will be an important analysis feature.\n",
      "scatter = scatter_matrix(df,figsize=(25, 20))"
     ],
     "language": "python",
     "metadata": {},
     "outputs": []
    },
    {
     "cell_type": "markdown",
     "metadata": {},
     "source": [
      "<h3 style=\"text-align:center\">Findings & Analysis</h3>\n",
      "____\n",
      "At this point, I have not found any features that have any significant correlation to patient readmission. There are quite a few interesting findings addressed above, some of which have already broken hypotheses about data such as the impact of gender upon the severity of admission.\n",
      "<br>\n",
      "<br>\n",
      "There are definitely some features that, if added to the data set, might yield some very interesting results. In particular, having details about patient weight would be very beneficial. It is dissapointing that the weight data is missing from this set because of the strong relationship between obesity and diabetes. In addition, having more detailed information about readmission would have been very beneficial. If a patient is readmitted a week later or 3 weeks later may have a huge impact ont the ability to predict readmission. Similarly, a patient may be readmitted 31 days after initial admission and or the may be readmitted 20 years later and the result on this model is still the same. If readmission was broken up into categories, it may yield more accurate predictions of the readmission attribute."
     ]
    },
    {
     "cell_type": "markdown",
     "metadata": {},
     "source": [
      "<br>\n",
      "<br>\n",
      "<br>\n",
      "<h3> Personal Notes & References </h3>\n",
      "- <a href=\"https://github.com/github/markup/tree/master#html-sanitization\">Additional information on iPython support of HTML </a>"
     ]
    }
   ],
   "metadata": {}
  }
 ]
}