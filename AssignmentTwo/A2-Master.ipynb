{
 "metadata": {
  "name": "",
  "signature": "sha256:31b34d20af545cc84a42a690258084d74403617312ec9b2fc93dd6fa4adb5353"
 },
 "nbformat": 3,
 "nbformat_minor": 0,
 "worksheets": [
  {
   "cells": [
    {
     "cell_type": "markdown",
     "metadata": {},
     "source": [
      "Assignment 2 : Classification with Logistic Regression and Support Vector Machines\n",
      "===\n",
      "##Hector Curi - Spencer Kaiser\n",
      "\n",
      "---\n",
      "Instructions\n",
      "---\n",
      "You are to perform predictive analysis (classification) upon a data set: model the dataset using methods we have discussed in class: logistic regression and support vector machines, and making conclusions from the analysis. Follow the CRISP-DM framework in your analysis (you are not performing all of the CRISP-DM outline, only the portions relevant to the grading rubric outlined below). This report is worth 15% of the final grade. You may complete this assignment in teams of as many as three people (but no more). Only turn in one report to blackboard. \n",
      "\n",
      "Write a report covering all the steps of the project. The results should be reproducible using your report. Please carefully describe every assumption and every step in your report.\n",
      "\n",
      "---\n",
      "Dataset Selection\n",
      "---\n",
      "Select a dataset identically to the way you selected for assignment one. You are not required to use the same dataset that you used for assignment one, but you are encouraged. You must identify two or more classification tasks from the dataset. For example, if your dataset was from the diabetes data you might try to predict two tasks: (1) if a patient will be readmitted within a 30 day period or not, and (2) what the total number of days a patient will spend in the hospital, given their history and specifics of the encounter. \n",
      "\n",
      "---\n",
      "### Initial Code\n"
     ]
    },
    {
     "cell_type": "code",
     "collapsed": true,
     "input": [
      "#import all packages used in this assignment\n",
      "import pandas as pd\n",
      "import sqlite3\n",
      "import numpy as np\n",
      "import matplotlib.pyplot as plt\n",
      "import warnings\n",
      "import seaborn as sns\n",
      "from pandas.tools.plotting import scatter_matrix\n",
      "warnings.simplefilter('ignore', DeprecationWarning)\n",
      "%matplotlib inline\n",
      "\n",
      "# read in the csv file\n",
      "df_raw = pd.read_csv('data/adult.data')"
     ],
     "language": "python",
     "metadata": {},
     "outputs": [],
     "prompt_number": 31
    },
    {
     "cell_type": "markdown",
     "metadata": {},
     "source": [
      "Data Preparation\n",
      "---\n",
      "\n",
      "---\n",
      "### 1. Class Variables (20 points)\n",
      "**Define and prepare your class variables. Use proper variable representations (int, float, one-hot, etc.). And use pre-processing methods as needed for dimensionality reduction, scaling, etc. Remove variables that are not needed/useful for the analysis**"
     ]
    },
    {
     "cell_type": "code",
     "collapsed": false,
     "input": [
      "# Here is the general description of our data\n",
      "df_raw.info()"
     ],
     "language": "python",
     "metadata": {},
     "outputs": [
      {
       "output_type": "stream",
       "stream": "stdout",
       "text": [
        "<class 'pandas.core.frame.DataFrame'>\n",
        "Int64Index: 32561 entries, 0 to 32560\n",
        "Data columns (total 15 columns):\n",
        "age               32561 non-null int64\n",
        "workclass         32561 non-null object\n",
        "fnlwgt            32561 non-null int64\n",
        "education         32561 non-null object\n",
        "education-num     32561 non-null int64\n",
        "marital-status    32561 non-null object\n",
        "occupation        32561 non-null object\n",
        "relationship      32561 non-null object\n",
        "race              32561 non-null object\n",
        "sex               32561 non-null object\n",
        "capital-gain      32561 non-null int64\n",
        "capital-loss      32561 non-null int64\n",
        "hours-per-week    32561 non-null int64\n",
        "native-country    32561 non-null object\n",
        "income            32561 non-null object\n",
        "dtypes: int64(6), object(9)\n",
        "memory usage: 4.0+ MB\n"
       ]
      }
     ],
     "prompt_number": 32
    },
    {
     "cell_type": "code",
     "collapsed": false,
     "input": [
      "# As we can see, it seems that all of the values are there, but after looking at the data file\n",
      "# we noticed that there are some values recorded as '?', these are the missing values.\n",
      "\n",
      "# First let's replace ' ?' with NaN (not a number) for all the missing values\n",
      "df = df_raw.replace(to_replace='?',value=np.nan)\n",
      "\n",
      "# Now let's see how many values we actually have\n",
      "df.info()"
     ],
     "language": "python",
     "metadata": {},
     "outputs": [
      {
       "output_type": "stream",
       "stream": "stdout",
       "text": [
        "<class 'pandas.core.frame.DataFrame'>\n",
        "Int64Index: 32561 entries, 0 to 32560\n",
        "Data columns (total 15 columns):\n",
        "age               32561 non-null int64\n",
        "workclass         32561 non-null object\n",
        "fnlwgt            32561 non-null int64\n",
        "education         32561 non-null object\n",
        "education-num     32561 non-null int64\n",
        "marital-status    32561 non-null object\n",
        "occupation        32561 non-null object\n",
        "relationship      32561 non-null object\n",
        "race              32561 non-null object\n",
        "sex               32561 non-null object\n",
        "capital-gain      32561 non-null int64\n",
        "capital-loss      32561 non-null int64\n",
        "hours-per-week    32561 non-null int64\n",
        "native-country    32561 non-null object\n",
        "income            32561 non-null object\n",
        "dtypes: int64(6), object(9)\n",
        "memory usage: 4.0+ MB\n"
       ]
      }
     ],
     "prompt_number": 33
    },
    {
     "cell_type": "code",
     "collapsed": false,
     "input": [
      "# We can see that workclass, occupation and native-country have some missing values.\n",
      "# Because only 2399 rows have missing values in them out of 32561 total (7.36% of the data),\n",
      "# We will just remove those instances from our dataset.\n",
      "\n",
      "df = df.dropna(how='any')\n",
      "\n",
      "# Now the data has 30162 instances with no missing values. :)\n",
      "df.info()"
     ],
     "language": "python",
     "metadata": {},
     "outputs": [
      {
       "output_type": "stream",
       "stream": "stdout",
       "text": [
        "<class 'pandas.core.frame.DataFrame'>\n",
        "Int64Index: 32561 entries, 0 to 32560\n",
        "Data columns (total 15 columns):\n",
        "age               32561 non-null int64\n",
        "workclass         32561 non-null object\n",
        "fnlwgt            32561 non-null int64\n",
        "education         32561 non-null object\n",
        "education-num     32561 non-null int64\n",
        "marital-status    32561 non-null object\n",
        "occupation        32561 non-null object\n",
        "relationship      32561 non-null object\n",
        "race              32561 non-null object\n",
        "sex               32561 non-null object\n",
        "capital-gain      32561 non-null int64\n",
        "capital-loss      32561 non-null int64\n",
        "hours-per-week    32561 non-null int64\n",
        "native-country    32561 non-null object\n",
        "income            32561 non-null object\n",
        "dtypes: int64(6), object(9)\n",
        "memory usage: 4.0+ MB\n"
       ]
      }
     ],
     "prompt_number": 34
    },
    {
     "cell_type": "code",
     "collapsed": false,
     "input": [
      "# Now we are going to remove the attributes that we think are not useful for our model\n",
      "# fnlwgt is an assigned weight by the census bureau, we don't know it's formula so its useless to us\n",
      "del df['fnlwgt']\n",
      "\n",
      "# education-num is an ordinal representation of the education level, which is better for data modelling\n",
      "# thus we remove the education attribute\n",
      "del df['education']\n",
      "\n",
      "# relationship contains very strange values such as \"Not-in-family, Other-relative, Own-child\", so we will get rid of it.\n",
      "del df['relationship']"
     ],
     "language": "python",
     "metadata": {},
     "outputs": [],
     "prompt_number": 35
    },
    {
     "cell_type": "code",
     "collapsed": false,
     "input": [
      "# Now our data contains these attributes\n",
      "df.info()"
     ],
     "language": "python",
     "metadata": {},
     "outputs": [
      {
       "output_type": "stream",
       "stream": "stdout",
       "text": [
        "<class 'pandas.core.frame.DataFrame'>\n",
        "Int64Index: 32561 entries, 0 to 32560\n",
        "Data columns (total 12 columns):\n",
        "age               32561 non-null int64\n",
        "workclass         32561 non-null object\n",
        "education-num     32561 non-null int64\n",
        "marital-status    32561 non-null object\n",
        "occupation        32561 non-null object\n",
        "race              32561 non-null object\n",
        "sex               32561 non-null object\n",
        "capital-gain      32561 non-null int64\n",
        "capital-loss      32561 non-null int64\n",
        "hours-per-week    32561 non-null int64\n",
        "native-country    32561 non-null object\n",
        "income            32561 non-null object\n",
        "dtypes: int64(5), object(7)\n",
        "memory usage: 3.2+ MB\n"
       ]
      }
     ],
     "prompt_number": 36
    },
    {
     "cell_type": "code",
     "collapsed": false,
     "input": [
      "# Now we are going to rename the attributes for an easier understanding of the data\n",
      "df = df.rename(columns={'income': 'salaryOver50K', 'sex': 'isMale', 'education-num':'educationLevel',\n",
      "                        'marital-status':'maritalStatus','capital-gain':'capitalGain','capital-loss':'capitalLoss',\n",
      "                        'native-country':'nativeCountry','hours-per-week':'hoursPerWeek'})"
     ],
     "language": "python",
     "metadata": {},
     "outputs": [],
     "prompt_number": 37
    },
    {
     "cell_type": "code",
     "collapsed": false,
     "input": [
      "# Now our data contains these attributes\n",
      "df.info()"
     ],
     "language": "python",
     "metadata": {},
     "outputs": [
      {
       "output_type": "stream",
       "stream": "stdout",
       "text": [
        "<class 'pandas.core.frame.DataFrame'>\n",
        "Int64Index: 32561 entries, 0 to 32560\n",
        "Data columns (total 12 columns):\n",
        "age               32561 non-null int64\n",
        "workclass         32561 non-null object\n",
        "educationLevel    32561 non-null int64\n",
        "maritalStatus     32561 non-null object\n",
        "occupation        32561 non-null object\n",
        "race              32561 non-null object\n",
        "isMale            32561 non-null object\n",
        "capitalGain       32561 non-null int64\n",
        "capitalLoss       32561 non-null int64\n",
        "hoursPerWeek      32561 non-null int64\n",
        "nativeCountry     32561 non-null object\n",
        "salaryOver50K     32561 non-null object\n",
        "dtypes: int64(5), object(7)\n",
        "memory usage: 3.2+ MB\n"
       ]
      }
     ],
     "prompt_number": 38
    },
    {
     "cell_type": "code",
     "collapsed": false,
     "input": [
      "# Now let's convert to camel case all of the values with dashes in workclass\n",
      "df = df.replace(to_replace='Federal-gov',value='FederalGovernment')\n",
      "df = df.replace(to_replace='State-gov',value='StateGovernment')\n",
      "df = df.replace(to_replace='Never-worked',value='NeverWorked')\n",
      "df = df.replace(to_replace='Private',value='Private')\n",
      "df = df.replace(to_replace='Self-emp-inc',value='SelfEmployedIncorporated')\n",
      "df = df.replace(to_replace='Self-emp-not-inc',value='SelfEmpoyedNotIncorporated')\n",
      "df = df.replace(to_replace='Local-gov',value='LocalGovernment')\n",
      "df = df.replace(to_replace='Without-pay',value='WithoutPay')\n",
      "\n",
      "# Now let's convert to camel case all of the values with dashes in marital status\n",
      "df = df.replace(to_replace='Married-AF-spouse',value='MarriedAFSpouse')\n",
      "df = df.replace(to_replace='Married-civ-spouse',value='MarriedCivSpouse')\n",
      "df = df.replace(to_replace='Married-spouse-absent',value='MarriedSpouseAbsent')\n",
      "df = df.replace(to_replace='Never-married',value='NeverMarried')\n",
      "\n",
      "# Now let's convert to camel case all of the values with dashes in occupation\n",
      "df = df.replace(to_replace='Adm-clerical',value='AdmClerical')\n",
      "df = df.replace(to_replace='Armed-Forces,',value='ArmedForces,')\n",
      "df = df.replace(to_replace='Craft-repair',value='CraftRepair')\n",
      "df = df.replace(to_replace='Exec-managerial',value='ExecManagerial')\n",
      "df = df.replace(to_replace='Farming-fishing',value='FarmingFishing')\n",
      "df = df.replace(to_replace='Handlers-cleaners',value='HandlersCleaners')\n",
      "df = df.replace(to_replace='Machine-op-inspct',value='MachineOpsInspector')\n",
      "df = df.replace(to_replace='Other-service',value='OtherService')\n",
      "df = df.replace(to_replace='Priv-house-serv',value='PrivHouseServ')\n",
      "df = df.replace(to_replace='Prof-specialty',value='ProfSpecialty')\n",
      "df = df.replace(to_replace='Protective-serv',value='ProtectiveServant')\n",
      "df = df.replace(to_replace='Tech-support',value='TechSupport')\n",
      "df = df.replace(to_replace='Transport-moving',value='TransportMoving')\n",
      "\n",
      "# Now let's convert to camel case all of the values with dashes in race\n",
      "df = df.replace(to_replace='Amer-Indian-Eskimo',value='AmerIndianEskimo')\n",
      "df = df.replace(to_replace='Asian-Pac-Islander',value='AsianPacIslander')\n",
      "\n",
      "# Now let's convert to camel case all of the values with dashes in nativeCountry\n",
      "df = df.replace(to_replace='Dominican-Republic',value='DominicanRepublic,')\n",
      "df = df.replace(to_replace='El-Salvador',value='ElSalvador,')\n",
      "df = df.replace(to_replace='Holand-Netherlands',value='Netherlands')\n",
      "df = df.replace(to_replace='Outlying-US(Guam-USVI-etc)',value='OutlyingUS')\n",
      "df = df.replace(to_replace='Puerto-Rico',value='PuertoRico')\n",
      "df = df.replace(to_replace='Trinadad&Tobago',value='Trinidad&Tobago')\n",
      "df = df.replace(to_replace='United-States',value='US')"
     ],
     "language": "python",
     "metadata": {},
     "outputs": [],
     "prompt_number": 39
    },
    {
     "cell_type": "code",
     "collapsed": false,
     "input": [
      "# Now our data looks like this\n",
      "df.head()"
     ],
     "language": "python",
     "metadata": {},
     "outputs": [
      {
       "html": [
        "<div style=\"max-height:1000px;max-width:1500px;overflow:auto;\">\n",
        "<table border=\"1\" class=\"dataframe\">\n",
        "  <thead>\n",
        "    <tr style=\"text-align: right;\">\n",
        "      <th></th>\n",
        "      <th>age</th>\n",
        "      <th>workclass</th>\n",
        "      <th>educationLevel</th>\n",
        "      <th>maritalStatus</th>\n",
        "      <th>occupation</th>\n",
        "      <th>race</th>\n",
        "      <th>isMale</th>\n",
        "      <th>capitalGain</th>\n",
        "      <th>capitalLoss</th>\n",
        "      <th>hoursPerWeek</th>\n",
        "      <th>nativeCountry</th>\n",
        "      <th>salaryOver50K</th>\n",
        "    </tr>\n",
        "  </thead>\n",
        "  <tbody>\n",
        "    <tr>\n",
        "      <th>0</th>\n",
        "      <td> 39</td>\n",
        "      <td>            StateGovernment</td>\n",
        "      <td> 13</td>\n",
        "      <td>     NeverMarried</td>\n",
        "      <td>      AdmClerical</td>\n",
        "      <td>  White</td>\n",
        "      <td>    Male</td>\n",
        "      <td> 2174</td>\n",
        "      <td> 0</td>\n",
        "      <td> 40</td>\n",
        "      <td>    US</td>\n",
        "      <td>  &lt;=50K</td>\n",
        "    </tr>\n",
        "    <tr>\n",
        "      <th>1</th>\n",
        "      <td> 50</td>\n",
        "      <td> SelfEmpoyedNotIncorporated</td>\n",
        "      <td> 13</td>\n",
        "      <td> MarriedCivSpouse</td>\n",
        "      <td>   ExecManagerial</td>\n",
        "      <td>  White</td>\n",
        "      <td>    Male</td>\n",
        "      <td>    0</td>\n",
        "      <td> 0</td>\n",
        "      <td> 13</td>\n",
        "      <td>    US</td>\n",
        "      <td>  &lt;=50K</td>\n",
        "    </tr>\n",
        "    <tr>\n",
        "      <th>2</th>\n",
        "      <td> 38</td>\n",
        "      <td>                    Private</td>\n",
        "      <td>  9</td>\n",
        "      <td>         Divorced</td>\n",
        "      <td> HandlersCleaners</td>\n",
        "      <td>  White</td>\n",
        "      <td>    Male</td>\n",
        "      <td>    0</td>\n",
        "      <td> 0</td>\n",
        "      <td> 40</td>\n",
        "      <td>    US</td>\n",
        "      <td>  &lt;=50K</td>\n",
        "    </tr>\n",
        "    <tr>\n",
        "      <th>3</th>\n",
        "      <td> 53</td>\n",
        "      <td>                    Private</td>\n",
        "      <td>  7</td>\n",
        "      <td> MarriedCivSpouse</td>\n",
        "      <td> HandlersCleaners</td>\n",
        "      <td>  Black</td>\n",
        "      <td>    Male</td>\n",
        "      <td>    0</td>\n",
        "      <td> 0</td>\n",
        "      <td> 40</td>\n",
        "      <td>    US</td>\n",
        "      <td>  &lt;=50K</td>\n",
        "    </tr>\n",
        "    <tr>\n",
        "      <th>4</th>\n",
        "      <td> 28</td>\n",
        "      <td>                    Private</td>\n",
        "      <td> 13</td>\n",
        "      <td> MarriedCivSpouse</td>\n",
        "      <td>    ProfSpecialty</td>\n",
        "      <td>  Black</td>\n",
        "      <td>  Female</td>\n",
        "      <td>    0</td>\n",
        "      <td> 0</td>\n",
        "      <td> 40</td>\n",
        "      <td>  Cuba</td>\n",
        "      <td>  &lt;=50K</td>\n",
        "    </tr>\n",
        "  </tbody>\n",
        "</table>\n",
        "</div>"
       ],
       "metadata": {},
       "output_type": "pyout",
       "prompt_number": 40,
       "text": [
        "   age                   workclass  educationLevel     maritalStatus  \\\n",
        "0   39             StateGovernment              13      NeverMarried   \n",
        "1   50  SelfEmpoyedNotIncorporated              13  MarriedCivSpouse   \n",
        "2   38                     Private               9          Divorced   \n",
        "3   53                     Private               7  MarriedCivSpouse   \n",
        "4   28                     Private              13  MarriedCivSpouse   \n",
        "\n",
        "         occupation    race   isMale  capitalGain  capitalLoss  hoursPerWeek  \\\n",
        "0       AdmClerical   White     Male         2174            0            40   \n",
        "1    ExecManagerial   White     Male            0            0            13   \n",
        "2  HandlersCleaners   White     Male            0            0            40   \n",
        "3  HandlersCleaners   Black     Male            0            0            40   \n",
        "4     ProfSpecialty   Black   Female            0            0            40   \n",
        "\n",
        "  nativeCountry salaryOver50K  \n",
        "0            US         <=50K  \n",
        "1            US         <=50K  \n",
        "2            US         <=50K  \n",
        "3            US         <=50K  \n",
        "4          Cuba         <=50K  "
       ]
      }
     ],
     "prompt_number": 40
    },
    {
     "cell_type": "code",
     "collapsed": false,
     "input": [
      "# Now let's replace the binomial attributes with binary values 1 and 0\n",
      "# replace sex values with binary values\n",
      "df = df.replace(to_replace='Female',value=0)\n",
      "df = df.replace(to_replace='Male',value=1)\n",
      "\n",
      "# replace income values with binary values\n",
      "df = df.replace(to_replace='<=50K',value=0)\n",
      "df = df.replace(to_replace='>50K',value=1)"
     ],
     "language": "python",
     "metadata": {},
     "outputs": [],
     "prompt_number": 41
    },
    {
     "cell_type": "code",
     "collapsed": false,
     "input": [
      "# Now our data looks like this\n",
      "df.head()"
     ],
     "language": "python",
     "metadata": {},
     "outputs": [
      {
       "html": [
        "<div style=\"max-height:1000px;max-width:1500px;overflow:auto;\">\n",
        "<table border=\"1\" class=\"dataframe\">\n",
        "  <thead>\n",
        "    <tr style=\"text-align: right;\">\n",
        "      <th></th>\n",
        "      <th>age</th>\n",
        "      <th>workclass</th>\n",
        "      <th>educationLevel</th>\n",
        "      <th>maritalStatus</th>\n",
        "      <th>occupation</th>\n",
        "      <th>race</th>\n",
        "      <th>isMale</th>\n",
        "      <th>capitalGain</th>\n",
        "      <th>capitalLoss</th>\n",
        "      <th>hoursPerWeek</th>\n",
        "      <th>nativeCountry</th>\n",
        "      <th>salaryOver50K</th>\n",
        "    </tr>\n",
        "  </thead>\n",
        "  <tbody>\n",
        "    <tr>\n",
        "      <th>0</th>\n",
        "      <td> 39</td>\n",
        "      <td>            StateGovernment</td>\n",
        "      <td> 13</td>\n",
        "      <td>     NeverMarried</td>\n",
        "      <td>      AdmClerical</td>\n",
        "      <td>  White</td>\n",
        "      <td> 1</td>\n",
        "      <td> 2174</td>\n",
        "      <td> 0</td>\n",
        "      <td> 40</td>\n",
        "      <td>    US</td>\n",
        "      <td> 0</td>\n",
        "    </tr>\n",
        "    <tr>\n",
        "      <th>1</th>\n",
        "      <td> 50</td>\n",
        "      <td> SelfEmpoyedNotIncorporated</td>\n",
        "      <td> 13</td>\n",
        "      <td> MarriedCivSpouse</td>\n",
        "      <td>   ExecManagerial</td>\n",
        "      <td>  White</td>\n",
        "      <td> 1</td>\n",
        "      <td>    0</td>\n",
        "      <td> 0</td>\n",
        "      <td> 13</td>\n",
        "      <td>    US</td>\n",
        "      <td> 0</td>\n",
        "    </tr>\n",
        "    <tr>\n",
        "      <th>2</th>\n",
        "      <td> 38</td>\n",
        "      <td>                    Private</td>\n",
        "      <td>  9</td>\n",
        "      <td>         Divorced</td>\n",
        "      <td> HandlersCleaners</td>\n",
        "      <td>  White</td>\n",
        "      <td> 1</td>\n",
        "      <td>    0</td>\n",
        "      <td> 0</td>\n",
        "      <td> 40</td>\n",
        "      <td>    US</td>\n",
        "      <td> 0</td>\n",
        "    </tr>\n",
        "    <tr>\n",
        "      <th>3</th>\n",
        "      <td> 53</td>\n",
        "      <td>                    Private</td>\n",
        "      <td>  7</td>\n",
        "      <td> MarriedCivSpouse</td>\n",
        "      <td> HandlersCleaners</td>\n",
        "      <td>  Black</td>\n",
        "      <td> 1</td>\n",
        "      <td>    0</td>\n",
        "      <td> 0</td>\n",
        "      <td> 40</td>\n",
        "      <td>    US</td>\n",
        "      <td> 0</td>\n",
        "    </tr>\n",
        "    <tr>\n",
        "      <th>4</th>\n",
        "      <td> 28</td>\n",
        "      <td>                    Private</td>\n",
        "      <td> 13</td>\n",
        "      <td> MarriedCivSpouse</td>\n",
        "      <td>    ProfSpecialty</td>\n",
        "      <td>  Black</td>\n",
        "      <td> 0</td>\n",
        "      <td>    0</td>\n",
        "      <td> 0</td>\n",
        "      <td> 40</td>\n",
        "      <td>  Cuba</td>\n",
        "      <td> 0</td>\n",
        "    </tr>\n",
        "  </tbody>\n",
        "</table>\n",
        "</div>"
       ],
       "metadata": {},
       "output_type": "pyout",
       "prompt_number": 42,
       "text": [
        "   age                   workclass  educationLevel     maritalStatus  \\\n",
        "0   39             StateGovernment              13      NeverMarried   \n",
        "1   50  SelfEmpoyedNotIncorporated              13  MarriedCivSpouse   \n",
        "2   38                     Private               9          Divorced   \n",
        "3   53                     Private               7  MarriedCivSpouse   \n",
        "4   28                     Private              13  MarriedCivSpouse   \n",
        "\n",
        "         occupation    race  isMale  capitalGain  capitalLoss  hoursPerWeek  \\\n",
        "0       AdmClerical   White       1         2174            0            40   \n",
        "1    ExecManagerial   White       1            0            0            13   \n",
        "2  HandlersCleaners   White       1            0            0            40   \n",
        "3  HandlersCleaners   Black       1            0            0            40   \n",
        "4     ProfSpecialty   Black       0            0            0            40   \n",
        "\n",
        "  nativeCountry  salaryOver50K  \n",
        "0            US              0  \n",
        "1            US              0  \n",
        "2            US              0  \n",
        "3            US              0  \n",
        "4          Cuba              0  "
       ]
      }
     ],
     "prompt_number": 42
    },
    {
     "cell_type": "code",
     "collapsed": false,
     "input": [
      "# Now let's rearrange the columns\n",
      "df = df[['isMale','age','race','nativeCountry','maritalStatus',\n",
      "         'educationLevel','workclass','occupation','hoursPerWeek',\n",
      "         'capitalGain','capitalLoss','salaryOver50K']]\n",
      "df.head()"
     ],
     "language": "python",
     "metadata": {},
     "outputs": [
      {
       "html": [
        "<div style=\"max-height:1000px;max-width:1500px;overflow:auto;\">\n",
        "<table border=\"1\" class=\"dataframe\">\n",
        "  <thead>\n",
        "    <tr style=\"text-align: right;\">\n",
        "      <th></th>\n",
        "      <th>isMale</th>\n",
        "      <th>age</th>\n",
        "      <th>race</th>\n",
        "      <th>nativeCountry</th>\n",
        "      <th>maritalStatus</th>\n",
        "      <th>educationLevel</th>\n",
        "      <th>workclass</th>\n",
        "      <th>occupation</th>\n",
        "      <th>hoursPerWeek</th>\n",
        "      <th>capitalGain</th>\n",
        "      <th>capitalLoss</th>\n",
        "      <th>salaryOver50K</th>\n",
        "    </tr>\n",
        "  </thead>\n",
        "  <tbody>\n",
        "    <tr>\n",
        "      <th>0</th>\n",
        "      <td> 1</td>\n",
        "      <td> 39</td>\n",
        "      <td>  White</td>\n",
        "      <td>    US</td>\n",
        "      <td>     NeverMarried</td>\n",
        "      <td> 13</td>\n",
        "      <td>            StateGovernment</td>\n",
        "      <td>      AdmClerical</td>\n",
        "      <td> 40</td>\n",
        "      <td> 2174</td>\n",
        "      <td> 0</td>\n",
        "      <td> 0</td>\n",
        "    </tr>\n",
        "    <tr>\n",
        "      <th>1</th>\n",
        "      <td> 1</td>\n",
        "      <td> 50</td>\n",
        "      <td>  White</td>\n",
        "      <td>    US</td>\n",
        "      <td> MarriedCivSpouse</td>\n",
        "      <td> 13</td>\n",
        "      <td> SelfEmpoyedNotIncorporated</td>\n",
        "      <td>   ExecManagerial</td>\n",
        "      <td> 13</td>\n",
        "      <td>    0</td>\n",
        "      <td> 0</td>\n",
        "      <td> 0</td>\n",
        "    </tr>\n",
        "    <tr>\n",
        "      <th>2</th>\n",
        "      <td> 1</td>\n",
        "      <td> 38</td>\n",
        "      <td>  White</td>\n",
        "      <td>    US</td>\n",
        "      <td>         Divorced</td>\n",
        "      <td>  9</td>\n",
        "      <td>                    Private</td>\n",
        "      <td> HandlersCleaners</td>\n",
        "      <td> 40</td>\n",
        "      <td>    0</td>\n",
        "      <td> 0</td>\n",
        "      <td> 0</td>\n",
        "    </tr>\n",
        "    <tr>\n",
        "      <th>3</th>\n",
        "      <td> 1</td>\n",
        "      <td> 53</td>\n",
        "      <td>  Black</td>\n",
        "      <td>    US</td>\n",
        "      <td> MarriedCivSpouse</td>\n",
        "      <td>  7</td>\n",
        "      <td>                    Private</td>\n",
        "      <td> HandlersCleaners</td>\n",
        "      <td> 40</td>\n",
        "      <td>    0</td>\n",
        "      <td> 0</td>\n",
        "      <td> 0</td>\n",
        "    </tr>\n",
        "    <tr>\n",
        "      <th>4</th>\n",
        "      <td> 0</td>\n",
        "      <td> 28</td>\n",
        "      <td>  Black</td>\n",
        "      <td>  Cuba</td>\n",
        "      <td> MarriedCivSpouse</td>\n",
        "      <td> 13</td>\n",
        "      <td>                    Private</td>\n",
        "      <td>    ProfSpecialty</td>\n",
        "      <td> 40</td>\n",
        "      <td>    0</td>\n",
        "      <td> 0</td>\n",
        "      <td> 0</td>\n",
        "    </tr>\n",
        "  </tbody>\n",
        "</table>\n",
        "</div>"
       ],
       "metadata": {},
       "output_type": "pyout",
       "prompt_number": 43,
       "text": [
        "   isMale  age    race nativeCountry     maritalStatus  educationLevel  \\\n",
        "0       1   39   White            US      NeverMarried              13   \n",
        "1       1   50   White            US  MarriedCivSpouse              13   \n",
        "2       1   38   White            US          Divorced               9   \n",
        "3       1   53   Black            US  MarriedCivSpouse               7   \n",
        "4       0   28   Black          Cuba  MarriedCivSpouse              13   \n",
        "\n",
        "                    workclass        occupation  hoursPerWeek  capitalGain  \\\n",
        "0             StateGovernment       AdmClerical            40         2174   \n",
        "1  SelfEmpoyedNotIncorporated    ExecManagerial            13            0   \n",
        "2                     Private  HandlersCleaners            40            0   \n",
        "3                     Private  HandlersCleaners            40            0   \n",
        "4                     Private     ProfSpecialty            40            0   \n",
        "\n",
        "   capitalLoss  salaryOver50K  \n",
        "0            0              0  \n",
        "1            0              0  \n",
        "2            0              0  \n",
        "3            0              0  \n",
        "4            0              0  "
       ]
      }
     ],
     "prompt_number": 43
    },
    {
     "cell_type": "code",
     "collapsed": false,
     "input": [
      "# Also here are the data types of our attributes, as we can see isMale and salaryOver50K are already integers\n",
      "df.info()"
     ],
     "language": "python",
     "metadata": {},
     "outputs": [
      {
       "output_type": "stream",
       "stream": "stdout",
       "text": [
        "<class 'pandas.core.frame.DataFrame'>\n",
        "Int64Index: 32561 entries, 0 to 32560\n",
        "Data columns (total 12 columns):\n",
        "isMale            32561 non-null int64\n",
        "age               32561 non-null int64\n",
        "race              32561 non-null object\n",
        "nativeCountry     32561 non-null object\n",
        "maritalStatus     32561 non-null object\n",
        "educationLevel    32561 non-null int64\n",
        "workclass         32561 non-null object\n",
        "occupation        32561 non-null object\n",
        "hoursPerWeek      32561 non-null int64\n",
        "capitalGain       32561 non-null int64\n",
        "capitalLoss       32561 non-null int64\n",
        "salaryOver50K     32561 non-null int64\n",
        "dtypes: int64(7), object(5)\n",
        "memory usage: 3.2+ MB\n"
       ]
      }
     ],
     "prompt_number": 44
    },
    {
     "cell_type": "code",
     "collapsed": false,
     "input": [
      "# Now we will make all the categorical attributes into one-hot encoded values\n",
      "tmp_df = pd.get_dummies(df.race,prefix='race')\n",
      "df = pd.concat((df,tmp_df),axis=1)\n",
      "df.info()"
     ],
     "language": "python",
     "metadata": {},
     "outputs": [
      {
       "output_type": "stream",
       "stream": "stdout",
       "text": [
        "<class 'pandas.core.frame.DataFrame'>\n",
        "Int64Index: 32561 entries, 0 to 32560\n",
        "Data columns (total 17 columns):\n",
        "isMale                   32561 non-null int64\n",
        "age                      32561 non-null int64\n",
        "race                     32561 non-null object\n",
        "nativeCountry            32561 non-null object\n",
        "maritalStatus            32561 non-null object\n",
        "educationLevel           32561 non-null int64\n",
        "workclass                32561 non-null object\n",
        "occupation               32561 non-null object\n",
        "hoursPerWeek             32561 non-null int64\n",
        "capitalGain              32561 non-null int64\n",
        "capitalLoss              32561 non-null int64\n",
        "salaryOver50K            32561 non-null int64\n",
        "race_ Black              32561 non-null float64\n",
        "race_ Other              32561 non-null float64\n",
        "race_ White              32561 non-null float64\n",
        "race_AmerIndianEskimo    32561 non-null float64\n",
        "race_AsianPacIslander    32561 non-null float64\n",
        "dtypes: float64(5), int64(7), object(5)\n",
        "memory usage: 4.5+ MB\n"
       ]
      }
     ],
     "prompt_number": 45
    },
    {
     "cell_type": "markdown",
     "metadata": {},
     "source": [
      "---\n",
      "### 2. Final Data Set (5 points)\n",
      "**Describe the final dataset that is used for classification (include a description of any newly formed variables you created)**"
     ]
    },
    {
     "cell_type": "markdown",
     "metadata": {},
     "source": [
      "Answer"
     ]
    },
    {
     "cell_type": "markdown",
     "metadata": {},
     "source": [
      "Data Modeling\n",
      "---\n",
      "\n",
      "---\n",
      "### 1. Classification Models (20 points)\n",
      "**Create a logistic regression model and a support vector machine model for each of the classification tasks. Adjust parameters as appropriate.**"
     ]
    },
    {
     "cell_type": "markdown",
     "metadata": {},
     "source": [
      "Answer"
     ]
    },
    {
     "cell_type": "markdown",
     "metadata": {},
     "source": [
      "---\n",
      "### 2. Model Advantages (5 points)\n",
      "**Discuss the advantages of each model for each classification task.**"
     ]
    },
    {
     "cell_type": "markdown",
     "metadata": {},
     "source": [
      "Answer"
     ]
    },
    {
     "cell_type": "markdown",
     "metadata": {},
     "source": [
      "---\n",
      "### 3. Logistic Regression Features (15 points)\n",
      "**Use the weights from logistic regression to interpret the importance of different features for each classification task. Explain your interpretation.**"
     ]
    },
    {
     "cell_type": "markdown",
     "metadata": {},
     "source": [
      "Answer"
     ]
    },
    {
     "cell_type": "markdown",
     "metadata": {},
     "source": [
      "---\n",
      "### 4. SVM Support Vectors (15 points)\n",
      "**Look at the chosen support vectors for the classification task. Do these provide any insight into the data? Explain.**"
     ]
    },
    {
     "cell_type": "markdown",
     "metadata": {},
     "source": [
      "Answer"
     ]
    },
    {
     "cell_type": "markdown",
     "metadata": {},
     "source": [
      "---\n",
      "### 4. Model Performace (5 points)\n",
      "**Assess how well each model performs (use training/test data as appropriate)**"
     ]
    },
    {
     "cell_type": "markdown",
     "metadata": {},
     "source": [
      "Answer"
     ]
    },
    {
     "cell_type": "markdown",
     "metadata": {},
     "source": [
      "Evaluation and Deployment\n",
      "---\n",
      "\n",
      "---\n",
      "### 1. Model Evaluation (5 points)\n",
      "**How useful is your model for interested parties (i.e., the companies or organizations that might want to use it for prediction)? How would you measure the model's value if it was used? How would your deploy your model for interested parites? What other data should be collected? How often would the model need to be updated, etc. ?**"
     ]
    },
    {
     "cell_type": "markdown",
     "metadata": {},
     "source": [
      "Answer"
     ]
    },
    {
     "cell_type": "markdown",
     "metadata": {},
     "source": [
      "Exceptional Work (10 points)\n",
      "---\n",
      "\n",
      "---\n",
      "### 1. Model Evaluation (5 points)\n",
      "**You have free reign to provide additional modeling. One idea: fuse the outputs of the two classifiers to create a new classifier or use grid searching to estimate parameters of the models.**"
     ]
    },
    {
     "cell_type": "markdown",
     "metadata": {},
     "source": [
      "Answer"
     ]
    },
    {
     "cell_type": "markdown",
     "metadata": {},
     "source": [
      "---\n",
      "Testing Area\n",
      "---\n",
      "**Anything under this cell is just for testing purposes only.\n",
      "Please feel free to test code, functions and plots here before posting the final version in the appropriate space above.**"
     ]
    },
    {
     "cell_type": "code",
     "collapsed": false,
     "input": [],
     "language": "python",
     "metadata": {},
     "outputs": [],
     "prompt_number": 45
    }
   ],
   "metadata": {}
  }
 ]
}