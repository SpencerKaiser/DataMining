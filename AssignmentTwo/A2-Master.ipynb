{
 "metadata": {
  "name": "",
  "signature": "sha256:890378ad43a0ba9018fec6ce1794335a83b79e0db556753d4737d4cdcc7e0fb9"
 },
 "nbformat": 3,
 "nbformat_minor": 0,
 "worksheets": [
  {
   "cells": [
    {
     "cell_type": "markdown",
     "metadata": {},
     "source": [
      "Assignment 2 : Classification with Logistic Regression and Support Vector Machines\n",
      "===\n",
      "##Hector Curi  is awesome - Spencer Kaiser\n",
      "\n",
      "---\n",
      "Instructions\n",
      "---\n",
      "You are to perform predictive analysis (classification) upon a data set: model the dataset using methods we have discussed in class: logistic regression and support vector machines, and making conclusions from the analysis. Follow the CRISP-DM framework in your analysis (you are not performing all of the CRISP-DM outline, only the portions relevant to the grading rubric outlined below). This report is worth 15% of the final grade. You may complete this assignment in teams of as many as three people (but no more). Only turn in one report to blackboard. \n",
      "\n",
      "Write a report covering all the steps of the project. The results should be reproducible using your report. Please carefully describe every assumption and every step in your report.\n",
      "\n",
      "---\n",
      "Dataset Selection\n",
      "---\n",
      "Select a dataset identically to the way you selected for assignment one. You are not required to use the same dataset that you used for assignment one, but you are encouraged. You must identify two or more classification tasks from the dataset. For example, if your dataset was from the diabetes data you might try to predict two tasks: (1) if a patient will be readmitted within a 30 day period or not, and (2) what the total number of days a patient will spend in the hospital, given their history and specifics of the encounter. \n",
      "\n",
      "---\n",
      "### Initial Code\n"
     ]
    },
    {
     "cell_type": "code",
     "collapsed": true,
     "input": [
      "#import all packages used in this assignment\n",
      "import pandas as pd\n",
      "import sqlite3\n",
      "import numpy as np\n",
      "import matplotlib.pyplot as plt\n",
      "import warnings\n",
      "import seaborn as sns\n",
      "from pandas.tools.plotting import scatter_matrix\n",
      "warnings.simplefilter('ignore', DeprecationWarning)\n",
      "%matplotlib inline\n",
      "\n",
      "# read in the csv file\n",
      "df = pd.read_csv('data/adult.data')\n",
      "\n",
      "# replace ' ?' with NaN (not a number)\n",
      "df = df.replace(to_replace=' ?',value=np.nan)"
     ],
     "language": "python",
     "metadata": {},
     "outputs": [],
     "prompt_number": 1
    },
    {
     "cell_type": "markdown",
     "metadata": {},
     "source": [
      "Data Preparation\n",
      "---\n",
      "\n",
      "---\n",
      "### 1. Class Variables (20 points)\n",
      "**Define and prepare your class variables. Use proper variable representations (int, float, one-hot, etc.). And use pre-processing methods as needed for dimensionality reduction, scaling, etc. Remove variables that are not needed/useful for the analysis**"
     ]
    },
    {
     "cell_type": "markdown",
     "metadata": {},
     "source": [
      "Answer"
     ]
    },
    {
     "cell_type": "markdown",
     "metadata": {},
     "source": [
      "---\n",
      "### 2. Final Data Set (5 points)\n",
      "**Describe the final dataset that is used for classification (include a description of any newly formed variables you created)**"
     ]
    },
    {
     "cell_type": "markdown",
     "metadata": {},
     "source": [
      "Answer"
     ]
    },
    {
     "cell_type": "markdown",
     "metadata": {},
     "source": [
      "Data Modeling\n",
      "---\n",
      "\n",
      "---\n",
      "### 1. Classification Models (20 points)\n",
      "**Create a logistic regression model and a support vector machine model for each of the classification tasks. Adjust parameters as appropriate.**"
     ]
    },
    {
     "cell_type": "markdown",
     "metadata": {},
     "source": [
      "Answer"
     ]
    },
    {
     "cell_type": "markdown",
     "metadata": {},
     "source": [
      "---\n",
      "### 2. Model Advantages (5 points)\n",
      "**Discuss the advantages of each model for each classification task.**"
     ]
    },
    {
     "cell_type": "markdown",
     "metadata": {},
     "source": [
      "Answer"
     ]
    },
    {
     "cell_type": "markdown",
     "metadata": {},
     "source": [
      "---\n",
      "### 3. Logistic Regression Features (15 points)\n",
      "**Use the weights from logistic regression to interpret the importance of different features for each classification task. Explain your interpretation.**"
     ]
    },
    {
     "cell_type": "markdown",
     "metadata": {},
     "source": [
      "Answer"
     ]
    },
    {
     "cell_type": "markdown",
     "metadata": {},
     "source": [
      "---\n",
      "### 4. SVM Support Vectors (15 points)\n",
      "**Look at the chosen support vectors for the classification task. Do these provide any insight into the data? Explain.**"
     ]
    },
    {
     "cell_type": "markdown",
     "metadata": {},
     "source": [
      "Answer"
     ]
    },
    {
     "cell_type": "markdown",
     "metadata": {},
     "source": [
      "---\n",
      "### 4. Model Performace (5 points)\n",
      "**Assess how well each model performs (use training/test data as appropriate)**"
     ]
    },
    {
     "cell_type": "markdown",
     "metadata": {},
     "source": [
      "Answer"
     ]
    },
    {
     "cell_type": "markdown",
     "metadata": {},
     "source": [
      "Evaluation and Deployment\n",
      "---\n",
      "\n",
      "---\n",
      "### 1. Model Evaluation (5 points)\n",
      "**How useful is your model for interested parties (i.e., the companies or organizations that might want to use it for prediction)? How would you measure the model's value if it was used? How would your deploy your model for interested parites? What other data should be collected? How often would the model need to be updated, etc. ?**"
     ]
    },
    {
     "cell_type": "markdown",
     "metadata": {},
     "source": [
      "Answer"
     ]
    },
    {
     "cell_type": "markdown",
     "metadata": {},
     "source": [
      "Exceptional Work (10 points)\n",
      "---\n",
      "\n",
      "---\n",
      "### 1. Model Evaluation (5 points)\n",
      "**You have free reign to provide additional modeling. One idea: fuse the outputs of the two classifiers to create a new classifier or use grid searching to estimate parameters of the models.**"
     ]
    },
    {
     "cell_type": "markdown",
     "metadata": {},
     "source": [
      "Answer"
     ]
    },
    {
     "cell_type": "markdown",
     "metadata": {},
     "source": [
      "---\n",
      "Testing Area\n",
      "---\n",
      "**Anything under this cell is just for testing purposes only.\n",
      "Please feel free to test code, functions and plots here before posting the final version in the appropriate space above.**"
     ]
    },
    {
     "cell_type": "code",
     "collapsed": false,
     "input": [],
     "language": "python",
     "metadata": {},
     "outputs": []
    }
   ],
   "metadata": {}
  }
 ]
}