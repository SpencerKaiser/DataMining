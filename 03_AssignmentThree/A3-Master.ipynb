{
 "cells": [
  {
   "cell_type": "markdown",
   "metadata": {},
   "source": [
    "Assignment 3 : Classification Finale\n",
    "===\n",
    "##Hector Curi - Spencer Kaiser\n",
    "\n",
    "---\n",
    "Instructions\n",
    "---\n",
    "You are to build upon the predictive analysis (classification) that you already completed in assignment two, adding additional modeling from new classification algorithms. You should use appropriate cross validation for all of your analysis (you should exlpain your chosen method of validation). Try to use as much testing data as possible in a realistic manner (you should define what you think is realistic and why). Follow the CRISP-DM framework in your analysis (you are not performing all of the CRISP-DM outline, only the portions relevant to the grading rubric outlined below). This report is worth 20% of the final grade. You may complete this assignment in teams of as many as three people (but no more). Only turn in one report to blackboard. \n",
    "\n",
    "Write a report covering all the steps of the project. The results should be reproducible using your report. Please carefully describe every assumption and every step in your report.\n",
    "\n",
    "---\n",
    "Dataset Selection\n",
    "---\n",
    "Select a dataset identically to the way you selected for assignment one. You are not required to use the same dataset that you used for assignment one or assignment two, but you are encouraged. You must identify two or more classification OR regression tasks from the dataset. For example, if your dataset was from the diabetes data you might try to predict two tasks: (1) if a patient will be readmitted within a 30 day period or not, and (2) what the total number of days a patient will spend in the hospital, given their history and specifics of the encounter. \n",
    "\n",
    "---\n",
    "### Choice of Classification Tasks\n",
    "We want to predict the following:\n",
    "1. Predict if a person makes **more than $50,000 dollars a year**, based on their age, race, sex, etc. (all of the attributes)\n",
    "2. Predict if a person makes **capital trades**, based on their age, race, sex, etc. (all of the attributes)\n",
    "---\n",
    "### Initial Code\n"
   ]
  },
  {
   "cell_type": "code",
   "execution_count": 1,
   "metadata": {
    "collapsed": false
   },
   "outputs": [],
   "source": [
    "#import all packages used in this assignment\n",
    "import pandas as pd\n",
    "import sqlite3\n",
    "import numpy as np\n",
    "import matplotlib.pyplot as plt\n",
    "import warnings\n",
    "import seaborn as sns\n",
    "from sklearn.ensemble import RandomForestClassifier\n",
    "from sklearn.naive_bayes import GaussianNB\n",
    "from sklearn.preprocessing import StandardScaler\n",
    "from pandas.tools.plotting import scatter_matrix\n",
    "from sklearn.linear_model import LogisticRegression\n",
    "from sklearn.svm import SVC\n",
    "from numpy import random as rd\n",
    "from sklearn import metrics as mt\n",
    "from sklearn.neighbors import KNeighborsClassifier\n",
    "from sklearn.cross_validation import StratifiedKFold\n",
    "warnings.simplefilter('ignore', DeprecationWarning)\n",
    "%matplotlib inline\n",
    "\n",
    "# read in the csv file\n",
    "df_raw = pd.read_csv('data/adult.data')"
   ]
  },
  {
   "cell_type": "markdown",
   "metadata": {},
   "source": [
    "Data Preparation\n",
    "---\n",
    "\n",
    "---\n",
    "### 1. Class Variables (10 points)\n",
    "**Define and prepare your class variables. Use proper variable representations (int, float, one-hot, etc.). Use pre-processing methods (as needed) for dimensionality reduction, scaling, etc. Remove variables that are not needed/useful for the analysis**"
   ]
  },
  {
   "cell_type": "code",
   "execution_count": 2,
   "metadata": {
    "collapsed": false
   },
   "outputs": [
    {
     "name": "stdout",
     "output_type": "stream",
     "text": [
      "<class 'pandas.core.frame.DataFrame'>\n",
      "Int64Index: 32561 entries, 0 to 32560\n",
      "Data columns (total 15 columns):\n",
      "age               32561 non-null int64\n",
      "workclass         32561 non-null object\n",
      "fnlwgt            32561 non-null int64\n",
      "education         32561 non-null object\n",
      "education-num     32561 non-null int64\n",
      "marital-status    32561 non-null object\n",
      "occupation        32561 non-null object\n",
      "relationship      32561 non-null object\n",
      "race              32561 non-null object\n",
      "sex               32561 non-null object\n",
      "capital-gain      32561 non-null int64\n",
      "capital-loss      32561 non-null int64\n",
      "hours-per-week    32561 non-null int64\n",
      "native-country    32561 non-null object\n",
      "income            32561 non-null object\n",
      "dtypes: int64(6), object(9)\n",
      "memory usage: 4.0+ MB\n"
     ]
    }
   ],
   "source": [
    "# Here is the general description of our data\n",
    "df_raw.info()"
   ]
  },
  {
   "cell_type": "code",
   "execution_count": 3,
   "metadata": {
    "collapsed": false
   },
   "outputs": [
    {
     "name": "stdout",
     "output_type": "stream",
     "text": [
      "<class 'pandas.core.frame.DataFrame'>\n",
      "Int64Index: 32561 entries, 0 to 32560\n",
      "Data columns (total 15 columns):\n",
      "age               32561 non-null int64\n",
      "workclass         30725 non-null object\n",
      "fnlwgt            32561 non-null int64\n",
      "education         32561 non-null object\n",
      "education-num     32561 non-null int64\n",
      "marital-status    32561 non-null object\n",
      "occupation        30718 non-null object\n",
      "relationship      32561 non-null object\n",
      "race              32561 non-null object\n",
      "sex               32561 non-null object\n",
      "capital-gain      32561 non-null int64\n",
      "capital-loss      32561 non-null int64\n",
      "hours-per-week    32561 non-null int64\n",
      "native-country    31978 non-null object\n",
      "income            32561 non-null object\n",
      "dtypes: int64(6), object(9)\n",
      "memory usage: 4.0+ MB\n"
     ]
    }
   ],
   "source": [
    "# As we can see, it seems that all of the values are there, but after looking at the actual data file\n",
    "# we noticed that there are some values recorded as '?', these are the missing values.\n",
    "\n",
    "# First let's replace ' ?' with NaN (not a number) for all the missing values\n",
    "df = df_raw.replace(to_replace='?',value=np.nan)\n",
    "\n",
    "# Now let's see how many values we actually have\n",
    "df.info()"
   ]
  },
  {
   "cell_type": "code",
   "execution_count": 4,
   "metadata": {
    "collapsed": false
   },
   "outputs": [
    {
     "name": "stdout",
     "output_type": "stream",
     "text": [
      "<class 'pandas.core.frame.DataFrame'>\n",
      "Int64Index: 30162 entries, 0 to 32560\n",
      "Data columns (total 15 columns):\n",
      "age               30162 non-null int64\n",
      "workclass         30162 non-null object\n",
      "fnlwgt            30162 non-null int64\n",
      "education         30162 non-null object\n",
      "education-num     30162 non-null int64\n",
      "marital-status    30162 non-null object\n",
      "occupation        30162 non-null object\n",
      "relationship      30162 non-null object\n",
      "race              30162 non-null object\n",
      "sex               30162 non-null object\n",
      "capital-gain      30162 non-null int64\n",
      "capital-loss      30162 non-null int64\n",
      "hours-per-week    30162 non-null int64\n",
      "native-country    30162 non-null object\n",
      "income            30162 non-null object\n",
      "dtypes: int64(6), object(9)\n",
      "memory usage: 3.7+ MB\n"
     ]
    }
   ],
   "source": [
    "# We can see that workclass, occupation and native-country have some missing values.\n",
    "# Because only 2399 rows have missing values in them out of 32561 total (7.36% of the data),\n",
    "# We will just remove those instances from our dataset.\n",
    "\n",
    "df = df.dropna(how='any')\n",
    "\n",
    "# Now the data has 30162 instances with no missing values. :)\n",
    "df.info()"
   ]
  },
  {
   "cell_type": "code",
   "execution_count": 5,
   "metadata": {
    "collapsed": false
   },
   "outputs": [],
   "source": [
    "# Now we are going to remove the attributes that we think are not useful for our model\n",
    "# fnlwgt is an assigned weight by the census bureau, we don't know it's formula so its useless to us\n",
    "del df['fnlwgt']\n",
    "\n",
    "# education-num is an ordinal representation of the education level, which is better for data modelling\n",
    "# thus we remove the education attribute\n",
    "del df['education']\n",
    "\n",
    "# relationship contains very strange values such as \"Not-in-family, Other-relative, Own-child\", so we will get rid of it.\n",
    "del df['relationship']"
   ]
  },
  {
   "cell_type": "code",
   "execution_count": 6,
   "metadata": {
    "collapsed": false
   },
   "outputs": [
    {
     "name": "stdout",
     "output_type": "stream",
     "text": [
      "<class 'pandas.core.frame.DataFrame'>\n",
      "Int64Index: 30162 entries, 0 to 32560\n",
      "Data columns (total 12 columns):\n",
      "age               30162 non-null int64\n",
      "workclass         30162 non-null object\n",
      "education-num     30162 non-null int64\n",
      "marital-status    30162 non-null object\n",
      "occupation        30162 non-null object\n",
      "race              30162 non-null object\n",
      "sex               30162 non-null object\n",
      "capital-gain      30162 non-null int64\n",
      "capital-loss      30162 non-null int64\n",
      "hours-per-week    30162 non-null int64\n",
      "native-country    30162 non-null object\n",
      "income            30162 non-null object\n",
      "dtypes: int64(5), object(7)\n",
      "memory usage: 3.0+ MB\n"
     ]
    }
   ],
   "source": [
    "# Now our data contains these attributes\n",
    "df.info()"
   ]
  },
  {
   "cell_type": "code",
   "execution_count": 7,
   "metadata": {
    "collapsed": false
   },
   "outputs": [],
   "source": [
    "# Now we are going to rename the attributes for an easier understanding of the data\n",
    "df = df.rename(columns={'income': 'salaryOver50K', 'sex': 'isMale', 'education-num':'educationLevel',\n",
    "                        'marital-status':'maritalStatus','capital-gain':'capitalGain','capital-loss':'capitalLoss',\n",
    "                        'native-country':'nativeCountry','hours-per-week':'hoursPerWeek'})"
   ]
  },
  {
   "cell_type": "code",
   "execution_count": 8,
   "metadata": {
    "collapsed": false
   },
   "outputs": [
    {
     "name": "stdout",
     "output_type": "stream",
     "text": [
      "<class 'pandas.core.frame.DataFrame'>\n",
      "Int64Index: 30162 entries, 0 to 32560\n",
      "Data columns (total 12 columns):\n",
      "age               30162 non-null int64\n",
      "workclass         30162 non-null object\n",
      "educationLevel    30162 non-null int64\n",
      "maritalStatus     30162 non-null object\n",
      "occupation        30162 non-null object\n",
      "race              30162 non-null object\n",
      "isMale            30162 non-null object\n",
      "capitalGain       30162 non-null int64\n",
      "capitalLoss       30162 non-null int64\n",
      "hoursPerWeek      30162 non-null int64\n",
      "nativeCountry     30162 non-null object\n",
      "salaryOver50K     30162 non-null object\n",
      "dtypes: int64(5), object(7)\n",
      "memory usage: 3.0+ MB\n"
     ]
    }
   ],
   "source": [
    "# Now our data contains these attributes\n",
    "df.info()"
   ]
  },
  {
   "cell_type": "code",
   "execution_count": 9,
   "metadata": {
    "collapsed": false
   },
   "outputs": [],
   "source": [
    "# Now let's convert to camel case all of the values with dashes in workclass\n",
    "df = df.replace(to_replace='Federal-gov',value='FederalGovernment')\n",
    "df = df.replace(to_replace='State-gov',value='StateGovernment')\n",
    "df = df.replace(to_replace='Never-worked',value='NeverWorked')\n",
    "df = df.replace(to_replace='Private',value='Private')\n",
    "df = df.replace(to_replace='Self-emp-inc',value='SelfEmployedIncorporated')\n",
    "df = df.replace(to_replace='Self-emp-not-inc',value='SelfEmpoyedNotIncorporated')\n",
    "df = df.replace(to_replace='Local-gov',value='LocalGovernment')\n",
    "df = df.replace(to_replace='Without-pay',value='WithoutPay')\n",
    "\n",
    "# Now let's convert to camel case all of the values with dashes in marital status\n",
    "df = df.replace(to_replace='Married-AF-spouse',value='MarriedAFSpouse')\n",
    "df = df.replace(to_replace='Married-civ-spouse',value='MarriedCivSpouse')\n",
    "df = df.replace(to_replace='Married-spouse-absent',value='MarriedSpouseAbsent')\n",
    "df = df.replace(to_replace='Never-married',value='NeverMarried')\n",
    "\n",
    "# Now let's convert to camel case all of the values with dashes in occupation\n",
    "df = df.replace(to_replace='Adm-clerical',value='AdmClerical')\n",
    "df = df.replace(to_replace='Armed-Forces,',value='ArmedForces,')\n",
    "df = df.replace(to_replace='Craft-repair',value='CraftRepair')\n",
    "df = df.replace(to_replace='Exec-managerial',value='ExecManagerial')\n",
    "df = df.replace(to_replace='Farming-fishing',value='FarmingFishing')\n",
    "df = df.replace(to_replace='Handlers-cleaners',value='HandlersCleaners')\n",
    "df = df.replace(to_replace='Machine-op-inspct',value='MachineOpsInspector')\n",
    "df = df.replace(to_replace='Other-service',value='OtherService')\n",
    "df = df.replace(to_replace='Priv-house-serv',value='PrivHouseServ')\n",
    "df = df.replace(to_replace='Prof-specialty',value='ProfSpecialty')\n",
    "df = df.replace(to_replace='Protective-serv',value='ProtectiveServant')\n",
    "df = df.replace(to_replace='Tech-support',value='TechSupport')\n",
    "df = df.replace(to_replace='Transport-moving',value='TransportMoving')\n",
    "\n",
    "# Now let's convert to camel case all of the values with dashes in race\n",
    "df = df.replace(to_replace='Amer-Indian-Eskimo',value='AmerIndianEskimo')\n",
    "df = df.replace(to_replace='Asian-Pac-Islander',value='AsianPacIslander')\n",
    "\n",
    "# Now let's convert to camel case all of the values with dashes in nativeCountry\n",
    "df = df.replace(to_replace='Dominican-Republic',value='DominicanRepublic,')\n",
    "df = df.replace(to_replace='El-Salvador',value='ElSalvador,')\n",
    "df = df.replace(to_replace='Holand-Netherlands',value='Netherlands')\n",
    "df = df.replace(to_replace='Outlying-US(Guam-USVI-etc)',value='OutlyingUS')\n",
    "df = df.replace(to_replace='Puerto-Rico',value='PuertoRico')\n",
    "df = df.replace(to_replace='Trinadad&Tobago',value='Trinidad&Tobago')\n",
    "df = df.replace(to_replace='United-States',value='US')"
   ]
  },
  {
   "cell_type": "code",
   "execution_count": 10,
   "metadata": {
    "collapsed": false
   },
   "outputs": [
    {
     "data": {
      "text/html": [
       "<div style=\"max-height:1000px;max-width:1500px;overflow:auto;\">\n",
       "<table border=\"1\" class=\"dataframe\">\n",
       "  <thead>\n",
       "    <tr style=\"text-align: right;\">\n",
       "      <th></th>\n",
       "      <th>age</th>\n",
       "      <th>workclass</th>\n",
       "      <th>educationLevel</th>\n",
       "      <th>maritalStatus</th>\n",
       "      <th>occupation</th>\n",
       "      <th>race</th>\n",
       "      <th>isMale</th>\n",
       "      <th>capitalGain</th>\n",
       "      <th>capitalLoss</th>\n",
       "      <th>hoursPerWeek</th>\n",
       "      <th>nativeCountry</th>\n",
       "      <th>salaryOver50K</th>\n",
       "    </tr>\n",
       "  </thead>\n",
       "  <tbody>\n",
       "    <tr>\n",
       "      <th>0</th>\n",
       "      <td> 39</td>\n",
       "      <td>            StateGovernment</td>\n",
       "      <td> 13</td>\n",
       "      <td>     NeverMarried</td>\n",
       "      <td>      AdmClerical</td>\n",
       "      <td> White</td>\n",
       "      <td>   Male</td>\n",
       "      <td> 2174</td>\n",
       "      <td> 0</td>\n",
       "      <td> 40</td>\n",
       "      <td>   US</td>\n",
       "      <td> &lt;=50K</td>\n",
       "    </tr>\n",
       "    <tr>\n",
       "      <th>1</th>\n",
       "      <td> 50</td>\n",
       "      <td> SelfEmpoyedNotIncorporated</td>\n",
       "      <td> 13</td>\n",
       "      <td> MarriedCivSpouse</td>\n",
       "      <td>   ExecManagerial</td>\n",
       "      <td> White</td>\n",
       "      <td>   Male</td>\n",
       "      <td>    0</td>\n",
       "      <td> 0</td>\n",
       "      <td> 13</td>\n",
       "      <td>   US</td>\n",
       "      <td> &lt;=50K</td>\n",
       "    </tr>\n",
       "    <tr>\n",
       "      <th>2</th>\n",
       "      <td> 38</td>\n",
       "      <td>                    Private</td>\n",
       "      <td>  9</td>\n",
       "      <td>         Divorced</td>\n",
       "      <td> HandlersCleaners</td>\n",
       "      <td> White</td>\n",
       "      <td>   Male</td>\n",
       "      <td>    0</td>\n",
       "      <td> 0</td>\n",
       "      <td> 40</td>\n",
       "      <td>   US</td>\n",
       "      <td> &lt;=50K</td>\n",
       "    </tr>\n",
       "    <tr>\n",
       "      <th>3</th>\n",
       "      <td> 53</td>\n",
       "      <td>                    Private</td>\n",
       "      <td>  7</td>\n",
       "      <td> MarriedCivSpouse</td>\n",
       "      <td> HandlersCleaners</td>\n",
       "      <td> Black</td>\n",
       "      <td>   Male</td>\n",
       "      <td>    0</td>\n",
       "      <td> 0</td>\n",
       "      <td> 40</td>\n",
       "      <td>   US</td>\n",
       "      <td> &lt;=50K</td>\n",
       "    </tr>\n",
       "    <tr>\n",
       "      <th>4</th>\n",
       "      <td> 28</td>\n",
       "      <td>                    Private</td>\n",
       "      <td> 13</td>\n",
       "      <td> MarriedCivSpouse</td>\n",
       "      <td>    ProfSpecialty</td>\n",
       "      <td> Black</td>\n",
       "      <td> Female</td>\n",
       "      <td>    0</td>\n",
       "      <td> 0</td>\n",
       "      <td> 40</td>\n",
       "      <td> Cuba</td>\n",
       "      <td> &lt;=50K</td>\n",
       "    </tr>\n",
       "  </tbody>\n",
       "</table>\n",
       "</div>"
      ],
      "text/plain": [
       "   age                   workclass  educationLevel     maritalStatus  \\\n",
       "0   39             StateGovernment              13      NeverMarried   \n",
       "1   50  SelfEmpoyedNotIncorporated              13  MarriedCivSpouse   \n",
       "2   38                     Private               9          Divorced   \n",
       "3   53                     Private               7  MarriedCivSpouse   \n",
       "4   28                     Private              13  MarriedCivSpouse   \n",
       "\n",
       "         occupation   race  isMale  capitalGain  capitalLoss  hoursPerWeek  \\\n",
       "0       AdmClerical  White    Male         2174            0            40   \n",
       "1    ExecManagerial  White    Male            0            0            13   \n",
       "2  HandlersCleaners  White    Male            0            0            40   \n",
       "3  HandlersCleaners  Black    Male            0            0            40   \n",
       "4     ProfSpecialty  Black  Female            0            0            40   \n",
       "\n",
       "  nativeCountry salaryOver50K  \n",
       "0            US         <=50K  \n",
       "1            US         <=50K  \n",
       "2            US         <=50K  \n",
       "3            US         <=50K  \n",
       "4          Cuba         <=50K  "
      ]
     },
     "execution_count": 10,
     "metadata": {},
     "output_type": "execute_result"
    }
   ],
   "source": [
    "# Now our data looks like this\n",
    "df.head()"
   ]
  },
  {
   "cell_type": "code",
   "execution_count": 11,
   "metadata": {
    "collapsed": false
   },
   "outputs": [],
   "source": [
    "# Now let's replace the binomial attributes with binary values 1 and 0\n",
    "# replace sex values with binary values\n",
    "df = df.replace(to_replace='Female',value=0)\n",
    "df = df.replace(to_replace='Male',value=1)\n",
    "\n",
    "# replace income values with binary values\n",
    "df = df.replace(to_replace='<=50K',value=0)\n",
    "df = df.replace(to_replace='>50K',value=1)"
   ]
  },
  {
   "cell_type": "code",
   "execution_count": 12,
   "metadata": {
    "collapsed": false
   },
   "outputs": [
    {
     "data": {
      "text/html": [
       "<div style=\"max-height:1000px;max-width:1500px;overflow:auto;\">\n",
       "<table border=\"1\" class=\"dataframe\">\n",
       "  <thead>\n",
       "    <tr style=\"text-align: right;\">\n",
       "      <th></th>\n",
       "      <th>age</th>\n",
       "      <th>workclass</th>\n",
       "      <th>educationLevel</th>\n",
       "      <th>maritalStatus</th>\n",
       "      <th>occupation</th>\n",
       "      <th>race</th>\n",
       "      <th>isMale</th>\n",
       "      <th>capitalGain</th>\n",
       "      <th>capitalLoss</th>\n",
       "      <th>hoursPerWeek</th>\n",
       "      <th>nativeCountry</th>\n",
       "      <th>salaryOver50K</th>\n",
       "    </tr>\n",
       "  </thead>\n",
       "  <tbody>\n",
       "    <tr>\n",
       "      <th>0</th>\n",
       "      <td> 39</td>\n",
       "      <td>            StateGovernment</td>\n",
       "      <td> 13</td>\n",
       "      <td>     NeverMarried</td>\n",
       "      <td>      AdmClerical</td>\n",
       "      <td> White</td>\n",
       "      <td> 1</td>\n",
       "      <td> 2174</td>\n",
       "      <td> 0</td>\n",
       "      <td> 40</td>\n",
       "      <td>   US</td>\n",
       "      <td> 0</td>\n",
       "    </tr>\n",
       "    <tr>\n",
       "      <th>1</th>\n",
       "      <td> 50</td>\n",
       "      <td> SelfEmpoyedNotIncorporated</td>\n",
       "      <td> 13</td>\n",
       "      <td> MarriedCivSpouse</td>\n",
       "      <td>   ExecManagerial</td>\n",
       "      <td> White</td>\n",
       "      <td> 1</td>\n",
       "      <td>    0</td>\n",
       "      <td> 0</td>\n",
       "      <td> 13</td>\n",
       "      <td>   US</td>\n",
       "      <td> 0</td>\n",
       "    </tr>\n",
       "    <tr>\n",
       "      <th>2</th>\n",
       "      <td> 38</td>\n",
       "      <td>                    Private</td>\n",
       "      <td>  9</td>\n",
       "      <td>         Divorced</td>\n",
       "      <td> HandlersCleaners</td>\n",
       "      <td> White</td>\n",
       "      <td> 1</td>\n",
       "      <td>    0</td>\n",
       "      <td> 0</td>\n",
       "      <td> 40</td>\n",
       "      <td>   US</td>\n",
       "      <td> 0</td>\n",
       "    </tr>\n",
       "    <tr>\n",
       "      <th>3</th>\n",
       "      <td> 53</td>\n",
       "      <td>                    Private</td>\n",
       "      <td>  7</td>\n",
       "      <td> MarriedCivSpouse</td>\n",
       "      <td> HandlersCleaners</td>\n",
       "      <td> Black</td>\n",
       "      <td> 1</td>\n",
       "      <td>    0</td>\n",
       "      <td> 0</td>\n",
       "      <td> 40</td>\n",
       "      <td>   US</td>\n",
       "      <td> 0</td>\n",
       "    </tr>\n",
       "    <tr>\n",
       "      <th>4</th>\n",
       "      <td> 28</td>\n",
       "      <td>                    Private</td>\n",
       "      <td> 13</td>\n",
       "      <td> MarriedCivSpouse</td>\n",
       "      <td>    ProfSpecialty</td>\n",
       "      <td> Black</td>\n",
       "      <td> 0</td>\n",
       "      <td>    0</td>\n",
       "      <td> 0</td>\n",
       "      <td> 40</td>\n",
       "      <td> Cuba</td>\n",
       "      <td> 0</td>\n",
       "    </tr>\n",
       "  </tbody>\n",
       "</table>\n",
       "</div>"
      ],
      "text/plain": [
       "   age                   workclass  educationLevel     maritalStatus  \\\n",
       "0   39             StateGovernment              13      NeverMarried   \n",
       "1   50  SelfEmpoyedNotIncorporated              13  MarriedCivSpouse   \n",
       "2   38                     Private               9          Divorced   \n",
       "3   53                     Private               7  MarriedCivSpouse   \n",
       "4   28                     Private              13  MarriedCivSpouse   \n",
       "\n",
       "         occupation   race  isMale  capitalGain  capitalLoss  hoursPerWeek  \\\n",
       "0       AdmClerical  White       1         2174            0            40   \n",
       "1    ExecManagerial  White       1            0            0            13   \n",
       "2  HandlersCleaners  White       1            0            0            40   \n",
       "3  HandlersCleaners  Black       1            0            0            40   \n",
       "4     ProfSpecialty  Black       0            0            0            40   \n",
       "\n",
       "  nativeCountry  salaryOver50K  \n",
       "0            US              0  \n",
       "1            US              0  \n",
       "2            US              0  \n",
       "3            US              0  \n",
       "4          Cuba              0  "
      ]
     },
     "execution_count": 12,
     "metadata": {},
     "output_type": "execute_result"
    }
   ],
   "source": [
    "# Now our data looks like this\n",
    "df.head()"
   ]
  },
  {
   "cell_type": "code",
   "execution_count": 13,
   "metadata": {
    "collapsed": false
   },
   "outputs": [
    {
     "data": {
      "text/html": [
       "<div style=\"max-height:1000px;max-width:1500px;overflow:auto;\">\n",
       "<table border=\"1\" class=\"dataframe\">\n",
       "  <thead>\n",
       "    <tr style=\"text-align: right;\">\n",
       "      <th></th>\n",
       "      <th>isMale</th>\n",
       "      <th>age</th>\n",
       "      <th>race</th>\n",
       "      <th>nativeCountry</th>\n",
       "      <th>maritalStatus</th>\n",
       "      <th>educationLevel</th>\n",
       "      <th>workclass</th>\n",
       "      <th>occupation</th>\n",
       "      <th>hoursPerWeek</th>\n",
       "      <th>capitalGain</th>\n",
       "      <th>capitalLoss</th>\n",
       "      <th>salaryOver50K</th>\n",
       "    </tr>\n",
       "  </thead>\n",
       "  <tbody>\n",
       "    <tr>\n",
       "      <th>0</th>\n",
       "      <td> 1</td>\n",
       "      <td> 39</td>\n",
       "      <td> White</td>\n",
       "      <td>   US</td>\n",
       "      <td>     NeverMarried</td>\n",
       "      <td> 13</td>\n",
       "      <td>            StateGovernment</td>\n",
       "      <td>      AdmClerical</td>\n",
       "      <td> 40</td>\n",
       "      <td> 2174</td>\n",
       "      <td> 0</td>\n",
       "      <td> 0</td>\n",
       "    </tr>\n",
       "    <tr>\n",
       "      <th>1</th>\n",
       "      <td> 1</td>\n",
       "      <td> 50</td>\n",
       "      <td> White</td>\n",
       "      <td>   US</td>\n",
       "      <td> MarriedCivSpouse</td>\n",
       "      <td> 13</td>\n",
       "      <td> SelfEmpoyedNotIncorporated</td>\n",
       "      <td>   ExecManagerial</td>\n",
       "      <td> 13</td>\n",
       "      <td>    0</td>\n",
       "      <td> 0</td>\n",
       "      <td> 0</td>\n",
       "    </tr>\n",
       "    <tr>\n",
       "      <th>2</th>\n",
       "      <td> 1</td>\n",
       "      <td> 38</td>\n",
       "      <td> White</td>\n",
       "      <td>   US</td>\n",
       "      <td>         Divorced</td>\n",
       "      <td>  9</td>\n",
       "      <td>                    Private</td>\n",
       "      <td> HandlersCleaners</td>\n",
       "      <td> 40</td>\n",
       "      <td>    0</td>\n",
       "      <td> 0</td>\n",
       "      <td> 0</td>\n",
       "    </tr>\n",
       "    <tr>\n",
       "      <th>3</th>\n",
       "      <td> 1</td>\n",
       "      <td> 53</td>\n",
       "      <td> Black</td>\n",
       "      <td>   US</td>\n",
       "      <td> MarriedCivSpouse</td>\n",
       "      <td>  7</td>\n",
       "      <td>                    Private</td>\n",
       "      <td> HandlersCleaners</td>\n",
       "      <td> 40</td>\n",
       "      <td>    0</td>\n",
       "      <td> 0</td>\n",
       "      <td> 0</td>\n",
       "    </tr>\n",
       "    <tr>\n",
       "      <th>4</th>\n",
       "      <td> 0</td>\n",
       "      <td> 28</td>\n",
       "      <td> Black</td>\n",
       "      <td> Cuba</td>\n",
       "      <td> MarriedCivSpouse</td>\n",
       "      <td> 13</td>\n",
       "      <td>                    Private</td>\n",
       "      <td>    ProfSpecialty</td>\n",
       "      <td> 40</td>\n",
       "      <td>    0</td>\n",
       "      <td> 0</td>\n",
       "      <td> 0</td>\n",
       "    </tr>\n",
       "  </tbody>\n",
       "</table>\n",
       "</div>"
      ],
      "text/plain": [
       "   isMale  age   race nativeCountry     maritalStatus  educationLevel  \\\n",
       "0       1   39  White            US      NeverMarried              13   \n",
       "1       1   50  White            US  MarriedCivSpouse              13   \n",
       "2       1   38  White            US          Divorced               9   \n",
       "3       1   53  Black            US  MarriedCivSpouse               7   \n",
       "4       0   28  Black          Cuba  MarriedCivSpouse              13   \n",
       "\n",
       "                    workclass        occupation  hoursPerWeek  capitalGain  \\\n",
       "0             StateGovernment       AdmClerical            40         2174   \n",
       "1  SelfEmpoyedNotIncorporated    ExecManagerial            13            0   \n",
       "2                     Private  HandlersCleaners            40            0   \n",
       "3                     Private  HandlersCleaners            40            0   \n",
       "4                     Private     ProfSpecialty            40            0   \n",
       "\n",
       "   capitalLoss  salaryOver50K  \n",
       "0            0              0  \n",
       "1            0              0  \n",
       "2            0              0  \n",
       "3            0              0  \n",
       "4            0              0  "
      ]
     },
     "execution_count": 13,
     "metadata": {},
     "output_type": "execute_result"
    }
   ],
   "source": [
    "# Now let's rearrange the columns\n",
    "df = df[['isMale','age','race','nativeCountry','maritalStatus',\n",
    "         'educationLevel','workclass','occupation','hoursPerWeek',\n",
    "         'capitalGain','capitalLoss','salaryOver50K']]\n",
    "df.head()"
   ]
  },
  {
   "cell_type": "code",
   "execution_count": 14,
   "metadata": {
    "collapsed": false
   },
   "outputs": [],
   "source": [
    "# We can also group by age range like this\n",
    "df['ageRange'] = pd.cut(df.age,[16,20,30,40,50,60,70,80,91],8,\n",
    "                         labels=['17-20','20s','30s','40s','50s','60s','70s','80s',])"
   ]
  },
  {
   "cell_type": "code",
   "execution_count": 15,
   "metadata": {
    "collapsed": false
   },
   "outputs": [],
   "source": [
    "# And by hours-per-week\n",
    "df['hourRange'] = pd.cut(df['hoursPerWeek'], [0,21,41,61,81,100], 5, labels=['1-20', '21-40', '41-60','61-80','80-99'])"
   ]
  },
  {
   "cell_type": "code",
   "execution_count": 16,
   "metadata": {
    "collapsed": false
   },
   "outputs": [],
   "source": [
    "# For capital gain and capital loss, based on the fact that someone with a capital gain\n",
    "# can't have a capital loss, and viceversa, we will combine the attributes into one\n",
    "# then we will store as a boolean of wheter they make capital transactions or not\n",
    "# most people in the dataset have a value of 0 in both, so it is more useful to know \n",
    "# wheter they invest in capital or not, as opposed to how much they do it\n",
    "df['hasCapitalTransactions'] = ((df.capitalGain - df.capitalLoss)!=0).astype(np.int)"
   ]
  },
  {
   "cell_type": "code",
   "execution_count": 17,
   "metadata": {
    "collapsed": false,
    "scrolled": false
   },
   "outputs": [
    {
     "data": {
      "text/html": [
       "<div style=\"max-height:1000px;max-width:1500px;overflow:auto;\">\n",
       "<table border=\"1\" class=\"dataframe\">\n",
       "  <thead>\n",
       "    <tr style=\"text-align: right;\">\n",
       "      <th></th>\n",
       "      <th>isMale</th>\n",
       "      <th>age</th>\n",
       "      <th>race</th>\n",
       "      <th>nativeCountry</th>\n",
       "      <th>maritalStatus</th>\n",
       "      <th>educationLevel</th>\n",
       "      <th>workclass</th>\n",
       "      <th>occupation</th>\n",
       "      <th>hoursPerWeek</th>\n",
       "      <th>capitalGain</th>\n",
       "      <th>capitalLoss</th>\n",
       "      <th>salaryOver50K</th>\n",
       "      <th>ageRange</th>\n",
       "      <th>hourRange</th>\n",
       "      <th>hasCapitalTransactions</th>\n",
       "    </tr>\n",
       "  </thead>\n",
       "  <tbody>\n",
       "    <tr>\n",
       "      <th>0</th>\n",
       "      <td> 1</td>\n",
       "      <td> 39</td>\n",
       "      <td> White</td>\n",
       "      <td>   US</td>\n",
       "      <td>     NeverMarried</td>\n",
       "      <td> 13</td>\n",
       "      <td>            StateGovernment</td>\n",
       "      <td>      AdmClerical</td>\n",
       "      <td> 40</td>\n",
       "      <td> 2174</td>\n",
       "      <td> 0</td>\n",
       "      <td> 0</td>\n",
       "      <td> 30s</td>\n",
       "      <td> 21-40</td>\n",
       "      <td> 1</td>\n",
       "    </tr>\n",
       "    <tr>\n",
       "      <th>1</th>\n",
       "      <td> 1</td>\n",
       "      <td> 50</td>\n",
       "      <td> White</td>\n",
       "      <td>   US</td>\n",
       "      <td> MarriedCivSpouse</td>\n",
       "      <td> 13</td>\n",
       "      <td> SelfEmpoyedNotIncorporated</td>\n",
       "      <td>   ExecManagerial</td>\n",
       "      <td> 13</td>\n",
       "      <td>    0</td>\n",
       "      <td> 0</td>\n",
       "      <td> 0</td>\n",
       "      <td> 40s</td>\n",
       "      <td>  1-20</td>\n",
       "      <td> 0</td>\n",
       "    </tr>\n",
       "    <tr>\n",
       "      <th>2</th>\n",
       "      <td> 1</td>\n",
       "      <td> 38</td>\n",
       "      <td> White</td>\n",
       "      <td>   US</td>\n",
       "      <td>         Divorced</td>\n",
       "      <td>  9</td>\n",
       "      <td>                    Private</td>\n",
       "      <td> HandlersCleaners</td>\n",
       "      <td> 40</td>\n",
       "      <td>    0</td>\n",
       "      <td> 0</td>\n",
       "      <td> 0</td>\n",
       "      <td> 30s</td>\n",
       "      <td> 21-40</td>\n",
       "      <td> 0</td>\n",
       "    </tr>\n",
       "    <tr>\n",
       "      <th>3</th>\n",
       "      <td> 1</td>\n",
       "      <td> 53</td>\n",
       "      <td> Black</td>\n",
       "      <td>   US</td>\n",
       "      <td> MarriedCivSpouse</td>\n",
       "      <td>  7</td>\n",
       "      <td>                    Private</td>\n",
       "      <td> HandlersCleaners</td>\n",
       "      <td> 40</td>\n",
       "      <td>    0</td>\n",
       "      <td> 0</td>\n",
       "      <td> 0</td>\n",
       "      <td> 50s</td>\n",
       "      <td> 21-40</td>\n",
       "      <td> 0</td>\n",
       "    </tr>\n",
       "    <tr>\n",
       "      <th>4</th>\n",
       "      <td> 0</td>\n",
       "      <td> 28</td>\n",
       "      <td> Black</td>\n",
       "      <td> Cuba</td>\n",
       "      <td> MarriedCivSpouse</td>\n",
       "      <td> 13</td>\n",
       "      <td>                    Private</td>\n",
       "      <td>    ProfSpecialty</td>\n",
       "      <td> 40</td>\n",
       "      <td>    0</td>\n",
       "      <td> 0</td>\n",
       "      <td> 0</td>\n",
       "      <td> 20s</td>\n",
       "      <td> 21-40</td>\n",
       "      <td> 0</td>\n",
       "    </tr>\n",
       "  </tbody>\n",
       "</table>\n",
       "</div>"
      ],
      "text/plain": [
       "   isMale  age   race nativeCountry     maritalStatus  educationLevel  \\\n",
       "0       1   39  White            US      NeverMarried              13   \n",
       "1       1   50  White            US  MarriedCivSpouse              13   \n",
       "2       1   38  White            US          Divorced               9   \n",
       "3       1   53  Black            US  MarriedCivSpouse               7   \n",
       "4       0   28  Black          Cuba  MarriedCivSpouse              13   \n",
       "\n",
       "                    workclass        occupation  hoursPerWeek  capitalGain  \\\n",
       "0             StateGovernment       AdmClerical            40         2174   \n",
       "1  SelfEmpoyedNotIncorporated    ExecManagerial            13            0   \n",
       "2                     Private  HandlersCleaners            40            0   \n",
       "3                     Private  HandlersCleaners            40            0   \n",
       "4                     Private     ProfSpecialty            40            0   \n",
       "\n",
       "   capitalLoss  salaryOver50K ageRange hourRange  hasCapitalTransactions  \n",
       "0            0              0      30s     21-40                       1  \n",
       "1            0              0      40s      1-20                       0  \n",
       "2            0              0      30s     21-40                       0  \n",
       "3            0              0      50s     21-40                       0  \n",
       "4            0              0      20s     21-40                       0  "
      ]
     },
     "execution_count": 17,
     "metadata": {},
     "output_type": "execute_result"
    }
   ],
   "source": [
    "df.head()"
   ]
  },
  {
   "cell_type": "code",
   "execution_count": 18,
   "metadata": {
    "collapsed": true
   },
   "outputs": [],
   "source": [
    "# For origin, since 97% of the people are from the US, we will change it to a boolean that\n",
    "# represents if you are from foreign origin (1) or domestic (0)\n",
    "df['isForeign'] = (df.nativeCountry!=\"US\").astype(np.int)"
   ]
  },
  {
   "cell_type": "code",
   "execution_count": 19,
   "metadata": {
    "collapsed": false
   },
   "outputs": [
    {
     "data": {
      "text/html": [
       "<div style=\"max-height:1000px;max-width:1500px;overflow:auto;\">\n",
       "<table border=\"1\" class=\"dataframe\">\n",
       "  <thead>\n",
       "    <tr style=\"text-align: right;\">\n",
       "      <th></th>\n",
       "      <th>isMale</th>\n",
       "      <th>age</th>\n",
       "      <th>race</th>\n",
       "      <th>nativeCountry</th>\n",
       "      <th>maritalStatus</th>\n",
       "      <th>educationLevel</th>\n",
       "      <th>workclass</th>\n",
       "      <th>occupation</th>\n",
       "      <th>hoursPerWeek</th>\n",
       "      <th>capitalGain</th>\n",
       "      <th>capitalLoss</th>\n",
       "      <th>salaryOver50K</th>\n",
       "      <th>ageRange</th>\n",
       "      <th>hourRange</th>\n",
       "      <th>hasCapitalTransactions</th>\n",
       "      <th>isForeign</th>\n",
       "    </tr>\n",
       "  </thead>\n",
       "  <tbody>\n",
       "    <tr>\n",
       "      <th>0</th>\n",
       "      <td> 1</td>\n",
       "      <td> 39</td>\n",
       "      <td> White</td>\n",
       "      <td>   US</td>\n",
       "      <td>     NeverMarried</td>\n",
       "      <td> 13</td>\n",
       "      <td>            StateGovernment</td>\n",
       "      <td>      AdmClerical</td>\n",
       "      <td> 40</td>\n",
       "      <td> 2174</td>\n",
       "      <td> 0</td>\n",
       "      <td> 0</td>\n",
       "      <td> 30s</td>\n",
       "      <td> 21-40</td>\n",
       "      <td> 1</td>\n",
       "      <td> 0</td>\n",
       "    </tr>\n",
       "    <tr>\n",
       "      <th>1</th>\n",
       "      <td> 1</td>\n",
       "      <td> 50</td>\n",
       "      <td> White</td>\n",
       "      <td>   US</td>\n",
       "      <td> MarriedCivSpouse</td>\n",
       "      <td> 13</td>\n",
       "      <td> SelfEmpoyedNotIncorporated</td>\n",
       "      <td>   ExecManagerial</td>\n",
       "      <td> 13</td>\n",
       "      <td>    0</td>\n",
       "      <td> 0</td>\n",
       "      <td> 0</td>\n",
       "      <td> 40s</td>\n",
       "      <td>  1-20</td>\n",
       "      <td> 0</td>\n",
       "      <td> 0</td>\n",
       "    </tr>\n",
       "    <tr>\n",
       "      <th>2</th>\n",
       "      <td> 1</td>\n",
       "      <td> 38</td>\n",
       "      <td> White</td>\n",
       "      <td>   US</td>\n",
       "      <td>         Divorced</td>\n",
       "      <td>  9</td>\n",
       "      <td>                    Private</td>\n",
       "      <td> HandlersCleaners</td>\n",
       "      <td> 40</td>\n",
       "      <td>    0</td>\n",
       "      <td> 0</td>\n",
       "      <td> 0</td>\n",
       "      <td> 30s</td>\n",
       "      <td> 21-40</td>\n",
       "      <td> 0</td>\n",
       "      <td> 0</td>\n",
       "    </tr>\n",
       "    <tr>\n",
       "      <th>3</th>\n",
       "      <td> 1</td>\n",
       "      <td> 53</td>\n",
       "      <td> Black</td>\n",
       "      <td>   US</td>\n",
       "      <td> MarriedCivSpouse</td>\n",
       "      <td>  7</td>\n",
       "      <td>                    Private</td>\n",
       "      <td> HandlersCleaners</td>\n",
       "      <td> 40</td>\n",
       "      <td>    0</td>\n",
       "      <td> 0</td>\n",
       "      <td> 0</td>\n",
       "      <td> 50s</td>\n",
       "      <td> 21-40</td>\n",
       "      <td> 0</td>\n",
       "      <td> 0</td>\n",
       "    </tr>\n",
       "    <tr>\n",
       "      <th>4</th>\n",
       "      <td> 0</td>\n",
       "      <td> 28</td>\n",
       "      <td> Black</td>\n",
       "      <td> Cuba</td>\n",
       "      <td> MarriedCivSpouse</td>\n",
       "      <td> 13</td>\n",
       "      <td>                    Private</td>\n",
       "      <td>    ProfSpecialty</td>\n",
       "      <td> 40</td>\n",
       "      <td>    0</td>\n",
       "      <td> 0</td>\n",
       "      <td> 0</td>\n",
       "      <td> 20s</td>\n",
       "      <td> 21-40</td>\n",
       "      <td> 0</td>\n",
       "      <td> 1</td>\n",
       "    </tr>\n",
       "  </tbody>\n",
       "</table>\n",
       "</div>"
      ],
      "text/plain": [
       "   isMale  age   race nativeCountry     maritalStatus  educationLevel  \\\n",
       "0       1   39  White            US      NeverMarried              13   \n",
       "1       1   50  White            US  MarriedCivSpouse              13   \n",
       "2       1   38  White            US          Divorced               9   \n",
       "3       1   53  Black            US  MarriedCivSpouse               7   \n",
       "4       0   28  Black          Cuba  MarriedCivSpouse              13   \n",
       "\n",
       "                    workclass        occupation  hoursPerWeek  capitalGain  \\\n",
       "0             StateGovernment       AdmClerical            40         2174   \n",
       "1  SelfEmpoyedNotIncorporated    ExecManagerial            13            0   \n",
       "2                     Private  HandlersCleaners            40            0   \n",
       "3                     Private  HandlersCleaners            40            0   \n",
       "4                     Private     ProfSpecialty            40            0   \n",
       "\n",
       "   capitalLoss  salaryOver50K ageRange hourRange  hasCapitalTransactions  \\\n",
       "0            0              0      30s     21-40                       1   \n",
       "1            0              0      40s      1-20                       0   \n",
       "2            0              0      30s     21-40                       0   \n",
       "3            0              0      50s     21-40                       0   \n",
       "4            0              0      20s     21-40                       0   \n",
       "\n",
       "   isForeign  \n",
       "0          0  \n",
       "1          0  \n",
       "2          0  \n",
       "3          0  \n",
       "4          1  "
      ]
     },
     "execution_count": 19,
     "metadata": {},
     "output_type": "execute_result"
    }
   ],
   "source": [
    "df.head()"
   ]
  },
  {
   "cell_type": "code",
   "execution_count": 20,
   "metadata": {
    "collapsed": false
   },
   "outputs": [
    {
     "name": "stdout",
     "output_type": "stream",
     "text": [
      "<class 'pandas.core.frame.DataFrame'>\n",
      "Int64Index: 30162 entries, 0 to 32560\n",
      "Data columns (total 16 columns):\n",
      "isMale                    30162 non-null int64\n",
      "age                       30162 non-null int64\n",
      "race                      30162 non-null object\n",
      "nativeCountry             30162 non-null object\n",
      "maritalStatus             30162 non-null object\n",
      "educationLevel            30162 non-null int64\n",
      "workclass                 30162 non-null object\n",
      "occupation                30162 non-null object\n",
      "hoursPerWeek              30162 non-null int64\n",
      "capitalGain               30162 non-null int64\n",
      "capitalLoss               30162 non-null int64\n",
      "salaryOver50K             30162 non-null int64\n",
      "ageRange                  30162 non-null category\n",
      "hourRange                 30162 non-null category\n",
      "hasCapitalTransactions    30162 non-null int64\n",
      "isForeign                 30162 non-null int64\n",
      "dtypes: category(2), int64(9), object(5)\n",
      "memory usage: 3.5+ MB\n"
     ]
    }
   ],
   "source": [
    "# Also here are the data types of our attributes, as we can see isMale and salaryOver50K are already integers\n",
    "df.info()"
   ]
  },
  {
   "cell_type": "code",
   "execution_count": 21,
   "metadata": {
    "collapsed": false
   },
   "outputs": [
    {
     "name": "stdout",
     "output_type": "stream",
     "text": [
      "<class 'pandas.core.frame.DataFrame'>\n",
      "Int64Index: 30162 entries, 0 to 32560\n",
      "Data columns (total 62 columns):\n",
      "isMale                                  30162 non-null int64\n",
      "age                                     30162 non-null int64\n",
      "race                                    30162 non-null object\n",
      "nativeCountry                           30162 non-null object\n",
      "maritalStatus                           30162 non-null object\n",
      "educationLevel                          30162 non-null int64\n",
      "workclass                               30162 non-null object\n",
      "occupation                              30162 non-null object\n",
      "hoursPerWeek                            30162 non-null int64\n",
      "capitalGain                             30162 non-null int64\n",
      "capitalLoss                             30162 non-null int64\n",
      "salaryOver50K                           30162 non-null int64\n",
      "ageRange                                30162 non-null category\n",
      "hourRange                               30162 non-null category\n",
      "hasCapitalTransactions                  30162 non-null int64\n",
      "isForeign                               30162 non-null int64\n",
      "race_AmerIndianEskimo                   30162 non-null float64\n",
      "race_AsianPacIslander                   30162 non-null float64\n",
      "race_Black                              30162 non-null float64\n",
      "race_Other                              30162 non-null float64\n",
      "race_White                              30162 non-null float64\n",
      "marriage_Divorced                       30162 non-null float64\n",
      "marriage_MarriedAFSpouse                30162 non-null float64\n",
      "marriage_MarriedCivSpouse               30162 non-null float64\n",
      "marriage_MarriedSpouseAbsent            30162 non-null float64\n",
      "marriage_NeverMarried                   30162 non-null float64\n",
      "marriage_Separated                      30162 non-null float64\n",
      "marriage_Widowed                        30162 non-null float64\n",
      "workclass_FederalGovernment             30162 non-null float64\n",
      "workclass_LocalGovernment               30162 non-null float64\n",
      "workclass_Private                       30162 non-null float64\n",
      "workclass_SelfEmployedIncorporated      30162 non-null float64\n",
      "workclass_SelfEmpoyedNotIncorporated    30162 non-null float64\n",
      "workclass_StateGovernment               30162 non-null float64\n",
      "workclass_WithoutPay                    30162 non-null float64\n",
      "occupation_AdmClerical                  30162 non-null float64\n",
      "occupation_Armed-Forces                 30162 non-null float64\n",
      "occupation_CraftRepair                  30162 non-null float64\n",
      "occupation_ExecManagerial               30162 non-null float64\n",
      "occupation_FarmingFishing               30162 non-null float64\n",
      "occupation_HandlersCleaners             30162 non-null float64\n",
      "occupation_MachineOpsInspector          30162 non-null float64\n",
      "occupation_OtherService                 30162 non-null float64\n",
      "occupation_PrivHouseServ                30162 non-null float64\n",
      "occupation_ProfSpecialty                30162 non-null float64\n",
      "occupation_ProtectiveServant            30162 non-null float64\n",
      "occupation_Sales                        30162 non-null float64\n",
      "occupation_TechSupport                  30162 non-null float64\n",
      "occupation_TransportMoving              30162 non-null float64\n",
      "ageRange_17-20                          30162 non-null float64\n",
      "ageRange_20s                            30162 non-null float64\n",
      "ageRange_30s                            30162 non-null float64\n",
      "ageRange_40s                            30162 non-null float64\n",
      "ageRange_50s                            30162 non-null float64\n",
      "ageRange_60s                            30162 non-null float64\n",
      "ageRange_70s                            30162 non-null float64\n",
      "ageRange_80s                            30162 non-null float64\n",
      "hourRange_1-20                          30162 non-null float64\n",
      "hourRange_21-40                         30162 non-null float64\n",
      "hourRange_41-60                         30162 non-null float64\n",
      "hourRange_61-80                         30162 non-null float64\n",
      "hourRange_80-99                         30162 non-null float64\n",
      "dtypes: category(2), float64(46), int64(9), object(5)\n",
      "memory usage: 14.1+ MB\n"
     ]
    }
   ],
   "source": [
    "# Now we will make all the categorical (object) attributes into one-hot encoded values\n",
    "# Also store current dataframe just in case\n",
    "dfClean = df.copy(deep=True)\n",
    "\n",
    "# race\n",
    "tmp_df = pd.get_dummies(df.race,prefix='race')\n",
    "dfModel = pd.concat((df,tmp_df),axis=1)\n",
    "\n",
    "# maritalStatus\n",
    "tmp_df = pd.get_dummies(df.maritalStatus,prefix='marriage')\n",
    "dfModel = pd.concat((dfModel,tmp_df),axis=1)\n",
    "\n",
    "# workclass\n",
    "tmp_df = pd.get_dummies(df.workclass,prefix='workclass')\n",
    "dfModel = pd.concat((dfModel,tmp_df),axis=1)\n",
    "\n",
    "# occupation\n",
    "tmp_df = pd.get_dummies(df.occupation,prefix='occupation')\n",
    "dfModel = pd.concat((dfModel,tmp_df),axis=1)\n",
    "\n",
    "# occupation\n",
    "tmp_df = pd.get_dummies(df.ageRange,prefix='ageRange')\n",
    "dfModel = pd.concat((dfModel,tmp_df),axis=1)\n",
    "\n",
    "# occupation\n",
    "tmp_df = pd.get_dummies(df.hourRange,prefix='hourRange')\n",
    "dfModel = pd.concat((dfModel,tmp_df),axis=1)\n",
    "\n",
    "# print data model\n",
    "df = dfModel\n",
    "df.info()"
   ]
  },
  {
   "cell_type": "code",
   "execution_count": 22,
   "metadata": {
    "collapsed": false
   },
   "outputs": [
    {
     "data": {
      "text/html": [
       "<div style=\"max-height:1000px;max-width:1500px;overflow:auto;\">\n",
       "<table border=\"1\" class=\"dataframe\">\n",
       "  <thead>\n",
       "    <tr style=\"text-align: right;\">\n",
       "      <th></th>\n",
       "      <th>isMale</th>\n",
       "      <th>age</th>\n",
       "      <th>race</th>\n",
       "      <th>nativeCountry</th>\n",
       "      <th>maritalStatus</th>\n",
       "      <th>educationLevel</th>\n",
       "      <th>workclass</th>\n",
       "      <th>occupation</th>\n",
       "      <th>hoursPerWeek</th>\n",
       "      <th>capitalGain</th>\n",
       "      <th>...</th>\n",
       "      <th>ageRange_40s</th>\n",
       "      <th>ageRange_50s</th>\n",
       "      <th>ageRange_60s</th>\n",
       "      <th>ageRange_70s</th>\n",
       "      <th>ageRange_80s</th>\n",
       "      <th>hourRange_1-20</th>\n",
       "      <th>hourRange_21-40</th>\n",
       "      <th>hourRange_41-60</th>\n",
       "      <th>hourRange_61-80</th>\n",
       "      <th>hourRange_80-99</th>\n",
       "    </tr>\n",
       "  </thead>\n",
       "  <tbody>\n",
       "    <tr>\n",
       "      <th>0</th>\n",
       "      <td> 1</td>\n",
       "      <td> 39</td>\n",
       "      <td> White</td>\n",
       "      <td>   US</td>\n",
       "      <td>     NeverMarried</td>\n",
       "      <td> 13</td>\n",
       "      <td>            StateGovernment</td>\n",
       "      <td>      AdmClerical</td>\n",
       "      <td> 40</td>\n",
       "      <td> 2174</td>\n",
       "      <td>...</td>\n",
       "      <td> 0</td>\n",
       "      <td> 0</td>\n",
       "      <td> 0</td>\n",
       "      <td> 0</td>\n",
       "      <td> 0</td>\n",
       "      <td> 0</td>\n",
       "      <td> 1</td>\n",
       "      <td> 0</td>\n",
       "      <td> 0</td>\n",
       "      <td> 0</td>\n",
       "    </tr>\n",
       "    <tr>\n",
       "      <th>1</th>\n",
       "      <td> 1</td>\n",
       "      <td> 50</td>\n",
       "      <td> White</td>\n",
       "      <td>   US</td>\n",
       "      <td> MarriedCivSpouse</td>\n",
       "      <td> 13</td>\n",
       "      <td> SelfEmpoyedNotIncorporated</td>\n",
       "      <td>   ExecManagerial</td>\n",
       "      <td> 13</td>\n",
       "      <td>    0</td>\n",
       "      <td>...</td>\n",
       "      <td> 1</td>\n",
       "      <td> 0</td>\n",
       "      <td> 0</td>\n",
       "      <td> 0</td>\n",
       "      <td> 0</td>\n",
       "      <td> 1</td>\n",
       "      <td> 0</td>\n",
       "      <td> 0</td>\n",
       "      <td> 0</td>\n",
       "      <td> 0</td>\n",
       "    </tr>\n",
       "    <tr>\n",
       "      <th>2</th>\n",
       "      <td> 1</td>\n",
       "      <td> 38</td>\n",
       "      <td> White</td>\n",
       "      <td>   US</td>\n",
       "      <td>         Divorced</td>\n",
       "      <td>  9</td>\n",
       "      <td>                    Private</td>\n",
       "      <td> HandlersCleaners</td>\n",
       "      <td> 40</td>\n",
       "      <td>    0</td>\n",
       "      <td>...</td>\n",
       "      <td> 0</td>\n",
       "      <td> 0</td>\n",
       "      <td> 0</td>\n",
       "      <td> 0</td>\n",
       "      <td> 0</td>\n",
       "      <td> 0</td>\n",
       "      <td> 1</td>\n",
       "      <td> 0</td>\n",
       "      <td> 0</td>\n",
       "      <td> 0</td>\n",
       "    </tr>\n",
       "    <tr>\n",
       "      <th>3</th>\n",
       "      <td> 1</td>\n",
       "      <td> 53</td>\n",
       "      <td> Black</td>\n",
       "      <td>   US</td>\n",
       "      <td> MarriedCivSpouse</td>\n",
       "      <td>  7</td>\n",
       "      <td>                    Private</td>\n",
       "      <td> HandlersCleaners</td>\n",
       "      <td> 40</td>\n",
       "      <td>    0</td>\n",
       "      <td>...</td>\n",
       "      <td> 0</td>\n",
       "      <td> 1</td>\n",
       "      <td> 0</td>\n",
       "      <td> 0</td>\n",
       "      <td> 0</td>\n",
       "      <td> 0</td>\n",
       "      <td> 1</td>\n",
       "      <td> 0</td>\n",
       "      <td> 0</td>\n",
       "      <td> 0</td>\n",
       "    </tr>\n",
       "    <tr>\n",
       "      <th>4</th>\n",
       "      <td> 0</td>\n",
       "      <td> 28</td>\n",
       "      <td> Black</td>\n",
       "      <td> Cuba</td>\n",
       "      <td> MarriedCivSpouse</td>\n",
       "      <td> 13</td>\n",
       "      <td>                    Private</td>\n",
       "      <td>    ProfSpecialty</td>\n",
       "      <td> 40</td>\n",
       "      <td>    0</td>\n",
       "      <td>...</td>\n",
       "      <td> 0</td>\n",
       "      <td> 0</td>\n",
       "      <td> 0</td>\n",
       "      <td> 0</td>\n",
       "      <td> 0</td>\n",
       "      <td> 0</td>\n",
       "      <td> 1</td>\n",
       "      <td> 0</td>\n",
       "      <td> 0</td>\n",
       "      <td> 0</td>\n",
       "    </tr>\n",
       "  </tbody>\n",
       "</table>\n",
       "<p>5 rows × 62 columns</p>\n",
       "</div>"
      ],
      "text/plain": [
       "   isMale  age   race nativeCountry     maritalStatus  educationLevel  \\\n",
       "0       1   39  White            US      NeverMarried              13   \n",
       "1       1   50  White            US  MarriedCivSpouse              13   \n",
       "2       1   38  White            US          Divorced               9   \n",
       "3       1   53  Black            US  MarriedCivSpouse               7   \n",
       "4       0   28  Black          Cuba  MarriedCivSpouse              13   \n",
       "\n",
       "                    workclass        occupation  hoursPerWeek  capitalGain  \\\n",
       "0             StateGovernment       AdmClerical            40         2174   \n",
       "1  SelfEmpoyedNotIncorporated    ExecManagerial            13            0   \n",
       "2                     Private  HandlersCleaners            40            0   \n",
       "3                     Private  HandlersCleaners            40            0   \n",
       "4                     Private     ProfSpecialty            40            0   \n",
       "\n",
       "        ...         ageRange_40s  ageRange_50s ageRange_60s ageRange_70s  \\\n",
       "0       ...                    0             0            0            0   \n",
       "1       ...                    1             0            0            0   \n",
       "2       ...                    0             0            0            0   \n",
       "3       ...                    0             1            0            0   \n",
       "4       ...                    0             0            0            0   \n",
       "\n",
       "   ageRange_80s  hourRange_1-20  hourRange_21-40  hourRange_41-60  \\\n",
       "0             0               0                1                0   \n",
       "1             0               1                0                0   \n",
       "2             0               0                1                0   \n",
       "3             0               0                1                0   \n",
       "4             0               0                1                0   \n",
       "\n",
       "   hourRange_61-80  hourRange_80-99  \n",
       "0                0                0  \n",
       "1                0                0  \n",
       "2                0                0  \n",
       "3                0                0  \n",
       "4                0                0  \n",
       "\n",
       "[5 rows x 62 columns]"
      ]
     },
     "execution_count": 22,
     "metadata": {},
     "output_type": "execute_result"
    }
   ],
   "source": [
    "df.head()"
   ]
  },
  {
   "cell_type": "code",
   "execution_count": 23,
   "metadata": {
    "collapsed": false
   },
   "outputs": [],
   "source": [
    "# Finally, let's delete the object attributes from our data model\n",
    "del df['race']\n",
    "del df['nativeCountry']\n",
    "del df['maritalStatus']\n",
    "del df['occupation']\n",
    "del df['workclass']\n",
    "del df['capitalGain']\n",
    "del df['capitalLoss']\n",
    "del df['age']\n",
    "del df['hoursPerWeek']\n",
    "del df['ageRange']\n",
    "del df['hourRange']"
   ]
  },
  {
   "cell_type": "markdown",
   "metadata": {},
   "source": [
    "---\n",
    "### 2. Final Data Set (5 points)\n",
    "**Describe the final dataset that is used for classification (include a description of any newly formed variables you created).**"
   ]
  },
  {
   "cell_type": "code",
   "execution_count": 24,
   "metadata": {
    "collapsed": false
   },
   "outputs": [
    {
     "name": "stdout",
     "output_type": "stream",
     "text": [
      "<class 'pandas.core.frame.DataFrame'>\n",
      "Int64Index: 30162 entries, 0 to 32560\n",
      "Data columns (total 51 columns):\n",
      "isMale                                  30162 non-null int64\n",
      "educationLevel                          30162 non-null int64\n",
      "salaryOver50K                           30162 non-null int64\n",
      "hasCapitalTransactions                  30162 non-null int64\n",
      "isForeign                               30162 non-null int64\n",
      "race_AmerIndianEskimo                   30162 non-null float64\n",
      "race_AsianPacIslander                   30162 non-null float64\n",
      "race_Black                              30162 non-null float64\n",
      "race_Other                              30162 non-null float64\n",
      "race_White                              30162 non-null float64\n",
      "marriage_Divorced                       30162 non-null float64\n",
      "marriage_MarriedAFSpouse                30162 non-null float64\n",
      "marriage_MarriedCivSpouse               30162 non-null float64\n",
      "marriage_MarriedSpouseAbsent            30162 non-null float64\n",
      "marriage_NeverMarried                   30162 non-null float64\n",
      "marriage_Separated                      30162 non-null float64\n",
      "marriage_Widowed                        30162 non-null float64\n",
      "workclass_FederalGovernment             30162 non-null float64\n",
      "workclass_LocalGovernment               30162 non-null float64\n",
      "workclass_Private                       30162 non-null float64\n",
      "workclass_SelfEmployedIncorporated      30162 non-null float64\n",
      "workclass_SelfEmpoyedNotIncorporated    30162 non-null float64\n",
      "workclass_StateGovernment               30162 non-null float64\n",
      "workclass_WithoutPay                    30162 non-null float64\n",
      "occupation_AdmClerical                  30162 non-null float64\n",
      "occupation_Armed-Forces                 30162 non-null float64\n",
      "occupation_CraftRepair                  30162 non-null float64\n",
      "occupation_ExecManagerial               30162 non-null float64\n",
      "occupation_FarmingFishing               30162 non-null float64\n",
      "occupation_HandlersCleaners             30162 non-null float64\n",
      "occupation_MachineOpsInspector          30162 non-null float64\n",
      "occupation_OtherService                 30162 non-null float64\n",
      "occupation_PrivHouseServ                30162 non-null float64\n",
      "occupation_ProfSpecialty                30162 non-null float64\n",
      "occupation_ProtectiveServant            30162 non-null float64\n",
      "occupation_Sales                        30162 non-null float64\n",
      "occupation_TechSupport                  30162 non-null float64\n",
      "occupation_TransportMoving              30162 non-null float64\n",
      "ageRange_17-20                          30162 non-null float64\n",
      "ageRange_20s                            30162 non-null float64\n",
      "ageRange_30s                            30162 non-null float64\n",
      "ageRange_40s                            30162 non-null float64\n",
      "ageRange_50s                            30162 non-null float64\n",
      "ageRange_60s                            30162 non-null float64\n",
      "ageRange_70s                            30162 non-null float64\n",
      "ageRange_80s                            30162 non-null float64\n",
      "hourRange_1-20                          30162 non-null float64\n",
      "hourRange_21-40                         30162 non-null float64\n",
      "hourRange_41-60                         30162 non-null float64\n",
      "hourRange_61-80                         30162 non-null float64\n",
      "hourRange_80-99                         30162 non-null float64\n",
      "dtypes: float64(46), int64(5)\n",
      "memory usage: 12.0 MB\n"
     ]
    },
    {
     "data": {
      "text/html": [
       "<div style=\"max-height:1000px;max-width:1500px;overflow:auto;\">\n",
       "<table border=\"1\" class=\"dataframe\">\n",
       "  <thead>\n",
       "    <tr style=\"text-align: right;\">\n",
       "      <th></th>\n",
       "      <th>isMale</th>\n",
       "      <th>educationLevel</th>\n",
       "      <th>salaryOver50K</th>\n",
       "      <th>hasCapitalTransactions</th>\n",
       "      <th>isForeign</th>\n",
       "      <th>race_AmerIndianEskimo</th>\n",
       "      <th>race_AsianPacIslander</th>\n",
       "      <th>race_Black</th>\n",
       "      <th>race_Other</th>\n",
       "      <th>race_White</th>\n",
       "      <th>...</th>\n",
       "      <th>ageRange_40s</th>\n",
       "      <th>ageRange_50s</th>\n",
       "      <th>ageRange_60s</th>\n",
       "      <th>ageRange_70s</th>\n",
       "      <th>ageRange_80s</th>\n",
       "      <th>hourRange_1-20</th>\n",
       "      <th>hourRange_21-40</th>\n",
       "      <th>hourRange_41-60</th>\n",
       "      <th>hourRange_61-80</th>\n",
       "      <th>hourRange_80-99</th>\n",
       "    </tr>\n",
       "  </thead>\n",
       "  <tbody>\n",
       "    <tr>\n",
       "      <th>0</th>\n",
       "      <td> 1</td>\n",
       "      <td> 13</td>\n",
       "      <td> 0</td>\n",
       "      <td> 1</td>\n",
       "      <td> 0</td>\n",
       "      <td> 0</td>\n",
       "      <td> 0</td>\n",
       "      <td> 0</td>\n",
       "      <td> 0</td>\n",
       "      <td> 1</td>\n",
       "      <td>...</td>\n",
       "      <td> 0</td>\n",
       "      <td> 0</td>\n",
       "      <td> 0</td>\n",
       "      <td> 0</td>\n",
       "      <td> 0</td>\n",
       "      <td> 0</td>\n",
       "      <td> 1</td>\n",
       "      <td> 0</td>\n",
       "      <td> 0</td>\n",
       "      <td> 0</td>\n",
       "    </tr>\n",
       "    <tr>\n",
       "      <th>1</th>\n",
       "      <td> 1</td>\n",
       "      <td> 13</td>\n",
       "      <td> 0</td>\n",
       "      <td> 0</td>\n",
       "      <td> 0</td>\n",
       "      <td> 0</td>\n",
       "      <td> 0</td>\n",
       "      <td> 0</td>\n",
       "      <td> 0</td>\n",
       "      <td> 1</td>\n",
       "      <td>...</td>\n",
       "      <td> 1</td>\n",
       "      <td> 0</td>\n",
       "      <td> 0</td>\n",
       "      <td> 0</td>\n",
       "      <td> 0</td>\n",
       "      <td> 1</td>\n",
       "      <td> 0</td>\n",
       "      <td> 0</td>\n",
       "      <td> 0</td>\n",
       "      <td> 0</td>\n",
       "    </tr>\n",
       "    <tr>\n",
       "      <th>2</th>\n",
       "      <td> 1</td>\n",
       "      <td>  9</td>\n",
       "      <td> 0</td>\n",
       "      <td> 0</td>\n",
       "      <td> 0</td>\n",
       "      <td> 0</td>\n",
       "      <td> 0</td>\n",
       "      <td> 0</td>\n",
       "      <td> 0</td>\n",
       "      <td> 1</td>\n",
       "      <td>...</td>\n",
       "      <td> 0</td>\n",
       "      <td> 0</td>\n",
       "      <td> 0</td>\n",
       "      <td> 0</td>\n",
       "      <td> 0</td>\n",
       "      <td> 0</td>\n",
       "      <td> 1</td>\n",
       "      <td> 0</td>\n",
       "      <td> 0</td>\n",
       "      <td> 0</td>\n",
       "    </tr>\n",
       "    <tr>\n",
       "      <th>3</th>\n",
       "      <td> 1</td>\n",
       "      <td>  7</td>\n",
       "      <td> 0</td>\n",
       "      <td> 0</td>\n",
       "      <td> 0</td>\n",
       "      <td> 0</td>\n",
       "      <td> 0</td>\n",
       "      <td> 1</td>\n",
       "      <td> 0</td>\n",
       "      <td> 0</td>\n",
       "      <td>...</td>\n",
       "      <td> 0</td>\n",
       "      <td> 1</td>\n",
       "      <td> 0</td>\n",
       "      <td> 0</td>\n",
       "      <td> 0</td>\n",
       "      <td> 0</td>\n",
       "      <td> 1</td>\n",
       "      <td> 0</td>\n",
       "      <td> 0</td>\n",
       "      <td> 0</td>\n",
       "    </tr>\n",
       "    <tr>\n",
       "      <th>4</th>\n",
       "      <td> 0</td>\n",
       "      <td> 13</td>\n",
       "      <td> 0</td>\n",
       "      <td> 0</td>\n",
       "      <td> 1</td>\n",
       "      <td> 0</td>\n",
       "      <td> 0</td>\n",
       "      <td> 1</td>\n",
       "      <td> 0</td>\n",
       "      <td> 0</td>\n",
       "      <td>...</td>\n",
       "      <td> 0</td>\n",
       "      <td> 0</td>\n",
       "      <td> 0</td>\n",
       "      <td> 0</td>\n",
       "      <td> 0</td>\n",
       "      <td> 0</td>\n",
       "      <td> 1</td>\n",
       "      <td> 0</td>\n",
       "      <td> 0</td>\n",
       "      <td> 0</td>\n",
       "    </tr>\n",
       "  </tbody>\n",
       "</table>\n",
       "<p>5 rows × 51 columns</p>\n",
       "</div>"
      ],
      "text/plain": [
       "   isMale  educationLevel  salaryOver50K  hasCapitalTransactions  isForeign  \\\n",
       "0       1              13              0                       1          0   \n",
       "1       1              13              0                       0          0   \n",
       "2       1               9              0                       0          0   \n",
       "3       1               7              0                       0          0   \n",
       "4       0              13              0                       0          1   \n",
       "\n",
       "   race_AmerIndianEskimo  race_AsianPacIslander  race_Black  race_Other  \\\n",
       "0                      0                      0           0           0   \n",
       "1                      0                      0           0           0   \n",
       "2                      0                      0           0           0   \n",
       "3                      0                      0           1           0   \n",
       "4                      0                      0           1           0   \n",
       "\n",
       "   race_White       ...         ageRange_40s  ageRange_50s  ageRange_60s  \\\n",
       "0           1       ...                    0             0             0   \n",
       "1           1       ...                    1             0             0   \n",
       "2           1       ...                    0             0             0   \n",
       "3           0       ...                    0             1             0   \n",
       "4           0       ...                    0             0             0   \n",
       "\n",
       "   ageRange_70s  ageRange_80s  hourRange_1-20  hourRange_21-40  \\\n",
       "0             0             0               0                1   \n",
       "1             0             0               1                0   \n",
       "2             0             0               0                1   \n",
       "3             0             0               0                1   \n",
       "4             0             0               0                1   \n",
       "\n",
       "   hourRange_41-60  hourRange_61-80  hourRange_80-99  \n",
       "0                0                0                0  \n",
       "1                0                0                0  \n",
       "2                0                0                0  \n",
       "3                0                0                0  \n",
       "4                0                0                0  \n",
       "\n",
       "[5 rows x 51 columns]"
      ]
     },
     "execution_count": 24,
     "metadata": {},
     "output_type": "execute_result"
    }
   ],
   "source": [
    "# Now our data set looks like this\n",
    "df.info(20)\n",
    "df.head()"
   ]
  },
  {
   "cell_type": "markdown",
   "metadata": {},
   "source": [
    "The final data set contains 'complete' instances which have no missing values. This data set is roughly 93% of the original data set and consists of binary and one-hot encoded attributes, with one attribute remaining as ordinal (education). We decided to create a variety of new attributes to better analyze their impact upon the target attribute, 'salaryOver50K'. \n",
    "\n",
    "'salaryOver50K' is a binary variable which indicates whether an individual, an instance in the context of the data set, has a salary over $50k. \n",
    "\n",
    "Because of the minimal number of instances in which individuals have either capital gains or losses, we decided to create a boolean representation of whether or not the individual has any gains or losses whatsoever. If they do, 'hasCapitalTransactions' is set to a 1.\n",
    "\n",
    "We did a similar compilation with the nativeCountry attribute, where we realized that 97% of the people in the dataset were from the US and transformed nativeCountry into a boolean attribute (isForeign), that is true if for the few people that are not domestic.\n",
    "\n",
    "Furthermore, we decided to break up age and salary into categorical, one-hot encoded variables for analysis. Both of the attributes are broken into chunks that adequately break up the data for easy analysis.\n",
    "\n",
    "Finally, we decided to convert sex to a binary value and to do so, we chose to label the attribute as 'isMale' for readability. This way, the attribute is a binary value, however, the values are still readable to someone viewing the data."
   ]
  },
  {
   "cell_type": "markdown",
   "metadata": {},
   "source": [
    "Modeling and Evaluation\n",
    "---\n",
    "\n",
    "---\n",
    "### 1. Evaluation Metrics (10 points)\n",
    "**Choose and explain your evaluation metrics that you will use (i.e., accuracy, precision, recall, F-measure, or a mix of all of them). Why are these appropriate for analyzing the results of your modeling?**"
   ]
  },
  {
   "cell_type": "markdown",
   "metadata": {},
   "source": [
    "As discussed in our previous lab, the primary use of the data gleaned from this analysis will be for marketing purposes (Classification Task 1). In addition, the analysis of whether an individual makes capital trades (Classificiation Task 2) may be very useful to the IRS for identifying individuals that could potentially attempt to evade their taxes by failing to report their capital earnings.\n",
    "<br>\n",
    "<br>\n",
    "While it may not appear that that these classifications and associated real-world uses have much in common, they have one important commonality: the risk of omitting a potential lead/audit (false negative) greatly outweighs the risk of including an incorrectly classified individual (false positive). \n",
    "<br>\n",
    "<br>\n",
    "For example, if a marketer were to include someone who does not make a salary of over 50k (false positive) in a promotion targeted at wealthy individuals, it will likely not generate any sales but it will only incur a small cost. On the other hand, if the data does not include an individual that was classified incorrectly (false negative), there is a potential for a significant loss in sales, especially in terms of the promotional campaign as a whole.\n",
    "<br>\n",
    "<br>\n",
    "In order to minimize the amount of false negatives generated by our model, we have decided to use <strong>Recall</strong> as our primary evaluation metric. For the purposes of this assignment, Recall evaluations will be conducted in the context of identifying >50k salaries (<i>i.e., if an individual falls on the border between target classes, classify as >50k</i>) and in the context of identifying individuals who make capital trades. We will also be utilizing <strong>Accuracy</strong> as a form of baseline accuracy and for additional analyses and <strong.\n",
    "<br>\n",
    "<br>"
   ]
  },
  {
   "cell_type": "markdown",
   "metadata": {},
   "source": [
    "---\n",
    "### 2. Training and Testing Split (10 points)\n",
    "**Choose the method you will use for dividing your data into training and testing splits (i.e., are you using Stratified 10-fold cross validation? Why?). Explain why your chosen method is appropriate or use more than one method as appropriate.**"
   ]
  },
  {
   "cell_type": "markdown",
   "metadata": {},
   "source": [
    "We will use <strong>Stratified 10-Fold Cross Validation</strong> for our analysis. Stratified 10-Fold Cross Validation will provide our analysis with a high degree of generalization and refinement, however, it is appropriate for use in our analysis due to one characteristic of our data set:\n",
    "\n",
    "<ul>\n",
    "<li>\n",
    "<strong>Data Consistency (Locality)</strong>: Because the data in our data set was collected from across the United States and because it includes such a diverse sample of individuals, it is very likely that the features that are highly correlated to our target classes will be indicators of that target class <i>regardless</i> of the location from which the data was obtained. In other words, the locality of our testing data should not influence the classification of independent testing data. This is very important for future analysis using the model we create; if this model is tested against data from a specific locale in the future, under the assumption stated above, the model should still maintain a similar level of accuracy to that of the analysis of the entire data set as a whole. As a result, the number of instances per fold will not have any significant impact upon our analysis.\n",
    "</li>\n",
    "</ul>\n",
    "<br>\n",
    "Stratified 10-Fold Cross Validation will provide us with a thorough method of splitting, training, and testing our models against our data set."
   ]
  },
  {
   "cell_type": "markdown",
   "metadata": {},
   "source": [
    "---\n",
    "### 3. Classification Models (20 points)\n",
    "**Create three different classification/regression models (e.g., random forest, KNN, and SVM). Two modeling techniques must be new (but the thrid could be SVM or logistic regression). Adjust parameters as appropriate to increase generalization performance.**"
   ]
  },
  {
   "cell_type": "markdown",
   "metadata": {},
   "source": [
    "First, let's make a copy of our final data set, just in case. "
   ]
  },
  {
   "cell_type": "code",
   "execution_count": 25,
   "metadata": {
    "collapsed": false
   },
   "outputs": [],
   "source": [
    "dfFinal = df.copy(deep=True)"
   ]
  },
  {
   "cell_type": "markdown",
   "metadata": {},
   "source": [
    "### Classification Task 1\n",
    "Predict if a person makes more than 50, 000 dollars a year, based on their age, race, sex, etc. (all of the attributes)"
   ]
  },
  {
   "cell_type": "markdown",
   "metadata": {},
   "source": [
    "#### Prepare Variables"
   ]
  },
  {
   "cell_type": "code",
   "execution_count": 26,
   "metadata": {
    "collapsed": false
   },
   "outputs": [],
   "source": [
    "# get the dataset\n",
    "df1 = dfFinal.copy(deep=True)\n",
    "\n",
    "# create arrays to contain accuracy values\n",
    "accuracyValues = []\n",
    "recallValues = []\n",
    "precisionValues = []\n",
    "fMeasureValues = []\n",
    "\n",
    "# create variables we are more familiar with\n",
    "y = df1['salaryOver50K'].values # get the labels\n",
    "del df1['salaryOver50K']\n",
    "X = df1.values\n",
    "\n",
    "yhat = np.zeros(y.shape) # we will fill this with predictions\n",
    "\n",
    "# 10-fold stratified validation split! :D\n",
    "cv = StratifiedKFold(y, n_folds=10)"
   ]
  },
  {
   "cell_type": "markdown",
   "metadata": {},
   "source": [
    "#### Logistic Regression"
   ]
  },
  {
   "cell_type": "code",
   "execution_count": 27,
   "metadata": {
    "collapsed": false
   },
   "outputs": [
    {
     "name": "stdout",
     "output_type": "stream",
     "text": [
      "Accuracy of this model is: 84.12%\n",
      "Recall of this model is: 59.28%\n",
      "Precision of this model is: 71.98%\n",
      "F-Measure of this model is: 65.02%\n"
     ]
    }
   ],
   "source": [
    "# get a handle to the classifier object, which defines the type\n",
    "LRTask1 = LogisticRegression(penalty='l2', C=1.0, class_weight=None)\n",
    "\n",
    "# now iterate through and get predictions, saved to the correct row in yhat\n",
    "for train, test in cv:\n",
    "    LRTask1.fit(X[train],y[train])\n",
    "    yhat[test] = LRTask1.predict(X[test])\n",
    "\n",
    "acc = mt.accuracy_score(y, yhat)\n",
    "accuracyValues.append(acc)\n",
    "print(\"Accuracy of this model is: %.2f\" % (acc*100))+\"%\"\n",
    "\n",
    "recall = mt.recall_score(y, yhat)\n",
    "recallValues.append(recall)\n",
    "print(\"Recall of this model is: %.2f\" % (recall*100))+\"%\"\n",
    "\n",
    "precision = mt.precision_score(y, yhat)\n",
    "precisionValues.append(precision)\n",
    "print(\"Precision of this model is: %.2f\" % (precision*100))+\"%\"\n",
    "\n",
    "f = mt.f1_score(y, yhat)\n",
    "fMeasureValues.append(f)\n",
    "print(\"F-Measure of this model is: %.2f\" % (f*100))+\"%\""
   ]
  },
  {
   "cell_type": "markdown",
   "metadata": {},
   "source": [
    "#### K-Nearest Neighbors"
   ]
  },
  {
   "cell_type": "code",
   "execution_count": 28,
   "metadata": {
    "collapsed": false
   },
   "outputs": [
    {
     "name": "stdout",
     "output_type": "stream",
     "text": [
      "Accuracy of classifier is: 83.6484245439 % with k of 19\n"
     ]
    }
   ],
   "source": [
    "# We ran a loop with a simple KNN Classifier to determine the best number of nearest neighbours\n",
    "# then, in the next cell we ran it with the proper kFold Stratified distribution.\n",
    "k = 1;\n",
    "highestAcc = 0.0;\n",
    "kVal = 1;\n",
    "while k <= 25:\n",
    "    clf = KNeighborsClassifier(n_neighbors=k, weights='uniform', metric='euclidean')\n",
    "    clf.fit(X[train],y[train])\n",
    "    acc = clf.score(X[test],y[test]);\n",
    "    if acc > highestAcc:\n",
    "        highestAcc = acc;\n",
    "        kVal = k;\n",
    "    k += 2;\n",
    "print 'Accuracy of classifier is:', highestAcc * 100,\"% with k of\", kVal;"
   ]
  },
  {
   "cell_type": "code",
   "execution_count": 29,
   "metadata": {
    "collapsed": false
   },
   "outputs": [
    {
     "name": "stdout",
     "output_type": "stream",
     "text": [
      "Accuracy of this model is: 83.47%\n",
      "Recall of this model is: 59.31%\n",
      "Precision of this model is: 69.76%\n",
      "F-Measure of this model is: 64.11%\n"
     ]
    }
   ],
   "source": [
    "# Here is where we run the correct training for the KNN model.\n",
    "KNNTask1 = KNeighborsClassifier(n_neighbors=kVal)\n",
    "\n",
    "# now iterate through and get predictions, saved to the correct row in yhat\n",
    "for train, test in cv:\n",
    "    KNNTask1.fit(X[train],y[train])\n",
    "    yhat[test] = KNNTask1.predict(X[test])\n",
    "\n",
    "acc = mt.accuracy_score(y, yhat)\n",
    "accuracyValues.append(acc)\n",
    "print(\"Accuracy of this model is: %.2f\" % (acc*100))+\"%\"\n",
    "\n",
    "recall = mt.recall_score(y, yhat)\n",
    "recallValues.append(recall)\n",
    "print(\"Recall of this model is: %.2f\" % (recall*100))+\"%\"\n",
    "\n",
    "precision = mt.precision_score(y, yhat)\n",
    "precisionValues.append(precision)\n",
    "print(\"Precision of this model is: %.2f\" % (precision*100))+\"%\"\n",
    "\n",
    "f = mt.f1_score(y, yhat)\n",
    "fMeasureValues.append(f)\n",
    "print(\"F-Measure of this model is: %.2f\" % (f*100))+\"%\""
   ]
  },
  {
   "cell_type": "markdown",
   "metadata": {},
   "source": [
    "#### Random Forests"
   ]
  },
  {
   "cell_type": "code",
   "execution_count": 30,
   "metadata": {
    "collapsed": false
   },
   "outputs": [
    {
     "name": "stdout",
     "output_type": "stream",
     "text": [
      "Accuracy of this model is: 82.59%\n",
      "Recall of this model is: 59.48%\n",
      "Precision of this model is: 66.92%\n",
      "F-Measure of this model is: 62.98%\n"
     ]
    }
   ],
   "source": [
    "# get a handle to the classifier object, which defines the type\n",
    "RFTask1 = RandomForestClassifier(max_depth=50, n_estimators=150, n_jobs=-1)\n",
    "\n",
    "# now iterate through and get predictions, saved to the correct row in yhat\n",
    "for train, test in cv:\n",
    "    RFTask1.fit(X[train],y[train])\n",
    "    yhat[test] = RFTask1.predict(X[test])\n",
    "\n",
    "acc = mt.accuracy_score(y, yhat)\n",
    "accuracyValues.append(acc)\n",
    "print(\"Accuracy of this model is: %.2f\" % (acc*100))+\"%\"\n",
    "\n",
    "recall = mt.recall_score(y, yhat)\n",
    "recallValues.append(recall)\n",
    "print(\"Recall of this model is: %.2f\" % (recall*100))+\"%\"\n",
    "\n",
    "precision = mt.precision_score(y, yhat)\n",
    "precisionValues.append(precision)\n",
    "print(\"Precision of this model is: %.2f\" % (precision*100))+\"%\"\n",
    "\n",
    "f = mt.f1_score(y, yhat)\n",
    "fMeasureValues.append(f)\n",
    "print(\"F-Measure of this model is: %.2f\" % (f*100))+\"%\""
   ]
  },
  {
   "cell_type": "markdown",
   "metadata": {},
   "source": [
    "#### Naive-Bayes"
   ]
  },
  {
   "cell_type": "code",
   "execution_count": 31,
   "metadata": {
    "collapsed": false,
    "scrolled": true
   },
   "outputs": [
    {
     "name": "stdout",
     "output_type": "stream",
     "text": [
      "Accuracy of this model is: 56.40%\n",
      "Recall of this model is: 93.30%\n",
      "Precision of this model is: 35.64%\n",
      "F-Measure of this model is: 51.58%\n"
     ]
    }
   ],
   "source": [
    "# get a handle to the classifier object, which defines the type\n",
    "NBTask1 = GaussianNB()\n",
    "\n",
    "# now iterate through and get predictions, saved to the correct row in yhat\n",
    "for train, test in cv:\n",
    "    NBTask1.fit(X[train],y[train])\n",
    "    yhat[test] = NBTask1.predict(X[test])\n",
    "\n",
    "acc = mt.accuracy_score(y, yhat)\n",
    "accuracyValues.append(acc)\n",
    "print(\"Accuracy of this model is: %.2f\" % (acc*100))+\"%\"\n",
    "\n",
    "recall = mt.recall_score(y, yhat)\n",
    "recallValues.append(recall)\n",
    "print(\"Recall of this model is: %.2f\" % (recall*100))+\"%\"\n",
    "\n",
    "precision = mt.precision_score(y, yhat)\n",
    "precisionValues.append(precision)\n",
    "print(\"Precision of this model is: %.2f\" % (precision*100))+\"%\"\n",
    "\n",
    "f = mt.f1_score(y, yhat)\n",
    "fMeasureValues.append(f)\n",
    "print(\"F-Measure of this model is: %.2f\" % (f*100))+\"%\""
   ]
  },
  {
   "cell_type": "markdown",
   "metadata": {},
   "source": [
    "#### Overall Performance:"
   ]
  },
  {
   "cell_type": "code",
   "execution_count": 32,
   "metadata": {
    "collapsed": false
   },
   "outputs": [
    {
     "name": "stdout",
     "output_type": "stream",
     "text": [
      "Overall Averge Model Accuracy is: 76.65%\n",
      "Overall Averge Model Recall is: 67.84%\n",
      "Overall Averge Model Precision is: 61.07%\n",
      "Overall Averge Model F-Measure is: 60.92%\n"
     ]
    }
   ],
   "source": [
    "task1Acc = sum(accuracyValues)/len(accuracyValues)\n",
    "print(\"Overall Averge Model Accuracy is: %.2f\" % (task1Acc*100))+\"%\"\n",
    "\n",
    "task1Recall = sum(recallValues)/len(recallValues)\n",
    "print(\"Overall Averge Model Recall is: %.2f\" % (task1Recall*100))+\"%\"\n",
    "\n",
    "task1Precision = sum(precisionValues)/len(precisionValues)\n",
    "print(\"Overall Averge Model Precision is: %.2f\" % (task1Precision*100))+\"%\"\n",
    "\n",
    "task1FMeasure = sum(fMeasureValues)/len(fMeasureValues)\n",
    "print(\"Overall Averge Model F-Measure is: %.2f\" % (task1FMeasure*100))+\"%\"\n",
    "\n",
    "# Save these values for future analysis\n",
    "task1Values = (accuracyValues, recallValues, precisionValues, fMeasureValues)"
   ]
  },
  {
   "cell_type": "markdown",
   "metadata": {},
   "source": [
    "### Classification Task 2\n",
    "Predict if a person makes capital trades, based on their age, race, sex, etc. (all of the attributes)"
   ]
  },
  {
   "cell_type": "markdown",
   "metadata": {},
   "source": [
    "#### Prepare Variables"
   ]
  },
  {
   "cell_type": "code",
   "execution_count": 33,
   "metadata": {
    "collapsed": false
   },
   "outputs": [],
   "source": [
    "# get the dataset\n",
    "df2 = dfFinal.copy(deep=True)\n",
    "\n",
    "# create arrays to contain accuracy values\n",
    "accuracyValues = []\n",
    "recallValues = []\n",
    "precisionValues = []\n",
    "fMeasureValues = []\n",
    "\n",
    "# create variables we are more familiar with\n",
    "y = df2['hasCapitalTransactions'].values # get the labels\n",
    "del df2['hasCapitalTransactions']\n",
    "X = df2.values\n",
    "\n",
    "yhat = np.zeros(y.shape) # we will fill this with predictions\n",
    "\n",
    "# 10-fold stratified validation split! :D\n",
    "cv = StratifiedKFold(y, n_folds=10)"
   ]
  },
  {
   "cell_type": "markdown",
   "metadata": {},
   "source": [
    "#### Logistic Regression"
   ]
  },
  {
   "cell_type": "code",
   "execution_count": 34,
   "metadata": {
    "collapsed": false
   },
   "outputs": [
    {
     "name": "stdout",
     "output_type": "stream",
     "text": [
      "Accuracy of this model is: 86.86%\n",
      "Recall of this model is: 0.66%\n",
      "Precision of this model is: 53.06%\n",
      "F-Measure of this model is: 1.30%\n"
     ]
    }
   ],
   "source": [
    "# get a handle to the classifier object, which defines the type\n",
    "LRTask2 = LogisticRegression(penalty='l2', C=1.0, class_weight=None)\n",
    "\n",
    "# now iterate through and get predictions, saved to the correct row in yhat\n",
    "for train, test in cv:\n",
    "    LRTask2.fit(X[train],y[train])\n",
    "    yhat[test] = LRTask2.predict(X[test])\n",
    "\n",
    "acc = mt.accuracy_score(y, yhat)\n",
    "accuracyValues.append(acc)\n",
    "print(\"Accuracy of this model is: %.2f\" % (acc*100))+\"%\"\n",
    "\n",
    "recall = mt.recall_score(y, yhat)\n",
    "recallValues.append(recall)\n",
    "print(\"Recall of this model is: %.2f\" % (recall*100))+\"%\"\n",
    "\n",
    "precision = mt.precision_score(y, yhat)\n",
    "precisionValues.append(precision)\n",
    "print(\"Precision of this model is: %.2f\" % (precision*100))+\"%\"\n",
    "\n",
    "f = mt.f1_score(y, yhat)\n",
    "fMeasureValues.append(f)\n",
    "print(\"F-Measure of this model is: %.2f\" % (f*100))+\"%\""
   ]
  },
  {
   "cell_type": "markdown",
   "metadata": {},
   "source": [
    "#### K-Nearest Neighbors"
   ]
  },
  {
   "cell_type": "code",
   "execution_count": 35,
   "metadata": {
    "collapsed": false
   },
   "outputs": [
    {
     "name": "stdout",
     "output_type": "stream",
     "text": [
      "Accuracy of classifier is: 86.9651741294 % with k of 39\n"
     ]
    }
   ],
   "source": [
    "## We ran a loop with a simple KNN Classifier to determine the best number of nearest neighbours\n",
    "## then, in the next cell we ran it with the proper kFold Stratified distribution.\n",
    "k = 1;\n",
    "highestAcc = 0.0;\n",
    "kVal = 1;\n",
    "while k <= 51:\n",
    "    clf = KNeighborsClassifier(n_neighbors=k, weights='uniform', metric='euclidean')\n",
    "    clf.fit(X[train],y[train])\n",
    "    acc = clf.score(X[test],y[test]);\n",
    "    if acc > highestAcc:\n",
    "        highestAcc = acc;\n",
    "        kVal = k;\n",
    "    k += 2;\n",
    "print 'Accuracy of classifier is:', highestAcc * 100,\"% with k of\", kVal;"
   ]
  },
  {
   "cell_type": "code",
   "execution_count": 36,
   "metadata": {
    "collapsed": false
   },
   "outputs": [
    {
     "name": "stdout",
     "output_type": "stream",
     "text": [
      "Accuracy of this model is: 86.84%\n",
      "Recall of this model is: 1.92%\n",
      "Precision of this model is: 48.72%\n",
      "F-Measure of this model is: 3.69%\n"
     ]
    }
   ],
   "source": [
    "# Here is where we run the correct training for the KNN model.\n",
    "KNNTask2 = KNeighborsClassifier(n_neighbors=kVal)\n",
    "\n",
    "# now iterate through and get predictions, saved to the correct row in yhat\n",
    "for train, test in cv:\n",
    "    KNNTask2.fit(X[train],y[train])\n",
    "    yhat[test] = KNNTask2.predict(X[test])\n",
    "\n",
    "acc = mt.accuracy_score(y, yhat)\n",
    "accuracyValues.append(acc)\n",
    "print(\"Accuracy of this model is: %.2f\" % (acc*100))+\"%\"\n",
    "\n",
    "recall = mt.recall_score(y, yhat)\n",
    "recallValues.append(recall)\n",
    "print(\"Recall of this model is: %.2f\" % (recall*100))+\"%\"\n",
    "\n",
    "precision = mt.precision_score(y, yhat)\n",
    "precisionValues.append(precision)\n",
    "print(\"Precision of this model is: %.2f\" % (precision*100))+\"%\"\n",
    "\n",
    "f = mt.f1_score(y, yhat)\n",
    "fMeasureValues.append(f)\n",
    "print(\"F-Measure of this model is: %.2f\" % (f*100))+\"%\""
   ]
  },
  {
   "cell_type": "markdown",
   "metadata": {},
   "source": [
    "#### Random Forests"
   ]
  },
  {
   "cell_type": "code",
   "execution_count": 37,
   "metadata": {
    "collapsed": false,
    "scrolled": true
   },
   "outputs": [
    {
     "name": "stdout",
     "output_type": "stream",
     "text": [
      "Accuracy of this model is: 85.30%\n",
      "Recall of this model is: 12.59%\n",
      "Precision of this model is: 34.01%\n",
      "F-Measure of this model is: 18.37%\n"
     ]
    }
   ],
   "source": [
    "# get a handle to the classifier object, which defines the type\n",
    "RFTask2 = RandomForestClassifier(max_depth=50, n_estimators=150, n_jobs=-1)\n",
    "\n",
    "# now iterate through and get predictions, saved to the correct row in yhat\n",
    "for train, test in cv:\n",
    "    RFTask2.fit(X[train],y[train])\n",
    "    yhat[test] = RFTask2.predict(X[test])\n",
    "\n",
    "acc = mt.accuracy_score(y, yhat)\n",
    "accuracyValues.append(acc)\n",
    "print(\"Accuracy of this model is: %.2f\" % (acc*100))+\"%\"\n",
    "\n",
    "recall = mt.recall_score(y, yhat)\n",
    "recallValues.append(recall)\n",
    "print(\"Recall of this model is: %.2f\" % (recall*100))+\"%\"\n",
    "\n",
    "precision = mt.precision_score(y, yhat)\n",
    "precisionValues.append(precision)\n",
    "print(\"Precision of this model is: %.2f\" % (precision*100))+\"%\"\n",
    "\n",
    "f = mt.f1_score(y, yhat)\n",
    "fMeasureValues.append(f)\n",
    "print(\"F-Measure of this model is: %.2f\" % (f*100))+\"%\""
   ]
  },
  {
   "cell_type": "markdown",
   "metadata": {},
   "source": [
    "#### Naive-Bayes"
   ]
  },
  {
   "cell_type": "code",
   "execution_count": 38,
   "metadata": {
    "collapsed": false,
    "scrolled": false
   },
   "outputs": [
    {
     "name": "stdout",
     "output_type": "stream",
     "text": [
      "Accuracy of this model is: 59.57%\n",
      "Recall of this model is: 69.21%\n",
      "Precision of this model is: 20.00%\n",
      "F-Measure of this model is: 31.03%\n"
     ]
    }
   ],
   "source": [
    "# get a handle to the classifier object, which defines the type\n",
    "NBTask2 = GaussianNB()\n",
    "\n",
    "# now iterate through and get predictions, saved to the correct row in yhat\n",
    "for train, test in cv:\n",
    "    NBTask2.fit(X[train],y[train])\n",
    "    yhat[test] = NBTask2.predict(X[test])\n",
    "\n",
    "acc = mt.accuracy_score(y, yhat)\n",
    "accuracyValues.append(acc)\n",
    "print(\"Accuracy of this model is: %.2f\" % (acc*100))+\"%\"\n",
    "\n",
    "recall = mt.recall_score(y, yhat)\n",
    "recallValues.append(recall)\n",
    "print(\"Recall of this model is: %.2f\" % (recall*100))+\"%\"\n",
    "\n",
    "precision = mt.precision_score(y, yhat)\n",
    "precisionValues.append(precision)\n",
    "print(\"Precision of this model is: %.2f\" % (precision*100))+\"%\"\n",
    "\n",
    "f = mt.f1_score(y, yhat)\n",
    "fMeasureValues.append(f)\n",
    "print(\"F-Measure of this model is: %.2f\" % (f*100))+\"%\""
   ]
  },
  {
   "cell_type": "markdown",
   "metadata": {},
   "source": [
    "#### Overall Performance:"
   ]
  },
  {
   "cell_type": "code",
   "execution_count": 39,
   "metadata": {
    "collapsed": false
   },
   "outputs": [
    {
     "name": "stdout",
     "output_type": "stream",
     "text": [
      "Overall Averge Model Accuracy is: 79.64%\n",
      "Overall Averge Model Recall is: 21.09%\n",
      "Overall Averge Model Precision is: 38.95%\n",
      "Overall Averge Model F-Measure is: 13.60%\n"
     ]
    }
   ],
   "source": [
    "task2Acc = sum(accuracyValues)/len(accuracyValues)\n",
    "print(\"Overall Averge Model Accuracy is: %.2f\" % (task2Acc*100))+\"%\"\n",
    "\n",
    "task2Recall = sum(recallValues)/len(recallValues)\n",
    "print(\"Overall Averge Model Recall is: %.2f\" % (task2Recall*100))+\"%\"\n",
    "\n",
    "task2Precision = sum(precisionValues)/len(precisionValues)\n",
    "print(\"Overall Averge Model Precision is: %.2f\" % (task2Precision*100))+\"%\"\n",
    "\n",
    "task2FMeasure = sum(fMeasureValues)/len(fMeasureValues)\n",
    "print(\"Overall Averge Model F-Measure is: %.2f\" % (task2FMeasure*100))+\"%\"\n",
    "\n",
    "# Save these values for future analysis\n",
    "task2Values = (accuracyValues, recallValues, precisionValues, fMeasureValues)"
   ]
  },
  {
   "cell_type": "markdown",
   "metadata": {},
   "source": [
    "---\n",
    "### 4. Attribute Importance (10 points)\n",
    "**Which attributes from your analysis are most important? Use proper methods discussed in class to evaluate the importance of different attributes.**"
   ]
  },
  {
   "cell_type": "code",
   "execution_count": null,
   "metadata": {
    "collapsed": true
   },
   "outputs": [],
   "source": []
  },
  {
   "cell_type": "markdown",
   "metadata": {},
   "source": [
    "---\n",
    "### 5. Results Analysis with Evaluation Metrics (10 points)\n",
    "**Analyze the results using your chosen method of evaluation. Use visualizations of the results to bolster the analysis.**"
   ]
  },
  {
   "cell_type": "code",
   "execution_count": 40,
   "metadata": {
    "collapsed": false
   },
   "outputs": [
    {
     "data": {
      "image/png": "[encoded data removed]",
      "text/plain": [
       "<matplotlib.figure.Figure at 0x110bbcc10>"
      ]
     },
     "metadata": {},
     "output_type": "display_data"
    }
   ],
   "source": [
    "# Graph of different classification models for task 1\n",
    "fig = plt.figure(figsize=(12, 4))\n",
    "chart = fig.add_subplot(111)\n",
    "\n",
    "chart.set_xlabel('Model')\n",
    "chart.set_ylabel('Accuracy')\n",
    "chart.set_title('Classification Model Performance (Task 1)')\n",
    "\n",
    "numMetrics = np.arange(4)\n",
    "bar_width = 0.2\n",
    "\n",
    "rects1 = chart.bar(numMetrics, task1Values[0], bar_width,\n",
    "                 color='b',\n",
    "                 label='Accuracy')\n",
    "\n",
    "rects2 = chart.bar(numMetrics + bar_width, task1Values[1], bar_width,\n",
    "                 color='g',\n",
    "                 label='Recall')\n",
    "\n",
    "rects3 = chart.bar(numMetrics + bar_width*2, task1Values[2], bar_width,\n",
    "                 color='y',\n",
    "                 label='Precision')\n",
    "\n",
    "rects4 = chart.bar(numMetrics + bar_width*3, task1Values[3], bar_width,\n",
    "                 color='r',\n",
    "                 label='F-Measure')\n",
    "\n",
    "tickMarks = chart.set_xticks(numMetrics + bar_width*2)\n",
    "\n",
    "labels = ('Logistic Regression', 'K-Nearest Neighbors', 'Random Forrests', 'Naive-Bayes')\n",
    "tickLabels = chart.set_xticklabels(labels)\n",
    "\n",
    "\n",
    "chart.legend()\n",
    "\n",
    "plt.tight_layout()\n",
    "plt.show()"
   ]
  },
  {
   "cell_type": "code",
   "execution_count": 41,
   "metadata": {
    "collapsed": false
   },
   "outputs": [
    {
     "data": {
      "image/png": "[encoded data removed]",
      "text/plain": [
       "<matplotlib.figure.Figure at 0x110bd0210>"
      ]
     },
     "metadata": {},
     "output_type": "display_data"
    }
   ],
   "source": [
    "# Graph of different classification models for task 2\n",
    "fig = plt.figure(figsize=(12, 4))\n",
    "chart = fig.add_subplot(111)\n",
    "\n",
    "chart.set_xlabel('Model')\n",
    "chart.set_ylabel('Accuracy')\n",
    "chart.set_title('Classification Model Performance (Task 2)')\n",
    "\n",
    "numMetrics = np.arange(4)\n",
    "bar_width = 0.2\n",
    "\n",
    "rects1 = chart.bar(numMetrics, task2Values[0], bar_width,\n",
    "                 color='b',\n",
    "                 label='Accuracy')\n",
    "\n",
    "rects2 = chart.bar(numMetrics + bar_width, task2Values[1], bar_width,\n",
    "                 color='g',\n",
    "                 label='Recall')\n",
    "\n",
    "rects3 = chart.bar(numMetrics + bar_width*2, task2Values[2], bar_width,\n",
    "                 color='y',\n",
    "                 label='Precision')\n",
    "\n",
    "rects4 = chart.bar(numMetrics + bar_width*3, task2Values[3], bar_width,\n",
    "                 color='r',\n",
    "                 label='F-Measure')\n",
    "\n",
    "tickMarks = chart.set_xticks(numMetrics + bar_width*2)\n",
    "\n",
    "labels = ('Logistic Regression', 'K-Nearest Neighbors', 'Random Forrests', 'Naive-Bayes')\n",
    "tickLabels = chart.set_xticklabels(labels)\n",
    "\n",
    "\n",
    "chart.legend()\n",
    "\n",
    "plt.tight_layout()\n",
    "plt.show()"
   ]
  },
  {
   "cell_type": "code",
   "execution_count": 42,
   "metadata": {
    "collapsed": false
   },
   "outputs": [
    {
     "data": {
      "image/png": "[encoded data removed]",
      "text/plain": [
       "<matplotlib.figure.Figure at 0x111074850>"
      ]
     },
     "metadata": {},
     "output_type": "display_data"
    }
   ],
   "source": [
    "# Graph of classification model averages for task 1 and 2\n",
    "fig = plt.figure(figsize=(12, 4))\n",
    "\n",
    "plt.xlabel('Analysis Metric')\n",
    "plt.ylabel('Accuracy')\n",
    "plt.title('Classification Model Performance (Average)')\n",
    "numMetrics = np.arange(4)\n",
    "bar_width = 0.35\n",
    "\n",
    "task1 = (task1Acc, task1Recall, task1Precision, task1FMeasure)\n",
    "task2 = (task2Acc, task2Recall, task2Precision, task2FMeasure)\n",
    "\n",
    "rects1 = plt.bar(numMetrics, task1, bar_width,\n",
    "                 color='b',\n",
    "                 label='Task 1')\n",
    "\n",
    "rects2 = plt.bar(numMetrics + bar_width, task2, bar_width,\n",
    "                 color='g',\n",
    "                 label='Task 2')\n",
    "\n",
    "\n",
    "plt.xticks(numMetrics + bar_width, ('Accuracy', 'Recall', 'Precision', 'F-Measure'))\n",
    "plt.legend()\n",
    "plt.tight_layout()\n",
    "plt.show()"
   ]
  },
  {
   "cell_type": "markdown",
   "metadata": {},
   "source": [
    "---\n",
    "### 6. Model Advantages (10 points)\n",
    "**Discuss the advantages of each model for each classification task, if any. If there are not advantages, explain why. Is any model better than another? Is the difference significant with 95% confidence? Use proper statistical comparison methods.**"
   ]
  },
  {
   "cell_type": "code",
   "execution_count": null,
   "metadata": {
    "collapsed": true
   },
   "outputs": [],
   "source": []
  },
  {
   "cell_type": "markdown",
   "metadata": {},
   "source": [
    "Evaluation and Deployment\n",
    "---\n",
    "\n",
    "---\n",
    "### 1. Model Evaluation (5 points)\n",
    "**Build on and update your dicussion from last assignment: How useful is your model for interested parties (i.e., the companies or organizations that might want to use it for prediction)? How would you measure the model's value if it was used? How would your deploy your model for interested parites? What other data should be collected? How often would the model need to be updated, etc.?**"
   ]
  },
  {
   "cell_type": "markdown",
   "metadata": {},
   "source": [
    "As we discussed last time, our primary classification model (salary > \\$50k) has serious potential for real-world applications. While it can be difficult to obtain informormation about consumer income level, it can be an incredibly useful piece of information once obtained. Given the necessary demographic information, our model can predict whether or not it is likely that an individual makes a salary of over $50k. Overall, our 4 classification models had an average accuracy of nearly 80% with Recall, Precision, and F-Measure values of over 60%. These metrics indicate that each of our models perform very well, especially given the low cost associated with misclassification.\n",
    "\n",
    "As we stated in our previous analysis, these classification models could be used (assuming the business had access to the necessary demographic information) to help predict wether or not a specific individual would be interested in purchasing a luxury product or service, or at minimum, whether the person could actually afford this product or service. In order to measure the the value of these models, we could evaluate the conversion rate from targeted sales efforts that use the information they generate. If the models identifie a certain portion of the population that is likely to make over $50k, targeted advertisements could be made to those individuals. The rate of which those ads lead to sales could be used as an indicator for the overall value of the models.\n",
    "\n",
    "Deploying these models would require a decent amount of data regarding the individual(s) being targeted. Once this data was obtained, it would be very simple to identify the which members of the population are estimated to make a salary of $50k or more and advertisements could then be made to these individuals. After advertisements have reached their targets, data should be recorded as to whether or not the individual purchased the product or service. This data could eventually be used to form a new model which further predicts whether an individual would be interested in a specific product or service as opposed to a category of products or services.\n",
    "\n",
    "The models for our secondary classification task (whether or not an individual makes capital trades) could be very useful to the IRS. Given the necessary demographic information, the IRS could use the models we have created to isolate a group of individuals that may be more likely to evade their taxes, specifically individuals who do not fully report capital gains.\n",
    "\n",
    "To evaluate this model, the IRS could use data generated from the model and compare the percentage of audits that resulted in additional fines for this group against the same percentage generated from traditional methods. If the data generated by our model results in a higher percent of audits that lead to fines, our model will have a positive impact.\n",
    "\n",
    "In regards to updating the models for classification tasks 1 and 2, at minimum, the models should be updated every time new census data becomes availible (every 10 years). If an adequate amount of data could be obtained before new census data becomes available, it would be beneficial to further train our models to help compensate for societal changes as well as inflations impact upon salary. In addition, if the IRS were to include information about previous tax evasions along with the with demographic information, the model could be further trained to predict tax evasions as a whole."
   ]
  },
  {
   "cell_type": "markdown",
   "metadata": {},
   "source": [
    "Exceptional Work (10 points)\n",
    "---\n",
    "\n",
    "---\n",
    "**You have free reign to provide additional modeling.**"
   ]
  },
  {
   "cell_type": "markdown",
   "metadata": {
    "collapsed": true
   },
   "source": [
    "We did 4 classification models for each classification task, and we also measured the four metrics for each of their combinations, which counts for additional modeling and exceptional work. :D\n",
    "\n",
    "and\n",
    "\n",
    "Happy Easter!\n"
   ]
  },
  {
   "cell_type": "code",
   "execution_count": 43,
   "metadata": {
    "collapsed": false
   },
   "outputs": [
    {
     "ename": "SyntaxError",
     "evalue": "invalid syntax (<ipython-input-43-79a995509f3d>, line 1)",
     "output_type": "error",
     "traceback": [
      "\u001b[0;36m  File \u001b[0;32m\"<ipython-input-43-79a995509f3d>\"\u001b[0;36m, line \u001b[0;32m1\u001b[0m\n\u001b[0;31m    __            /^    .'  \\          / :.\\\u001b[0m\n\u001b[0m                   ^\u001b[0m\n\u001b[0;31mSyntaxError\u001b[0m\u001b[0;31m:\u001b[0m invalid syntax\n"
     ]
    }
   ],
   "source": [
    "      __            /^\\\n",
    "    .'  \\          / :.\\   \n",
    "   /     \\         | :: \\ \n",
    "  /   /.  \\       / ::: | \n",
    " |    |::. \\     / :::'/  \n",
    " |   / \\::. |   / :::'/\n",
    " `--`   \\'  `~~~ ':'/`\n",
    "         /         (    \n",
    "        /   0 _ 0   \\   \n",
    "      \\/     \\_/     \\/  \n",
    "    -== '.'   |   '.' ==-   \n",
    "      /\\    '-^-'    /\\    \n",
    "        \\   _   _   /             \n",
    "       .-`-((\\o/))-`-.   \n",
    "  _   /     //^\\\\     \\   _    \n",
    ".\"o\".(    , .:::. ,    ).\"o\".  \n",
    "|o  o\\\\    \\:::::/    //o  o| \n",
    " \\    \\\\   |:::::|   //    /   \n",
    "  \\    \\\\__/:::::\\__//    /   \n",
    "   \\ .:.\\  `':::'`  /.:. /      \n",
    "    \\':: |_       _| ::'/  \n",
    "     `---` `\"\"\"\"\"` `---`"
   ]
  },
  {
   "cell_type": "code",
   "execution_count": null,
   "metadata": {
    "collapsed": true
   },
   "outputs": [],
   "source": []
  },
  {
   "cell_type": "code",
   "execution_count": null,
   "metadata": {
    "collapsed": true
   },
   "outputs": [],
   "source": []
  },
  {
   "cell_type": "code",
   "execution_count": null,
   "metadata": {
    "collapsed": true
   },
   "outputs": [],
   "source": []
  },
  {
   "cell_type": "code",
   "execution_count": null,
   "metadata": {
    "collapsed": true
   },
   "outputs": [],
   "source": []
  },
  {
   "cell_type": "code",
   "execution_count": null,
   "metadata": {
    "collapsed": true
   },
   "outputs": [],
   "source": []
  },
  {
   "cell_type": "code",
   "execution_count": null,
   "metadata": {
    "collapsed": true
   },
   "outputs": [],
   "source": []
  },
  {
   "cell_type": "code",
   "execution_count": null,
   "metadata": {
    "collapsed": true
   },
   "outputs": [],
   "source": []
  },
  {
   "cell_type": "code",
   "execution_count": null,
   "metadata": {
    "collapsed": true
   },
   "outputs": [],
   "source": []
  },
  {
   "cell_type": "code",
   "execution_count": null,
   "metadata": {
    "collapsed": true
   },
   "outputs": [],
   "source": []
  },
  {
   "cell_type": "code",
   "execution_count": null,
   "metadata": {
    "collapsed": true
   },
   "outputs": [],
   "source": []
  },
  {
   "cell_type": "code",
   "execution_count": null,
   "metadata": {
    "collapsed": true
   },
   "outputs": [],
   "source": []
  },
  {
   "cell_type": "code",
   "execution_count": null,
   "metadata": {
    "collapsed": true
   },
   "outputs": [],
   "source": []
  },
  {
   "cell_type": "code",
   "execution_count": null,
   "metadata": {
    "collapsed": true
   },
   "outputs": [],
   "source": []
  },
  {
   "cell_type": "code",
   "execution_count": null,
   "metadata": {
    "collapsed": true
   },
   "outputs": [],
   "source": []
  },
  {
   "cell_type": "code",
   "execution_count": null,
   "metadata": {
    "collapsed": true
   },
   "outputs": [],
   "source": []
  },
  {
   "cell_type": "code",
   "execution_count": null,
   "metadata": {
    "collapsed": true
   },
   "outputs": [],
   "source": []
  },
  {
   "cell_type": "markdown",
   "metadata": {},
   "source": [
    "### Old Stuff below this Line\n",
    "---"
   ]
  },
  {
   "cell_type": "markdown",
   "metadata": {},
   "source": [
    "---\n",
    "### 2. Model Advantages (5 points)\n",
    "**Discuss the advantages of each model for each classification task.**"
   ]
  },
  {
   "cell_type": "markdown",
   "metadata": {},
   "source": [
    "For each of the classification tasks, both models are very accurate, with over 75% accuracy for the least accurate model.\n",
    "\n",
    "The advantage of the Logistic Regression model is that it is much faster to run than the Support Vector Machine and gives a comparable accuracy.\n",
    "\n",
    "In our computers the logistic regresion took at most 2 seconds, whereas the SVM took at least 30 seconds."
   ]
  },
  {
   "cell_type": "markdown",
   "metadata": {},
   "source": [
    "---\n",
    "### 3. Logistic Regression Features (15 points)\n",
    "**Use the weights from logistic regression to interpret the importance of different features for each classification task. Explain your interpretation.**"
   ]
  },
  {
   "cell_type": "markdown",
   "metadata": {},
   "source": [
    "#### Classification Task 1\n",
    "Predict if a person makes more than 50, 000 dollars a year, based on their age, race, sex, etc. (all of the attributes)"
   ]
  },
  {
   "cell_type": "code",
   "execution_count": null,
   "metadata": {
    "collapsed": false
   },
   "outputs": [],
   "source": [
    "# sort these attributes and spit them out\n",
    "zip_vars = zip(LRTask1.coef_.T,df1.columns)\n",
    "zip_vars.sort(key = lambda t: np.abs(t[0]))\n",
    "for coef, name in reversed(zip_vars):\n",
    "    print name, 'has importance of', coef[0]"
   ]
  },
  {
   "cell_type": "code",
   "execution_count": null,
   "metadata": {
    "collapsed": false
   },
   "outputs": [],
   "source": [
    "# now let's make a pandas Series with the names and values, and plot them\n",
    "%matplotlib inline\n",
    "\n",
    "weights = pd.Series(LRTask1.coef_[0],index=df1.columns)\n",
    "weights = weights.order(ascending=True)\n",
    "weights.plot(kind='barh',figsize=(8,20))"
   ]
  },
  {
   "cell_type": "markdown",
   "metadata": {},
   "source": [
    "As we can see from the bar chart above, the attributes that are most related to **making more than 50K a year** are:\n",
    "* The Education Level\n",
    "* Being Married to a civilian\n",
    "* Having capital transactions\n",
    "\n",
    "These make sense, especially capital transactions because if people that have enough money to be investing in stock, real state, etc, probably have a salary higher than 50K.\n",
    "Being married to a civilian (the other choice was married to someone from the air force) also shows that a typical married life might make it easy to grow professionally and increase your salary.\n",
    "Lastly, the education level, is directly related, simply because the higher the education level is, the more people will pay for your work.\n",
    "\n",
    "On the opposite end of the bar chart, the inversely related attributes are:\n",
    "* Being 17 to 20 years old\n",
    "* Never being Married\n",
    "* Having other service as occupation\n",
    "\n",
    "The age is fairly obvious, because someone under 20 years old is unlikely to make more than 50K a year.\n",
    "The interesting one is never being married, which seems to inversely affect your chances of making a high salary.\n",
    "Finally, for the occupation as \"other service\", it probably refers to the service industry or jobs as such."
   ]
  },
  {
   "cell_type": "markdown",
   "metadata": {},
   "source": [
    "#### Classification Task 2\n",
    "Predict if a person makes capital trades, based on their age, race, sex, etc. (all of the attributes)"
   ]
  },
  {
   "cell_type": "code",
   "execution_count": null,
   "metadata": {
    "collapsed": false
   },
   "outputs": [],
   "source": [
    "# sort these attributes and spit them out\n",
    "zip_vars = zip(LRTask2.coef_.T,df2.columns)\n",
    "zip_vars.sort(key = lambda t: np.abs(t[0]))\n",
    "for coef, name in reversed(zip_vars):\n",
    "    print name, 'has importance of', coef[0]"
   ]
  },
  {
   "cell_type": "code",
   "execution_count": null,
   "metadata": {
    "collapsed": false
   },
   "outputs": [],
   "source": [
    "# now let's make a pandas Series with the names and values, and plot them\n",
    "%matplotlib inline\n",
    "\n",
    "weights = pd.Series(LRTask2.coef_[0],index=df2.columns)\n",
    "weights = weights.order(ascending=True)\n",
    "weights.plot(kind='barh',figsize=(8,20))"
   ]
  },
  {
   "cell_type": "markdown",
   "metadata": {},
   "source": [
    "As we can see from the bar chart above, the attributes that are most related to **having capital trades are**:\n",
    "* Having a salary over 50K\n",
    "* Being in your 60s\n",
    "* Education level\n",
    "\n",
    "Similarly to our previous classification task, a salary larger than 50K is closely related to making investments and/or capital transactions. This is probably because of the sparse income that can be risked in an easier way.\n",
    "Apparently people on their 60s tend to make a lot of capital trades, and also the education level is directly related.\n",
    "\n",
    "On the opposite end of the bar chart, the inversely related attributes are:\n",
    "* Originating from Scotland, Thailand or the Outlying US\n",
    "* Having other service as occupation\n",
    "* Being 17 to 20 years old\n",
    "\n",
    "The age is fairly obvious, because someone under 20 years old is unlikely to make capital trades.\n",
    "The other two are more ambiguous predictions."
   ]
  },
  {
   "cell_type": "markdown",
   "metadata": {},
   "source": [
    "#### Classification Task 3\n",
    "Predict if a person is male, based on their age, race, sex, etc. (all of the attributes)"
   ]
  },
  {
   "cell_type": "code",
   "execution_count": null,
   "metadata": {
    "collapsed": false
   },
   "outputs": [],
   "source": [
    "# sort these attributes and spit them out\n",
    "zip_vars = zip(LRTask3.coef_.T,df3.columns)\n",
    "zip_vars.sort(key = lambda t: np.abs(t[0]))\n",
    "for coef, name in reversed(zip_vars):\n",
    "    print name, 'has importance of', coef[0]"
   ]
  },
  {
   "cell_type": "code",
   "execution_count": null,
   "metadata": {
    "collapsed": false
   },
   "outputs": [],
   "source": [
    "# now let's make a pandas Series with the names and values, and plot them\n",
    "%matplotlib inline\n",
    "\n",
    "weights = pd.Series(LRTask3.coef_[0],index=df3.columns)\n",
    "weights = weights.order(ascending=True)\n",
    "weights.plot(kind='barh',figsize=(8,20))"
   ]
  },
  {
   "cell_type": "markdown",
   "metadata": {},
   "source": [
    "As we can see from the bar chart above, the attributes that are most related to **being a male** are:\n",
    "* Occupation in craft/repairs, transport/moving, handlers/cleaners and fishing/farming\n",
    "* Being married to a civilian\n",
    "* Working from 41-60 hours a week\n",
    "\n",
    "We can see that those occupations are mostly associated with males, but being married and working 41-60 hours a week are hard to see the relationship.\n",
    "\n",
    "On the opposite end of the bar chart, the inversely related attributes are:\n",
    "* Being widowed or divorced or separated\n",
    "* Occupation in Adm Clerical, Prof Specialty, Private Hous Service\n",
    "* Working from 1-20 hours\n",
    "\n",
    "Considering that this census is from 1994, these predictions seem to be based on the traditional household, where woman stayed at home or wokred part time.\n",
    "It is interesting to see how being widowed, divorced or separated is mostly associated with women in this data set."
   ]
  },
  {
   "cell_type": "markdown",
   "metadata": {},
   "source": [
    "---\n",
    "### 4. SVM Support Vectors (15 points)\n",
    "**Look at the chosen support vectors for the classification task. Do these provide any insight into the data? Explain.**"
   ]
  },
  {
   "cell_type": "markdown",
   "metadata": {},
   "source": [
    "#### Classification Task 1\n",
    "Predict if a person makes more than 50, 000 dollars a year, based on their age, race, sex, etc. (all of the attributes)"
   ]
  },
  {
   "cell_type": "code",
   "execution_count": null,
   "metadata": {
    "collapsed": false
   },
   "outputs": [],
   "source": [
    "# look at the support vectors\n",
    "print svm_clf1.support_vectors_.shape\n",
    "print svm_clf1.support_.shape\n",
    "print svm_clf1.n_support_ "
   ]
  },
  {
   "cell_type": "code",
   "execution_count": null,
   "metadata": {
    "collapsed": false
   },
   "outputs": [],
   "source": [
    "# These are the support vectors of our classification task 1\n",
    "weights = pd.Series(svm_clf1.coef_[0],index=df1.columns)\n",
    "weights = weights.order(ascending=True)\n",
    "weights.plot(kind='barh',figsize=(8,20))"
   ]
  },
  {
   "cell_type": "markdown",
   "metadata": {},
   "source": [
    "The chart above indicates a variety of attributes that are either positively or negatively correlated with whether or not an individual has a salaray of **more than $50K**:\n",
    "* Education level (highly positive correlation)\n",
    "* Being married to a civilian spouse (highly positive correlation)\n",
    "* Making capital transactions (either making gains or losses, both positive correlations)\n",
    "* Having never been married before or remaining single after a divorce (both negative correlations)\n",
    "* Being between the age of 17-20 (negative correlation)\n",
    "\n",
    "These results are very understandable. It would be expected that someone who has a high education level, is married to a civilian spouse, and/or makes capital transactions would make a yearly salary of $50K or greater.\n",
    "\n",
    "It is also not surprising that being young (17-20) or being single (either never married or single after a divorce) is correlated with having a salary of less than $50k per year."
   ]
  },
  {
   "cell_type": "markdown",
   "metadata": {},
   "source": [
    "#### Classification Task 2\n",
    "Predict if a person makes capital trades, based on their age, race, sex, etc. (all of the attributes)"
   ]
  },
  {
   "cell_type": "code",
   "execution_count": null,
   "metadata": {
    "collapsed": false
   },
   "outputs": [],
   "source": [
    "# look at the support vectors\n",
    "print svm_clf2.support_vectors_.shape\n",
    "print svm_clf2.support_.shape\n",
    "print svm_clf2.n_support_ "
   ]
  },
  {
   "cell_type": "code",
   "execution_count": null,
   "metadata": {
    "collapsed": false
   },
   "outputs": [],
   "source": [
    "# These are the support vectors of our classification task 2\n",
    "weights = pd.Series(svm_clf2.coef_[0],index=df2.columns)\n",
    "weights = weights.order(ascending=True)\n",
    "weights.plot(kind='barh',figsize=(8,20))"
   ]
  },
  {
   "cell_type": "markdown",
   "metadata": {},
   "source": [
    "The chart above indicates that there are several attributes which are highly correlated with **making capital transactions** are:\n",
    "* Occupation as administration or clerical positions (negative correlation)\n",
    "* Race of Asian/Pacific Islander (negative correlation)\n",
    "* Hour Range (Either between 41-60 [negative correlation] or between 1 and 20 [positive correlation])\n",
    "* US Origin (positive correlation)\n",
    "\n",
    "These results are somewhat surprising, however, the origin and racial considerations may be rooted in cultural norms and life outlooks. The correlation between hours worked (1-20) and making capital transactions is somewhat surprising as many would imagine this correlation would be negative, however, it is positive in the context of our training set. Gathering additional information or additional instances of data may alter this attributes affect on the target."
   ]
  },
  {
   "cell_type": "markdown",
   "metadata": {},
   "source": [
    "#### Classification Task 3\n",
    "Predict if a person is male, based on their age, race, sex, etc. (all of the attributes)"
   ]
  },
  {
   "cell_type": "code",
   "execution_count": null,
   "metadata": {
    "collapsed": false
   },
   "outputs": [],
   "source": [
    "# look at the support vectors\n",
    "print svm_clf3.support_vectors_.shape\n",
    "print svm_clf3.support_.shape\n",
    "print svm_clf3.n_support_ "
   ]
  },
  {
   "cell_type": "code",
   "execution_count": null,
   "metadata": {
    "collapsed": false
   },
   "outputs": [],
   "source": [
    "# These are the support vectors of our classification task 3\n",
    "weights = pd.Series(svm_clf3.coef_[0],index=df3.columns)\n",
    "weights = weights.order(ascending=True)\n",
    "weights.plot(kind='barh',figsize=(8,20))"
   ]
  },
  {
   "cell_type": "markdown",
   "metadata": {},
   "source": [
    "Finally, this chart indicates that there are several attributes present in the model for classification task 3 which are highly correlated with whether or not an individual is **male**:\n",
    "* Being married to a civilian spouse (highly positive correlation)\n",
    "* Having an occupation as a Craftsman or Repairman (highly positive correlation)\n",
    "* Being self employed (positive correlation)\n",
    "* Having never been married before or remaining single after a divorce (both negative correlations)\n",
    "\n",
    "These results fall in line with expectations. The occupations discussed above would more than likely be dominantly male, being self employed would seem to be correlated with being male in the US, and finally, it is not surprising that males are also more likely to never become married or to remain single after becoming divorced."
   ]
  },
  {
   "cell_type": "markdown",
   "metadata": {},
   "source": [
    "---\n",
    "### 4. Model Performace (5 points)\n",
    "**Assess how well each model performs (use training/test data as appropriate)**"
   ]
  },
  {
   "cell_type": "code",
   "execution_count": null,
   "metadata": {
    "collapsed": false
   },
   "outputs": [],
   "source": [
    "# For each model, we used the same training/testing sizes:\n",
    "# TRAINING: 80% of the data set\n",
    "# TESTING: 20% of the data set"
   ]
  },
  {
   "cell_type": "code",
   "execution_count": null,
   "metadata": {
    "collapsed": false
   },
   "outputs": [],
   "source": [
    "print \"MODEL 1 PERFORMANCE:\"\n",
    "print(\"Logistic Regression: %.2f\" % (modelOneReg*100))+\"%\"\n",
    "print(\"SVM: %.2f\" % (modelOneSVM*100))+\"%\"+\"\\n\""
   ]
  },
  {
   "cell_type": "code",
   "execution_count": null,
   "metadata": {
    "collapsed": false
   },
   "outputs": [],
   "source": [
    "print \"MODEL 2 PERFORMANCE:\"\n",
    "print(\"Logistic Regression: %.2f\" % (modelTwoReg*100))+\"%\"\n",
    "print(\"SVM: %.2f\" % (modelTwoSVM*100))+\"%\"+\"\\n\""
   ]
  },
  {
   "cell_type": "code",
   "execution_count": null,
   "metadata": {
    "collapsed": false
   },
   "outputs": [],
   "source": [
    "print \"MODEL 3 PERFORMANCE:\"\n",
    "print(\"Logistic Regression: %.2f\" % (modelThreeReg*100))+\"%\"\n",
    "print(\"SVM: %.2f\" % (modelThreeSVM*100))+\"%\"+\"\\n\""
   ]
  },
  {
   "cell_type": "markdown",
   "metadata": {},
   "source": [
    "As we can see from these numbers, both models perform excedingly well.\n",
    "We highly prefer logistic regression because it runs extremely fast and produces very accurate predictions."
   ]
  },
  {
   "cell_type": "markdown",
   "metadata": {},
   "source": [
    "Exceptional Work (10 points)\n",
    "---\n",
    "\n",
    "---\n",
    "### 1. Model Evaluation (5 points)\n",
    "**You have free reign to provide additional modeling. One idea: fuse the outputs of the two classifiers to create a new classifier or use grid searching to estimate parameters of the models.**"
   ]
  },
  {
   "cell_type": "markdown",
   "metadata": {},
   "source": [
    "We did 3 classification tasks, instead of only 2, which counts for additional modeling and exceptional work. :D"
   ]
  }
 ],
 "metadata": {
  "kernelspec": {
   "display_name": "Python 2",
   "language": "python",
   "name": "python2"
  },
  "language_info": {
   "codemirror_mode": {
    "name": "ipython",
    "version": 2
   },
   "file_extension": ".py",
   "mimetype": "text/x-python",
   "name": "python",
   "nbconvert_exporter": "python",
   "pygments_lexer": "ipython2",
   "version": "2.7.6"
  }
 },
 "nbformat": 4,
 "nbformat_minor": 0
}
