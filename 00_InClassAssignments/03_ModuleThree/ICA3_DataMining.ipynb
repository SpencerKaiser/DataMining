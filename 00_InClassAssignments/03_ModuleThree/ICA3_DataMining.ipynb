{
 "cells": [
  {
   "cell_type": "markdown",
   "metadata": {},
   "source": [
    "Enter Team Member Names here (double click to edit):\n",
    "\n",
    "Spencer Kaiser\n",
    "\n",
    "________\n",
    "\n",
    "#In Class Assignment Three\n",
    "In the following assignment you will be asked to fill in python code and derivations for a number of different problems. Please read all instructions carefully and turn in the rendered notebook (or HTML of the rendered notebook) to blackboard before the end of class.\n",
    "\n",
    "**Distance Students**: please finish this assignment in 2 hours and 30 minutes. Turn in before next class per the instructions on blackboard.\n",
    "\n",
    "________________________________________________________________________________________________________\n",
    "\n",
    "##Downloading the Document Data\n",
    "Please run the following code to read in the \"20 newsgroups\" dataset from sklearn's data loading module."
   ]
  },
  {
   "cell_type": "code",
   "execution_count": 92,
   "metadata": {
    "collapsed": false
   },
   "outputs": [
    {
     "name": "stdout",
     "output_type": "stream",
     "text": [
      "features shape: (11314, 130107)\n",
      "target shape: (11314,)\n",
      "range of target: 0 19\n",
      "Data type is <class 'scipy.sparse.csr.csr_matrix'> 0.121435315436 % of the data is non-zero\n"
     ]
    }
   ],
   "source": [
    "from sklearn.datasets import fetch_20newsgroups_vectorized\n",
    "import numpy as np\n",
    "\n",
    "# this takes about 30 seconds to compute, read the next section while this downloads\n",
    "ds = fetch_20newsgroups_vectorized(subset='train')\n",
    "\n",
    "# this holds the continuous feature data (which is tfidf)\n",
    "print 'features shape:', ds.data.shape # there are ~11000 instances and ~130k features per instance\n",
    "print 'target shape:', ds.target.shape \n",
    "print 'range of target:', np.min(ds.target),np.max(ds.target)\n",
    "print 'Data type is', type(ds.data), float(ds.data.nnz)/(ds.data.shape[0]*ds.data.shape[1])*100, '% of the data is non-zero'"
   ]
  },
  {
   "cell_type": "markdown",
   "metadata": {},
   "source": [
    "##Understanding the Dataset\n",
    "Look at the description for the 20 newsgroups dataset at http://qwone.com/~jason/20Newsgroups/. You have just downloaded the \"vectorized\" version of the dataset, which means all the words inside the articles have gone through a transformation that binned them into 130 thousand features related to the words in them. You can ignore the information on TFIDF-just recognize that it is a means of converting text to a vector of data. \n",
    "\n",
    "**Question Set 1**:\n",
    "- How many instances are in the dataset? \n",
    "- What does each instance represent? \n",
    "- How many classes are in the dataset and what does each class represent?\n",
    "- Would you expect a classifier trained on this data would generalize to documents written in the past week? Why or why not?\n",
    "- Is the data represented as a sparse or dense matrix?"
   ]
  },
  {
   "cell_type": "markdown",
   "metadata": {},
   "source": [
    "___\n",
    "\n",
    "<strong>Instances</strong>: Around ~18,000 (7k of which comprise the testing subset, that's why they aren't included above) and each instance is a document from a specific newsgroup (20 in total, distributed evenly)\n",
    "\n",
    "<strong>Classes</strong>: 130,107 (including the target class) and the majority of these classes represent a TFIDF value of specific keywords which present in the article. These values relate to the target classifier which is a general category of the document.\n",
    "\n",
    "<strong>Would you expect a classifier trained on this data would generalize to documents written in the past week?</strong> Yes and no... I would expect it to classify it if the article were a 'general' news document discussing a something that occurs on a weekly basis. If the article discusses something very unique (e.g., the german plane crash), it would likely incorrectly classify it because the words used in the article may also be unique. Because the categories are quite broad and because the training dataset is quite large, I would assume the majority of articles will get classified correctly.\n",
    "\n",
    "<strong>Is the data represented as a sparse or dense matrix?</strong> The data is represented as a sparse matrix.\n",
    "\n",
    "___"
   ]
  },
  {
   "cell_type": "markdown",
   "metadata": {},
   "source": [
    "##Measures of Distance\n",
    "In the following block of code, we isolate three instances from the dataset. The instanca `a` is from the group computer graphics, `b` is from from the group recreation autos, and `c` is from group recreation motorcycle. **Exercise for part 2**: Calculate the Euclidean distance, cosine distance, and Jaccard similarity between each pair of instances using the imported function below. Remember that the Jaccard distance is only for binary valued vectors, so convert vectors to binary using a threshold. **Question for part 2**: Which distance seems more appropriate to use for this data? Why?"
   ]
  },
  {
   "cell_type": "code",
   "execution_count": 168,
   "metadata": {
    "collapsed": false
   },
   "outputs": [
    {
     "name": "stdout",
     "output_type": "stream",
     "text": [
      "Instance A is from class comp.graphics\n",
      "Instance B is from class rec.autos\n",
      "Instance C is from class rec.motorcycles\n",
      "\n",
      "\n",
      "Euclidean Distance\n",
      " ab: 1.09851846719 ac: 1.18914054254 bc: 0.917779422666\n",
      "Cosine Distance\n",
      " ab: 0.603371411376 ac: 0.707027614956 bc: 0.421159534335\n",
      "Jaccard Dissimilarity (vectors should be boolean values)\n",
      " ab: 0.882113821138 ac: 0.875471698113 bc: 0.908794788274\n",
      "\n",
      "\n",
      "Because the target value of B and C are so related (Auto & Motorcycle), Jaccard distance may not be a good estimation of ditance. \n",
      "\n",
      "That being said, either of the other two methods would be appropriate.\n"
     ]
    }
   ],
   "source": [
    "from scipy.spatial.distance import cosine\n",
    "from scipy.spatial.distance import euclidean\n",
    "from scipy.spatial.distance import jaccard\n",
    "import numpy as np\n",
    "\n",
    "# get first instance (comp)\n",
    "idx = 550\n",
    "a = ds.data[idx].todense()\n",
    "a_class = ds.target_names[ds.target[idx]]\n",
    "print 'Instance A is from class', a_class\n",
    "\n",
    "# get second instance (autos)\n",
    "idx = 4000\n",
    "b = ds.data[idx].todense()\n",
    "b_class = ds.target_names[ds.target[idx]]\n",
    "print 'Instance B is from class', b_class\n",
    "\n",
    "# get third instance (motorcycle)\n",
    "idx = 7000\n",
    "c = ds.data[idx].todense()\n",
    "c_class = ds.target_names[ds.target[idx]]\n",
    "print 'Instance C is from class', c_class\n",
    "\n",
    "#Euclidean Distance\n",
    "eucAB = euclidean(a,b);\n",
    "eucAC = euclidean(a,c);\n",
    "eucBC = euclidean(b,c);\n",
    "\n",
    "#Cosine Distance\n",
    "cosAB = cosine(a,b);\n",
    "cosAC = cosine(a,c);\n",
    "cosBC = cosine(b,c);\n",
    "\n",
    "#Jaccard Distance\n",
    "a_avg = np.average(a);\n",
    "b_avg = np.average(b);\n",
    "c_avg = np.average(c);\n",
    "\n",
    "a_binary = a >= a_avg;\n",
    "b_binary = b >= b_avg;\n",
    "c_binary = c >= c_avg;\n",
    "\n",
    "jacAB = jaccard(a_binary, b_binary);\n",
    "jacAC = jaccard(a_binary, c_binary);\n",
    "jacBC = jaccard(b_binary, c_binary);\n",
    "\n",
    "\n",
    "# Enter distance comparison below for each pair of vectors:\n",
    "p = 'Placeholder'\n",
    "print '\\n\\nEuclidean Distance\\n ab:', eucAB, 'ac:', eucAC, 'bc:',eucBC\n",
    "print 'Cosine Distance\\n ab:', cosAB, 'ac:', cosAC, 'bc:', cosBC\n",
    "print 'Jaccard Dissimilarity (vectors should be boolean values)\\n ab:', jacAB, 'ac:', jacAC, 'bc:', jacBC\n",
    "\n",
    "print '\\n\\nBecause the target value of B and C are so related (Auto & Motorcycle), Jaccard distance may not be a good estimation of ditance. '\n",
    "print '\\nThat being said, either of the other two methods would be appropriate.'"
   ]
  },
  {
   "cell_type": "markdown",
   "metadata": {},
   "source": [
    "___\n",
    "##Using scikit-learn with KNN\n",
    "Now let's use stratified cross validation with a holdout set to train a KNN model in `scikit-learn`. Use the example below to train a KNN classifier. The documentation for KNeighbors is here: http://scikit-learn.org/stable/modules/generated/sklearn.neighbors.KNeighborsClassifier.html  \n",
    "\n",
    "**Exercise for part 3**: Use the code below to test what value of `n_neighbors` works best for the given data. *Note: do NOT change the metric to be anything other than `'euclidean'`. Other distance functions are not optimized for the amount of data we are working with.* **Question for part 3**: What is the accuracy of the best classifier you can create for this data (by changing only the `n_neighbors` parameter)? "
   ]
  },
  {
   "cell_type": "code",
   "execution_count": 112,
   "metadata": {
    "collapsed": false
   },
   "outputs": [
    {
     "name": "stdout",
     "output_type": "stream",
     "text": [
      "Accuracy of classifier is: 49.2663956161 % with k of 1\n"
     ]
    }
   ],
   "source": [
    "from sklearn.cross_validation import StratifiedShuffleSplit\n",
    "from sklearn.neighbors import KNeighborsClassifier\n",
    "from sklearn.metrics import accuracy_score\n",
    "\n",
    "cv = StratifiedShuffleSplit(ds.target, n_iter = 1, test_size = 0.5, train_size=0.5)\n",
    "\n",
    "for trainidx, testidx in cv:\n",
    "    # note that these are sparse matrices\n",
    "    X_train = ds.data[trainidx] \n",
    "    X_test = ds.data[testidx] \n",
    "    y_train = ds.target[trainidx]\n",
    "    y_test = ds.target[testidx]\n",
    "\n",
    "k = 1;\n",
    "highestAcc = 0.0;\n",
    "kVal = 1;\n",
    "while k <= 10:\n",
    "    clf = KNeighborsClassifier(n_neighbors=5, weights='uniform', metric='euclidean')\n",
    "    \n",
    "    clf.fit(X_train, y_train)\n",
    "\n",
    "    acc = clf.score(X_test,y_test);\n",
    "    \n",
    "    if acc > highestAcc:\n",
    "        highestAcc = acc;\n",
    "        kVal = k;\n",
    "    \n",
    "    k += 1;\n",
    "\n",
    "\n",
    "print 'Accuracy of classifier is:', highestAcc * 100,\"% with k of\", kVal;"
   ]
  },
  {
   "cell_type": "markdown",
   "metadata": {},
   "source": [
    "**Question for part 3**: With sparse data, does the use of a KDTree representation make sense? Why or Why not?"
   ]
  },
  {
   "cell_type": "markdown",
   "metadata": {},
   "source": [
    "Yes. In general, sparser data leads to faster query times when KDTrees are used.\n",
    "\n",
    "[Source: http://scikit-learn.org/stable/modules/neighbors.html#choice-of-nearest-neighbors-algorithm]\n",
    "___"
   ]
  },
  {
   "cell_type": "markdown",
   "metadata": {
    "collapsed": true
   },
   "source": [
    "_____\n",
    "##KNN extensions - Centroids\n",
    "Now lets look at a very closely related classifier to KNN, called nearest centroid. In this classifier (which is more appropriate for big data scenarios and sparse data), the training step is used to calculate the centroids for each class. These centroids are saved. Unknown attributes, at prediction time, only need to have distances calculated for each saved centroid, drastically decreasing the time required for a prediction. **Exercise for part 4**: Use the template code below to create a nearest centroid classifier. Test which metric has the best performance: Euclidean, Cosine, or Manhattan. In `scikit-learn` you can see the documentation for NearestCentroid here: \n",
    "- http://scikit-learn.org/stable/modules/generated/sklearn.neighbors.NearestCentroid.html#sklearn.neighbors.NearestCentroid\n",
    "\n",
    "and for supported distance metrics here:\n",
    "- http://scikit-learn.org/stable/modules/generated/sklearn.metrics.pairwise.distance_metrics.html#sklearn.metrics.pairwise.distance_metrics"
   ]
  },
  {
   "cell_type": "code",
   "execution_count": 120,
   "metadata": {
    "collapsed": false
   },
   "outputs": [
    {
     "name": "stdout",
     "output_type": "stream",
     "text": [
      "The best distance metric is: Cosine with an accuracy of 49.1956867598 %.\n"
     ]
    }
   ],
   "source": [
    "from sklearn.neighbors.nearest_centroid import NearestCentroid\n",
    "\n",
    "# the parameters for the nearest centroid metric to test are:\n",
    "#    l1, l2, and cosine (all are optimized)\n",
    "\n",
    "clf_e = NearestCentroid(metric='euclidean')\n",
    "clf_e.fit(X_train, y_train);\n",
    "e_acc = clf_e.score(X_test, y_test);\n",
    "\n",
    "clf_c = NearestCentroid(metric='cosine')\n",
    "clf_c.fit(X_train, y_train);\n",
    "c_acc = clf_c.score(X_test, y_test);\n",
    "\n",
    "clf_m = NearestCentroid(metric='manhattan')\n",
    "clf_m.fit(X_train, y_train);\n",
    "m_acc = clf_m.score(X_test, y_test);\n",
    "\n",
    "acc = e_acc;\n",
    "type = \"Euclidean\";\n",
    "\n",
    "if c_acc > acc:\n",
    "    acc = c_acc;\n",
    "    type = \"Cosine\";\n",
    "    \n",
    "if m_acc > acc:\n",
    "    acc = m_acc;\n",
    "    type = \"Manhattan\";\n",
    "    \n",
    "\n",
    "\n",
    "print 'The best distance metric is:', type, \"with an accuracy of\", acc * 100, \"%.\";"
   ]
  },
  {
   "cell_type": "markdown",
   "metadata": {},
   "source": [
    "___\n",
    "##Naive Bayes Classification\n",
    "Now let's look at the use of the Naive Bayes classifier. The 20 newsgroups dataset has 20 classes and about 130,000 features. Recall that the Naive Bayes classifer calculates a posterior distribution for each possible class. Each posterior distribution is a multiplication of many conditional distributions. **Question for part 5**: With this many classes and features, how many different conditional probabilities need to be parameterized? How many priors need to be modeled?"
   ]
  },
  {
   "cell_type": "markdown",
   "metadata": {},
   "source": [
    "The number of conditional probabilities that need to be parameterized is equal to the number of classes (priors) multiplied by the number of features, which is around 260,000.\n",
    "\n",
    "We will need to model 20 priors."
   ]
  },
  {
   "cell_type": "code",
   "execution_count": 122,
   "metadata": {
    "collapsed": false
   },
   "outputs": [
    {
     "data": {
      "text/plain": [
       "2602140"
      ]
     },
     "execution_count": 122,
     "metadata": {},
     "output_type": "execute_result"
    }
   ],
   "source": [
    "# Use this space for any calculations you might want to do\n",
    "130107 * 20"
   ]
  },
  {
   "cell_type": "markdown",
   "metadata": {},
   "source": [
    "___\n",
    "##Naive Bayes in Scikit-learn\n",
    "Scikit has several implementations of the Naive Bayes classifier: `GaussianNB`, `MultinomialNB`, and `BernoulliNB`. Look at the documentation here: http://scikit-learn.org/stable/modules/naive_bayes.html Take a look at each implementation and then answer this question: **Question for part 6**: If my instances contain continuous attributes, would it be better to use Gaussian Naive Bayes, Multinomial Naive Bayes, or Bernoulli? And Why? What if the data is sparse, does this change your answer? Why or Why not?"
   ]
  },
  {
   "cell_type": "markdown",
   "metadata": {},
   "source": [
    "___\n",
    "Because the attributes are not binary values (continuous attributes), Bernoulli is more than likely not the right choice as it requires binary valued vectors and converting to binary would result in a loss in precision. Either of the other two algorithms could be used (regardless of whether the data is sparse), however, because Multinomial Naive Bayes is frequently used in the context of text analysis (including TFIDF), using this algorithm would be a likely be the best choice.\n",
    "___"
   ]
  },
  {
   "cell_type": "markdown",
   "metadata": {},
   "source": [
    "##Naive Bayes Comparison\n",
    "For the final section of this notebook let's compare the performance of Naive Bayes for document classification. Look at the parameters for `MultinomialNB`, and `BernoulliNB` (especially `alpha` and `binarize`). **Exercise for part 7**: Using the example code below, change the parameters for each classifier and see how accurate you can make the classifiers on the test set. **Question for part 7**: Why are these implementations so fast to train? What does the 'alpha' value control in these models (*i.e.*, how does it change the learned models)? "
   ]
  },
  {
   "cell_type": "code",
   "execution_count": 167,
   "metadata": {
    "collapsed": false
   },
   "outputs": [
    {
     "name": "stdout",
     "output_type": "stream",
     "text": [
      "MNB Accuracy: 88.5981969242 %.\n",
      "BNB Accuracy: 84.58546933 %.\n",
      "\n",
      "These classifiers are so fast because they decouple class conditional feature distributions which allows for independent distribution estimation.\n",
      "\n",
      "The alpha values control how the algorithm smoothens the data.\n"
     ]
    }
   ],
   "source": [
    "from sklearn.naive_bayes import MultinomialNB\n",
    "from sklearn.naive_bayes import BernoulliNB\n",
    "\n",
    "\n",
    "clf_mnb = MultinomialNB(alpha=0.001)\n",
    "clf_bnb = BernoulliNB(alpha=0.00000001, binarize=0.0)\n",
    "\n",
    "# fill in your code here\n",
    "clf_mnb.fit(X_train, y_train);\n",
    "clf_bnb.fit(X_train, y_train);\n",
    "\n",
    "mnb_acc = clf_mnb.score(X_test, y_test);\n",
    "\n",
    "bnb_acc = clf_bnb.score(X_test, y_test);\n",
    "\n",
    "print \"MNB Accuracy:\", mnb_acc *100, \"%.\"\n",
    "print \"BNB Accuracy:\", bnb_acc *100, \"%.\"\n",
    "\n",
    "\n",
    "#Naive Bayes learners and classifiers can be extremely fast compared to more sophisticated methods. The decoupling of the class conditional feature distributions means that each distribution can be independently estimated as a one dimensional distribution. This in turn helps to alleviate problems stemming from the curse of dimensionality.\n",
    "\n",
    "print '\\nThese classifiers are so fast because they decouple class conditional feature distributions which allows for independent distribution estimation.';\n",
    "print '\\nThe alpha values control how the algorithm smoothens the data.';\n"
   ]
  },
  {
   "cell_type": "markdown",
   "metadata": {
    "collapsed": true
   },
   "source": [
    "________________________________________________________________________________________________________\n",
    "\n",
    "That's all! Please **upload your rendered notebook to blackboard** and please include **team member names** in the notebook submission."
   ]
  }
 ],
 "metadata": {
  "kernelspec": {
   "display_name": "Python 2",
   "language": "python",
   "name": "python2"
  },
  "language_info": {
   "codemirror_mode": {
    "name": "ipython",
    "version": 2
   },
   "file_extension": ".py",
   "mimetype": "text/x-python",
   "name": "python",
   "nbconvert_exporter": "python",
   "pygments_lexer": "ipython2",
   "version": "2.7.6"
  }
 },
 "nbformat": 4,
 "nbformat_minor": 0
}
