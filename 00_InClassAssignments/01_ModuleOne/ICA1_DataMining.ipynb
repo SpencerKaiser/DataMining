{
 "metadata": {
  "name": "",
  "signature": "sha256:a5cf4de0b53d954bae22bb850f6e9434d753213764de6aed5fe93c264f2b3352"
 },
 "nbformat": 3,
 "nbformat_minor": 0,
 "worksheets": [
  {
   "cells": [
    {
     "cell_type": "markdown",
     "metadata": {},
     "source": [
      "This notebook may be downloaded from the following link:\n",
      "- https://www.dropbox.com/s/auupsbclyr1hfmq/ICA1_DataMining.ipynb?dl=0\n",
      "\n",
      "Enter Team Member Names here (double click to edit):\n",
      "\n",
      "- Spencer Kaiser\n",
      "- Hector Curi\n",
      "\n",
      "________"
     ]
    },
    {
     "cell_type": "markdown",
     "metadata": {},
     "source": [
      "#In Class Assignment One\n",
      "In the following assignment you will be asked to fill in python code and derivations for a number of different problems. Please read all instructions carefully and turn in the rendered notebook (or HTML of the rendered notebook) to blackboard before the end of class.\n",
      "\n",
      "**Distance Students**: please finish this assignment in 1 hour and 30 minutes. You should turn this in 1 hour and 30 minutes after receiving the download link.\n",
      "\n",
      "________________________________________________________________________________________________________\n",
      "\n",
      "##Loading the Data\n",
      "Please run the following code to read in the \"diabetes\" dataset from sklearn's data loading module. "
     ]
    },
    {
     "cell_type": "code",
     "collapsed": false,
     "input": [
      "from sklearn.datasets import load_diabetes\n",
      "import numpy as np\n",
      "\n",
      "ds = load_diabetes()\n",
      "\n",
      "\n",
      "\n",
      "\n",
      "# this holds the continuous feature data\n",
      "print 'features shape:', ds.data.shape # there are 442 instances and 10 features per instance\n",
      "print 'range of target:', np.min(ds.target),np.max(ds.target)"
     ],
     "language": "python",
     "metadata": {},
     "outputs": [
      {
       "output_type": "stream",
       "stream": "stdout",
       "text": [
        "features shape: (442, 10)\n",
        "range of target: 25.0 346.0\n"
       ]
      }
     ],
     "prompt_number": 12
    },
    {
     "cell_type": "markdown",
     "metadata": {},
     "source": [
      "________________________________________________________________________________________________________\n",
      "\n",
      "##Using Linear Regression \n",
      "In the videos, we derived the optimal values of the regression weights could be found with the following equation (you must be connected to the internet for this equation to show up properly):\n",
      "\n",
      "$$ w = (X^TX)^{-1}X^Ty $$\n",
      "\n",
      "**Question 1:** For the diabetes dataset, how many elements will the vector $w$ contain?"
     ]
    },
    {
     "cell_type": "code",
     "collapsed": false,
     "input": [
      "from numpy.linalg import inv\n",
      "\n",
      "print np.dot((np.dot((inv(np.dot(ds.data.T, ds.data))), ds.data.T)), ds.target).shape\n",
      "\n",
      "print \"It will be (11,) after adding x sub-zero [shown in the next step]\"\n",
      "\n",
      "#dsTranspose = ds.transpose()\n",
      "#print dsTranspose\n",
      "\n",
      "#"
     ],
     "language": "python",
     "metadata": {},
     "outputs": [
      {
       "output_type": "stream",
       "stream": "stdout",
       "text": [
        "(10,)\n",
        "It will be (11,) after adding x sub-zero [shown in the next step]\n"
       ]
      }
     ],
     "prompt_number": 16
    },
    {
     "cell_type": "markdown",
     "metadata": {},
     "source": [
      "________________________________________________________________________________________________________\n",
      "\n",
      "**Exercise 1:** In the following empty cell, use this equation and numpy matrix operations to find the values of the vector $w$. You will need to be sure $X$ and $y$ are created like the instructor talked about in the video. Don't forget to include any modifications to $X$ to account for the bias term in $w$. You might be interested in the following functions:\n",
      "\n",
      "- `np.hstack((mat1,mat2))` stack two matrices horizontally\n",
      "- `np.ones((rows,cols))`\n",
      "- `my_mat.T` takes transpose of numpy matrix named `my_mat`\n",
      "- `np.dot(mat1,mat2)` is matrix multiplication for two matrices\n",
      "- `np.linalg.inv(mat)` gets the inverse of the variable `mat`"
     ]
    },
    {
     "cell_type": "code",
     "collapsed": false,
     "input": [
      "# Write you code here, print the values of the regression weights using the 'print' statement in python\n",
      "\n",
      "#Create matrix for x sub-zero values\n",
      "xOne = np.ones((442,1))\n",
      "\n",
      "#Append ds.data to xOne matrix\n",
      "xData = np.hstack((xOne, ds.data))\n",
      "\n",
      "#Create w matrix\n",
      "w = np.dot((np.dot((inv(np.dot(xData.T, xData))), xData.T)), ds.target)\n",
      "\n",
      "#Print values of w matrix\n",
      "print w\n",
      "\n",
      "#Print dimensions of w matrix\n",
      "print w.shape"
     ],
     "language": "python",
     "metadata": {},
     "outputs": [
      {
       "output_type": "stream",
       "stream": "stdout",
       "text": [
        "[ 152.13348416  -10.01219782 -239.81908937  519.83978679  324.39042769\n",
        " -792.18416163  476.74583782  101.04457032  177.06417623  751.27932109\n",
        "   67.62538639]\n",
        "(11,)\n"
       ]
      }
     ],
     "prompt_number": 17
    },
    {
     "cell_type": "markdown",
     "metadata": {},
     "source": [
      "________________________________________________________________________________________________________\n",
      "\n",
      "**Exercise 2:** Scikit-learn also has a linear regression fitting implementation. Look at the scikit learn API and learn to use the linear regression method. The API is here: \n",
      "\n",
      "- API Reference: http://scikit-learn.org/stable/modules/generated/sklearn.linear_model.LinearRegression.html\n",
      "\n",
      "Use the sklearn `LinearRegression` module to check your results from the previous question. \n",
      "\n",
      "**Question 2**: Did you get the same parameters? "
     ]
    },
    {
     "cell_type": "code",
     "collapsed": false,
     "input": [
      "from sklearn.linear_model import LinearRegression\n",
      "\n",
      "# write your code here, print the values of model by accessing \n",
      "#    it properties that you learned from the API\n",
      "\n",
      "lr = LinearRegression(fit_intercept=True, normalize=False, copy_X=True)\n",
      "lr.fit(ds.data, ds.target)\n",
      "\n",
      "\n",
      "\n",
      "print 'Model coefficients are:', lr.coef_\n",
      "print '\\nModel intercept is', lr.intercept_\n",
      "print '\\nAnswer to question is', \"Yes!\"\n",
      "#For the linear regression models, it will automatically add the bias terms.\n",
      "#If the model receives all ones in a column, it will remove it for you!"
     ],
     "language": "python",
     "metadata": {},
     "outputs": [
      {
       "output_type": "stream",
       "stream": "stdout",
       "text": [
        "Model coefficients are: [ -10.01219782 -239.81908937  519.83978679  324.39042769 -792.18416163\n",
        "  476.74583782  101.04457032  177.06417623  751.27932109   67.62538639]\n",
        "\n",
        "Model intercept is 152.133484163\n",
        "\n",
        "Answer to question is Yes!\n"
       ]
      }
     ],
     "prompt_number": 18
    },
    {
     "cell_type": "markdown",
     "metadata": {},
     "source": [
      "________________________________________________________________________________________________________\n",
      "\n",
      "Recall that to predict the output from our model, $\\hat{y}$, from $w$ and $X$ we need to use the following formula:\n",
      "\n",
      "- $\\hat{y}=w^TX^T$\n",
      "\n",
      "Where $X$ is a matrix with example instances in *each row* of the matrix. \n",
      "\n",
      "**Exercise 3:** \n",
      "- *Part A:* Use matrix multiplication to predict output using numpy, $\\hat{y}_{numpy}$ and also using the sklearn regression object, $\\hat{y}_{sklearn}$.\n",
      " - **Note**: you may need to make the regression weights a column vector using the following code: `w = w.reshape((len(w),1))` This assumes your weights vector is assigned to the variable named `w`.\n",
      "- *Part B:* Calculate the mean squared error between your prediction from numpy and the target, $\\sum_i(y-\\hat{y}_{numpy})^2$. \n",
      "- *Part C:* Calculate the mean squared error between your sklearn prediction and the target, $\\sum_i(y-\\hat{y}_{sklearn})^2$."
     ]
    },
    {
     "cell_type": "code",
     "collapsed": false,
     "input": [
      "# Use this block to answer the questions\n",
      "import math\n",
      "\n",
      "wTranspose = w.reshape((len(w),1)) # make w a column vector\n",
      "yHatNP = np.dot(wTranspose.T, xData.T)\n",
      "\n",
      "npMSE = np.mean(np.square(np.subtract(ds.target, yHatNP)))\n",
      "\n",
      "yHatSK = lr.predict(ds.data)\n",
      "skMSE = np.mean(np.square(np.subtract(ds.target, yHatSK)))\n",
      "\n",
      "print 'MSE Numpy is:', npMSE\n",
      "print 'MSE Sklearn is:', skMSE"
     ],
     "language": "python",
     "metadata": {},
     "outputs": [
      {
       "output_type": "stream",
       "stream": "stdout",
       "text": [
        "MSE Numpy is: 2859.69039877\n",
        "MSE Sklearn is: 2859.69039877\n"
       ]
      }
     ],
     "prompt_number": 19
    },
    {
     "cell_type": "markdown",
     "metadata": {},
     "source": [
      "________________________________________________________________________________________________________\n",
      "\n",
      "##Using Linear Classification\n",
      "Now lets use the code you created to make a classifier with linear boundaries. Run the following code in order to load the iris dataset."
     ]
    },
    {
     "cell_type": "code",
     "collapsed": false,
     "input": [
      "from sklearn.datasets import load_iris\n",
      "import numpy as np\n",
      "\n",
      "# this will overwrite the diabetes dataset\n",
      "ds = load_iris()\n",
      "print 'features shape:', ds.data.shape # there are 150 instances and 4 features per instance\n",
      "print 'original number of classes:', len(np.unique(ds.target))\n",
      "\n",
      "# now let's make this a binary classification task\n",
      "ds.target = ds.target>1\n",
      "print 'new number of classes:', len(np.unique(ds.target))"
     ],
     "language": "python",
     "metadata": {},
     "outputs": [
      {
       "output_type": "stream",
       "stream": "stdout",
       "text": [
        "features shape: (150, 4)\n",
        "original number of classes: 3\n",
        "new number of classes: 2\n"
       ]
      }
     ],
     "prompt_number": 20
    },
    {
     "cell_type": "markdown",
     "metadata": {},
     "source": [
      "________________________________________________________________________________________________________\n",
      "\n",
      "**Exercise 4:** Now use linear regression to come up with a set of weights, `w`, that predict the class value. This is exactly like you did before for the *diabetes* dataset. However, instead of regressing to continuous values, you are just regressing to the integer value of the class (0 or 1), like we talked about in the video. Remember to account for the bias term when constructing the feature matrix, `X`. Print the weights of the linear classifier."
     ]
    },
    {
     "cell_type": "code",
     "collapsed": false,
     "input": [
      "# write your code here and print the values of the weights \n",
      "#Create matrix for x sub-zero values\n",
      "xOne = np.ones((150,1))\n",
      "\n",
      "#Append ds.data to xOne matrix\n",
      "xData = np.hstack((xOne, ds.data))\n",
      "\n",
      "#Create w matrix\n",
      "w = np.dot((np.dot((inv(np.dot(xData.T, xData))), xData.T)), ds.target)\n",
      "\n",
      "print w\n",
      "#"
     ],
     "language": "python",
     "metadata": {},
     "outputs": [
      {
       "output_type": "stream",
       "stream": "stdout",
       "text": [
        "[-0.68544646 -0.04409841  0.19823256  0.00424001  0.54654271]\n"
       ]
      }
     ],
     "prompt_number": 21
    },
    {
     "cell_type": "markdown",
     "metadata": {},
     "source": [
      "________________________________________________________________________________________________________\n",
      "\n",
      "**Exercise 5:** Finally, use a hard decision function on the output of the linear regression to make this a binary classifier. This is just like we talked about in the video, where the output of the linear regression passes through a function: \n",
      "\n",
      "- $\\hat{y}=g(w^TX^T)$ where\n",
      " - $g(w^TX^T)$ for $w^TX^T < \\alpha$ maps the predicted class to `0` \n",
      " - $g(w^TX^T)$ for $w^TX^T \\geq \\alpha$ maps the predicted class to `1`. \n",
      "\n",
      "Here, alpha is a threshold for deciding the class. \n",
      "\n",
      "**Question 3**: What value for $\\alpha$ makes the most sense? What is the accuracy of the classifier given the $\\alpha$ you chose? \n",
      "\n",
      "Note: You can calculate the accuracy with the following code: `accuracy = float(sum(yhat==y)) / len(y)` assuming you choose variable names `y` and `yhat` for the target and prediction, respectively."
     ]
    },
    {
     "cell_type": "code",
     "collapsed": false,
     "input": [
      "# use this box to predict the classification output\n",
      "alpha = 0.5\n",
      "\n",
      "wTranspose = w.reshape((len(w),1)) # make w a column vector\n",
      "yHatNP = np.dot(wTranspose.T, xData.T)\n",
      "\n",
      "a = []\n",
      "count = 1\n",
      "for val in yHatNP[0]:\n",
      "    if (val>=0.5):\n",
      "        a.append(1)\n",
      "    else:\n",
      "        a.append(0)\n",
      "\n",
      "y = ds.target\n",
      "print 'Percentage accuracy:', round(float(sum(a==y)) / len(y)*100,3),\"%\""
     ],
     "language": "python",
     "metadata": {},
     "outputs": [
      {
       "output_type": "stream",
       "stream": "stdout",
       "text": [
        "Percentage accuracy: 92.667 %\n"
       ]
      }
     ],
     "prompt_number": 22
    },
    {
     "cell_type": "markdown",
     "metadata": {},
     "source": [
      "________________________________________________________________________________________________________\n",
      "\n",
      "That's all! Please **upload your rendered notebook to blackboard** and please include **team member names** in the notebook submission."
     ]
    }
   ],
   "metadata": {}
  }
 ]
}